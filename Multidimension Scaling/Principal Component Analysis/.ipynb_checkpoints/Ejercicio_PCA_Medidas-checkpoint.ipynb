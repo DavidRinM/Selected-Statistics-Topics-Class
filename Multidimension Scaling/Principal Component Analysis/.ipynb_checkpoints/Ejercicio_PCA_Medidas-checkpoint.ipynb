{
 "cells": [
  {
   "cell_type": "markdown",
   "metadata": {
    "id": "3C0zPUc9aRdV"
   },
   "source": [
    "## Librerías"
   ]
  },
  {
   "cell_type": "code",
   "execution_count": 1,
   "metadata": {
    "ExecuteTime": {
     "end_time": "2020-09-24T01:42:51.193553Z",
     "start_time": "2020-09-24T01:42:51.162594Z"
    },
    "id": "GyaLNOD-aRdW"
   },
   "outputs": [],
   "source": [
    "import numpy\n",
    "import pandas as pd\n",
    "from sklearn.preprocessing import StandardScaler\n",
    "from sklearn.decomposition import PCA\n",
    "from datetime import date,datetime\n",
    "from dateutil.relativedelta import relativedelta as rd\n",
    "import seaborn as sns\n",
    "%matplotlib inline"
   ]
  },
  {
   "cell_type": "markdown",
   "metadata": {
    "id": "gOSZErc6aRda"
   },
   "source": [
    "## Carga de Datos"
   ]
  },
  {
   "cell_type": "code",
   "execution_count": 3,
   "metadata": {
    "ExecuteTime": {
     "end_time": "2020-09-24T01:27:11.991724Z",
     "start_time": "2020-09-24T01:27:11.973832Z"
    },
    "id": "8eOvffd-aRdb"
   },
   "outputs": [],
   "source": [
    "df = pd.read_excel(\"../Datasets/Datos Antropométricos.xlsx\")"
   ]
  },
  {
   "cell_type": "markdown",
   "metadata": {
    "id": "KmFPmYJTaRdd"
   },
   "source": [
    "## Análisis Básico"
   ]
  },
  {
   "cell_type": "code",
   "execution_count": 4,
   "metadata": {
    "ExecuteTime": {
     "end_time": "2020-09-24T01:27:15.196648Z",
     "start_time": "2020-09-24T01:27:15.178541Z"
    },
    "id": "CDAGjIMmaRde",
    "outputId": "18858b2f-3510-4546-f127-5458fd2439b3"
   },
   "outputs": [
    {
     "data": {
      "text/html": [
       "<div>\n",
       "<style scoped>\n",
       "    .dataframe tbody tr th:only-of-type {\n",
       "        vertical-align: middle;\n",
       "    }\n",
       "\n",
       "    .dataframe tbody tr th {\n",
       "        vertical-align: top;\n",
       "    }\n",
       "\n",
       "    .dataframe thead th {\n",
       "        text-align: right;\n",
       "    }\n",
       "</style>\n",
       "<table border=\"1\" class=\"dataframe\">\n",
       "  <thead>\n",
       "    <tr style=\"text-align: right;\">\n",
       "      <th></th>\n",
       "      <th>Estatura (cm)</th>\n",
       "      <th>Peso (kg)</th>\n",
       "      <th>Talla Zapato (27,28,etc)</th>\n",
       "      <th>Sexo (H,M)</th>\n",
       "      <th>Edad</th>\n",
       "    </tr>\n",
       "  </thead>\n",
       "  <tbody>\n",
       "    <tr>\n",
       "      <th>0</th>\n",
       "      <td>180</td>\n",
       "      <td>84</td>\n",
       "      <td>28.0</td>\n",
       "      <td>H</td>\n",
       "      <td>21</td>\n",
       "    </tr>\n",
       "    <tr>\n",
       "      <th>1</th>\n",
       "      <td>172</td>\n",
       "      <td>80</td>\n",
       "      <td>27.0</td>\n",
       "      <td>H</td>\n",
       "      <td>23</td>\n",
       "    </tr>\n",
       "    <tr>\n",
       "      <th>2</th>\n",
       "      <td>170</td>\n",
       "      <td>60</td>\n",
       "      <td>26.0</td>\n",
       "      <td>H</td>\n",
       "      <td>21</td>\n",
       "    </tr>\n",
       "    <tr>\n",
       "      <th>3</th>\n",
       "      <td>160</td>\n",
       "      <td>65</td>\n",
       "      <td>40.0</td>\n",
       "      <td>M</td>\n",
       "      <td>23</td>\n",
       "    </tr>\n",
       "    <tr>\n",
       "      <th>4</th>\n",
       "      <td>165</td>\n",
       "      <td>65</td>\n",
       "      <td>25.5</td>\n",
       "      <td>M</td>\n",
       "      <td>23</td>\n",
       "    </tr>\n",
       "  </tbody>\n",
       "</table>\n",
       "</div>"
      ],
      "text/plain": [
       "   Estatura (cm)  Peso (kg)  Talla Zapato (27,28,etc) Sexo (H,M)  Edad\n",
       "0            180         84                      28.0          H    21\n",
       "1            172         80                      27.0          H    23\n",
       "2            170         60                      26.0          H    21\n",
       "3            160         65                      40.0          M    23\n",
       "4            165         65                      25.5          M    23"
      ]
     },
     "execution_count": 4,
     "metadata": {},
     "output_type": "execute_result"
    }
   ],
   "source": [
    "df.head()"
   ]
  },
  {
   "cell_type": "code",
   "execution_count": 5,
   "metadata": {
    "ExecuteTime": {
     "end_time": "2020-09-24T01:27:51.095787Z",
     "start_time": "2020-09-24T01:27:51.056768Z"
    },
    "id": "cEb-fj81aRdh",
    "outputId": "3579f4a3-930d-45ff-d1d7-5ac618fcd01f"
   },
   "outputs": [
    {
     "data": {
      "text/html": [
       "<div>\n",
       "<style scoped>\n",
       "    .dataframe tbody tr th:only-of-type {\n",
       "        vertical-align: middle;\n",
       "    }\n",
       "\n",
       "    .dataframe tbody tr th {\n",
       "        vertical-align: top;\n",
       "    }\n",
       "\n",
       "    .dataframe thead th {\n",
       "        text-align: right;\n",
       "    }\n",
       "</style>\n",
       "<table border=\"1\" class=\"dataframe\">\n",
       "  <thead>\n",
       "    <tr style=\"text-align: right;\">\n",
       "      <th></th>\n",
       "      <th>Estatura (cm)</th>\n",
       "      <th>Peso (kg)</th>\n",
       "      <th>Talla Zapato (27,28,etc)</th>\n",
       "      <th>Edad</th>\n",
       "    </tr>\n",
       "  </thead>\n",
       "  <tbody>\n",
       "    <tr>\n",
       "      <th>count</th>\n",
       "      <td>39.000000</td>\n",
       "      <td>39.000000</td>\n",
       "      <td>39.000000</td>\n",
       "      <td>39.000000</td>\n",
       "    </tr>\n",
       "    <tr>\n",
       "      <th>mean</th>\n",
       "      <td>170.948718</td>\n",
       "      <td>71.923077</td>\n",
       "      <td>27.025641</td>\n",
       "      <td>23.076923</td>\n",
       "    </tr>\n",
       "    <tr>\n",
       "      <th>std</th>\n",
       "      <td>7.605222</td>\n",
       "      <td>13.604149</td>\n",
       "      <td>2.635658</td>\n",
       "      <td>2.287087</td>\n",
       "    </tr>\n",
       "    <tr>\n",
       "      <th>min</th>\n",
       "      <td>153.000000</td>\n",
       "      <td>43.000000</td>\n",
       "      <td>23.000000</td>\n",
       "      <td>21.000000</td>\n",
       "    </tr>\n",
       "    <tr>\n",
       "      <th>25%</th>\n",
       "      <td>166.500000</td>\n",
       "      <td>61.000000</td>\n",
       "      <td>26.000000</td>\n",
       "      <td>21.500000</td>\n",
       "    </tr>\n",
       "    <tr>\n",
       "      <th>50%</th>\n",
       "      <td>172.000000</td>\n",
       "      <td>72.000000</td>\n",
       "      <td>27.000000</td>\n",
       "      <td>23.000000</td>\n",
       "    </tr>\n",
       "    <tr>\n",
       "      <th>75%</th>\n",
       "      <td>175.500000</td>\n",
       "      <td>83.500000</td>\n",
       "      <td>28.000000</td>\n",
       "      <td>24.000000</td>\n",
       "    </tr>\n",
       "    <tr>\n",
       "      <th>max</th>\n",
       "      <td>184.000000</td>\n",
       "      <td>103.000000</td>\n",
       "      <td>40.000000</td>\n",
       "      <td>33.000000</td>\n",
       "    </tr>\n",
       "  </tbody>\n",
       "</table>\n",
       "</div>"
      ],
      "text/plain": [
       "       Estatura (cm)   Peso (kg)  Talla Zapato (27,28,etc)       Edad\n",
       "count      39.000000   39.000000                 39.000000  39.000000\n",
       "mean      170.948718   71.923077                 27.025641  23.076923\n",
       "std         7.605222   13.604149                  2.635658   2.287087\n",
       "min       153.000000   43.000000                 23.000000  21.000000\n",
       "25%       166.500000   61.000000                 26.000000  21.500000\n",
       "50%       172.000000   72.000000                 27.000000  23.000000\n",
       "75%       175.500000   83.500000                 28.000000  24.000000\n",
       "max       184.000000  103.000000                 40.000000  33.000000"
      ]
     },
     "execution_count": 5,
     "metadata": {},
     "output_type": "execute_result"
    }
   ],
   "source": [
    "df.describe()"
   ]
  },
  {
   "cell_type": "code",
   "execution_count": null,
   "metadata": {
    "ExecuteTime": {
     "end_time": "2020-09-24T01:30:44.834710Z",
     "start_time": "2020-09-24T01:30:44.821472Z"
    },
    "id": "mNFPR_yEaRdk",
    "outputId": "209f86e0-9a22-4063-fd1d-67115e340e66"
   },
   "outputs": [
    {
     "data": {
      "text/plain": [
       "count    39.000000\n",
       "mean     27.025641\n",
       "std       2.635658\n",
       "min      23.000000\n",
       "50%      27.000000\n",
       "90%      28.500000\n",
       "91%      28.500000\n",
       "92%      28.500000\n",
       "93%      28.670000\n",
       "94%      28.860000\n",
       "95%      29.100000\n",
       "96%      29.480000\n",
       "97%      29.860000\n",
       "98%      32.400000\n",
       "99%      36.200000\n",
       "max      40.000000\n",
       "Name: Talla Zapato (27,28,etc), dtype: float64"
      ]
     },
     "execution_count": 9,
     "metadata": {
      "tags": []
     },
     "output_type": "execute_result"
    }
   ],
   "source": [
    "df['Talla Zapato (27,28,etc)'].describe(percentiles=np.arange(0.90,1,0.01))"
   ]
  },
  {
   "cell_type": "code",
   "execution_count": 6,
   "metadata": {
    "ExecuteTime": {
     "end_time": "2020-09-24T01:31:22.888374Z",
     "start_time": "2020-09-24T01:31:22.832150Z"
    },
    "id": "t9E-srPsaRdn"
   },
   "outputs": [],
   "source": [
    "df = df.loc[df['Talla Zapato (27,28,etc)']<=30]"
   ]
  },
  {
   "cell_type": "code",
   "execution_count": 7,
   "metadata": {
    "ExecuteTime": {
     "end_time": "2020-09-24T01:32:06.178260Z",
     "start_time": "2020-09-24T01:32:06.174622Z"
    },
    "id": "GQH370UQaRdq"
   },
   "outputs": [],
   "source": [
    "df.reset_index(drop=True,inplace=True)"
   ]
  },
  {
   "cell_type": "code",
   "execution_count": 8,
   "metadata": {
    "ExecuteTime": {
     "end_time": "2020-09-24T01:32:07.009610Z",
     "start_time": "2020-09-24T01:32:06.994936Z"
    },
    "id": "ySK2iuo7aRdt",
    "outputId": "c8a9b774-8ac0-4eae-bd9c-7fc9d56f7bce"
   },
   "outputs": [
    {
     "data": {
      "text/html": [
       "<div>\n",
       "<style scoped>\n",
       "    .dataframe tbody tr th:only-of-type {\n",
       "        vertical-align: middle;\n",
       "    }\n",
       "\n",
       "    .dataframe tbody tr th {\n",
       "        vertical-align: top;\n",
       "    }\n",
       "\n",
       "    .dataframe thead th {\n",
       "        text-align: right;\n",
       "    }\n",
       "</style>\n",
       "<table border=\"1\" class=\"dataframe\">\n",
       "  <thead>\n",
       "    <tr style=\"text-align: right;\">\n",
       "      <th></th>\n",
       "      <th>Estatura (cm)</th>\n",
       "      <th>Peso (kg)</th>\n",
       "      <th>Talla Zapato (27,28,etc)</th>\n",
       "      <th>Sexo (H,M)</th>\n",
       "      <th>Edad</th>\n",
       "    </tr>\n",
       "  </thead>\n",
       "  <tbody>\n",
       "    <tr>\n",
       "      <th>0</th>\n",
       "      <td>180</td>\n",
       "      <td>84</td>\n",
       "      <td>28.0</td>\n",
       "      <td>H</td>\n",
       "      <td>21</td>\n",
       "    </tr>\n",
       "    <tr>\n",
       "      <th>1</th>\n",
       "      <td>172</td>\n",
       "      <td>80</td>\n",
       "      <td>27.0</td>\n",
       "      <td>H</td>\n",
       "      <td>23</td>\n",
       "    </tr>\n",
       "    <tr>\n",
       "      <th>2</th>\n",
       "      <td>170</td>\n",
       "      <td>60</td>\n",
       "      <td>26.0</td>\n",
       "      <td>H</td>\n",
       "      <td>21</td>\n",
       "    </tr>\n",
       "    <tr>\n",
       "      <th>3</th>\n",
       "      <td>165</td>\n",
       "      <td>65</td>\n",
       "      <td>25.5</td>\n",
       "      <td>M</td>\n",
       "      <td>23</td>\n",
       "    </tr>\n",
       "    <tr>\n",
       "      <th>4</th>\n",
       "      <td>154</td>\n",
       "      <td>50</td>\n",
       "      <td>23.5</td>\n",
       "      <td>M</td>\n",
       "      <td>26</td>\n",
       "    </tr>\n",
       "  </tbody>\n",
       "</table>\n",
       "</div>"
      ],
      "text/plain": [
       "   Estatura (cm)  Peso (kg)  Talla Zapato (27,28,etc) Sexo (H,M)  Edad\n",
       "0            180         84                      28.0          H    21\n",
       "1            172         80                      27.0          H    23\n",
       "2            170         60                      26.0          H    21\n",
       "3            165         65                      25.5          M    23\n",
       "4            154         50                      23.5          M    26"
      ]
     },
     "execution_count": 8,
     "metadata": {},
     "output_type": "execute_result"
    }
   ],
   "source": [
    "df.head()"
   ]
  },
  {
   "cell_type": "code",
   "execution_count": 9,
   "metadata": {
    "ExecuteTime": {
     "end_time": "2020-09-24T01:32:12.484678Z",
     "start_time": "2020-09-24T01:32:12.472643Z"
    },
    "id": "eUurlAZRaRdv",
    "outputId": "3061e118-59cf-47de-bc49-501c294470e6"
   },
   "outputs": [
    {
     "data": {
      "text/plain": [
       "(38, 5)"
      ]
     },
     "execution_count": 9,
     "metadata": {},
     "output_type": "execute_result"
    }
   ],
   "source": [
    "df.shape"
   ]
  },
  {
   "cell_type": "code",
   "execution_count": 10,
   "metadata": {
    "ExecuteTime": {
     "end_time": "2020-09-24T01:34:42.844828Z",
     "start_time": "2020-09-24T01:34:41.547624Z"
    },
    "id": "VsrMzjFKaRdy",
    "outputId": "62d87899-5c38-47a5-e21d-4a50c0bd1e17"
   },
   "outputs": [
    {
     "data": {
      "text/plain": [
       "array([[<AxesSubplot:title={'center':'Estatura (cm)'}>,\n",
       "        <AxesSubplot:title={'center':'Peso (kg)'}>],\n",
       "       [<AxesSubplot:title={'center':'Talla Zapato (27,28,etc)'}>,\n",
       "        <AxesSubplot:title={'center':'Edad'}>]], dtype=object)"
      ]
     },
     "execution_count": 10,
     "metadata": {},
     "output_type": "execute_result"
    },
    {
     "data": {
      "image/png": "[encoded data removed]",
      "text/plain": [
       "<Figure size 1440x1440 with 4 Axes>"
      ]
     },
     "metadata": {
      "needs_background": "light"
     },
     "output_type": "display_data"
    }
   ],
   "source": [
    "df.hist(figsize=(20,20))"
   ]
  },
  {
   "cell_type": "code",
   "execution_count": 11,
   "metadata": {
    "ExecuteTime": {
     "end_time": "2020-09-24T01:33:09.781803Z",
     "start_time": "2020-09-24T01:33:09.774684Z"
    },
    "id": "9K_gKXbeaRd1",
    "outputId": "40874ac1-faf9-4ee9-d913-7ccb7b3f2a94"
   },
   "outputs": [
    {
     "data": {
      "text/plain": [
       "H    32\n",
       "M     6\n",
       "Name: Sexo (H,M), dtype: int64"
      ]
     },
     "execution_count": 11,
     "metadata": {},
     "output_type": "execute_result"
    }
   ],
   "source": [
    "df['Sexo (H,M)'].value_counts()"
   ]
  },
  {
   "cell_type": "markdown",
   "metadata": {
    "id": "Wz-LpKmtaRd4"
   },
   "source": [
    "## Reducción de Dimensiones"
   ]
  },
  {
   "cell_type": "markdown",
   "metadata": {
    "id": "GMyfKw8jaRd4"
   },
   "source": [
    "### Definición de escala de variables"
   ]
  },
  {
   "cell_type": "code",
   "execution_count": 12,
   "metadata": {
    "ExecuteTime": {
     "end_time": "2020-09-24T01:46:06.120603Z",
     "start_time": "2020-09-24T01:46:06.116943Z"
    },
    "id": "pioxjpdCaRd5"
   },
   "outputs": [],
   "source": [
    "varc = [v for v in df.columns if v!='Sexo (H,M)']\n",
    "vard = ['Sexo (H,M)']"
   ]
  },
  {
   "cell_type": "markdown",
   "metadata": {
    "id": "9iBSn81iaRd7"
   },
   "source": [
    "### Matriz de Trabajo"
   ]
  },
  {
   "cell_type": "code",
   "execution_count": 13,
   "metadata": {
    "ExecuteTime": {
     "end_time": "2020-09-24T01:46:07.039827Z",
     "start_time": "2020-09-24T01:46:07.034965Z"
    },
    "id": "9hhiPhZAaRd8"
   },
   "outputs": [],
   "source": [
    "X = df[varc].copy()"
   ]
  },
  {
   "cell_type": "code",
   "execution_count": null,
   "metadata": {
    "ExecuteTime": {
     "end_time": "2020-09-24T01:46:07.359659Z",
     "start_time": "2020-09-24T01:46:07.345501Z"
    },
    "id": "VayJriGmaRd-",
    "outputId": "d453def5-4424-486a-ead5-c631501396cb"
   },
   "outputs": [
    {
     "data": {
      "text/html": [
       "<div>\n",
       "<style scoped>\n",
       "    .dataframe tbody tr th:only-of-type {\n",
       "        vertical-align: middle;\n",
       "    }\n",
       "\n",
       "    .dataframe tbody tr th {\n",
       "        vertical-align: top;\n",
       "    }\n",
       "\n",
       "    .dataframe thead th {\n",
       "        text-align: right;\n",
       "    }\n",
       "</style>\n",
       "<table border=\"1\" class=\"dataframe\">\n",
       "  <thead>\n",
       "    <tr style=\"text-align: right;\">\n",
       "      <th></th>\n",
       "      <th>Estatura (cm)</th>\n",
       "      <th>Peso (kg)</th>\n",
       "      <th>Talla Zapato (27,28,etc)</th>\n",
       "      <th>Edad</th>\n",
       "    </tr>\n",
       "  </thead>\n",
       "  <tbody>\n",
       "    <tr>\n",
       "      <th>0</th>\n",
       "      <td>180</td>\n",
       "      <td>84</td>\n",
       "      <td>28.0</td>\n",
       "      <td>21</td>\n",
       "    </tr>\n",
       "    <tr>\n",
       "      <th>1</th>\n",
       "      <td>172</td>\n",
       "      <td>80</td>\n",
       "      <td>27.0</td>\n",
       "      <td>23</td>\n",
       "    </tr>\n",
       "    <tr>\n",
       "      <th>2</th>\n",
       "      <td>170</td>\n",
       "      <td>60</td>\n",
       "      <td>26.0</td>\n",
       "      <td>21</td>\n",
       "    </tr>\n",
       "    <tr>\n",
       "      <th>3</th>\n",
       "      <td>165</td>\n",
       "      <td>65</td>\n",
       "      <td>25.5</td>\n",
       "      <td>23</td>\n",
       "    </tr>\n",
       "    <tr>\n",
       "      <th>4</th>\n",
       "      <td>154</td>\n",
       "      <td>50</td>\n",
       "      <td>23.5</td>\n",
       "      <td>26</td>\n",
       "    </tr>\n",
       "  </tbody>\n",
       "</table>\n",
       "</div>"
      ],
      "text/plain": [
       "   Estatura (cm)  Peso (kg)  Talla Zapato (27,28,etc)  Edad\n",
       "0            180         84                      28.0    21\n",
       "1            172         80                      27.0    23\n",
       "2            170         60                      26.0    21\n",
       "3            165         65                      25.5    23\n",
       "4            154         50                      23.5    26"
      ]
     },
     "execution_count": 38,
     "metadata": {
      "tags": []
     },
     "output_type": "execute_result"
    }
   ],
   "source": [
    "X.head()"
   ]
  },
  {
   "cell_type": "markdown",
   "metadata": {
    "id": "eCwyXMjZaReB"
   },
   "source": [
    "### Análisis de correlación lineal "
   ]
  },
  {
   "cell_type": "markdown",
   "metadata": {
    "id": "0HzrD8AKaReB"
   },
   "source": [
    "$\\rho_{x,y}=\\frac{Cov(x,y)}{\\sigma_x,\\sigma_y}$ Coef. de correl. de Pearson"
   ]
  },
  {
   "cell_type": "code",
   "execution_count": 14,
   "metadata": {
    "ExecuteTime": {
     "end_time": "2020-09-24T01:46:24.797921Z",
     "start_time": "2020-09-24T01:46:24.782695Z"
    },
    "id": "-yG19S2qaReC",
    "outputId": "22cbb334-2678-4b82-9a1a-b9a3623e78db"
   },
   "outputs": [
    {
     "data": {
      "text/html": [
       "<div>\n",
       "<style scoped>\n",
       "    .dataframe tbody tr th:only-of-type {\n",
       "        vertical-align: middle;\n",
       "    }\n",
       "\n",
       "    .dataframe tbody tr th {\n",
       "        vertical-align: top;\n",
       "    }\n",
       "\n",
       "    .dataframe thead th {\n",
       "        text-align: right;\n",
       "    }\n",
       "</style>\n",
       "<table border=\"1\" class=\"dataframe\">\n",
       "  <thead>\n",
       "    <tr style=\"text-align: right;\">\n",
       "      <th></th>\n",
       "      <th>Estatura (cm)</th>\n",
       "      <th>Peso (kg)</th>\n",
       "      <th>Talla Zapato (27,28,etc)</th>\n",
       "      <th>Edad</th>\n",
       "    </tr>\n",
       "  </thead>\n",
       "  <tbody>\n",
       "    <tr>\n",
       "      <th>Estatura (cm)</th>\n",
       "      <td>1.000000</td>\n",
       "      <td>0.584003</td>\n",
       "      <td>0.862799</td>\n",
       "      <td>0.120353</td>\n",
       "    </tr>\n",
       "    <tr>\n",
       "      <th>Peso (kg)</th>\n",
       "      <td>0.584003</td>\n",
       "      <td>1.000000</td>\n",
       "      <td>0.491492</td>\n",
       "      <td>-0.066473</td>\n",
       "    </tr>\n",
       "    <tr>\n",
       "      <th>Talla Zapato (27,28,etc)</th>\n",
       "      <td>0.862799</td>\n",
       "      <td>0.491492</td>\n",
       "      <td>1.000000</td>\n",
       "      <td>0.151861</td>\n",
       "    </tr>\n",
       "    <tr>\n",
       "      <th>Edad</th>\n",
       "      <td>0.120353</td>\n",
       "      <td>-0.066473</td>\n",
       "      <td>0.151861</td>\n",
       "      <td>1.000000</td>\n",
       "    </tr>\n",
       "  </tbody>\n",
       "</table>\n",
       "</div>"
      ],
      "text/plain": [
       "                          Estatura (cm)  Peso (kg)  Talla Zapato (27,28,etc)  \\\n",
       "Estatura (cm)                  1.000000   0.584003                  0.862799   \n",
       "Peso (kg)                      0.584003   1.000000                  0.491492   \n",
       "Talla Zapato (27,28,etc)       0.862799   0.491492                  1.000000   \n",
       "Edad                           0.120353  -0.066473                  0.151861   \n",
       "\n",
       "                              Edad  \n",
       "Estatura (cm)             0.120353  \n",
       "Peso (kg)                -0.066473  \n",
       "Talla Zapato (27,28,etc)  0.151861  \n",
       "Edad                      1.000000  "
      ]
     },
     "execution_count": 14,
     "metadata": {},
     "output_type": "execute_result"
    }
   ],
   "source": [
    "X.corr()"
   ]
  },
  {
   "cell_type": "code",
   "execution_count": 15,
   "metadata": {
    "ExecuteTime": {
     "end_time": "2020-09-24T02:13:10.685821Z",
     "start_time": "2020-09-24T02:13:10.681726Z"
    },
    "id": "g-X4TDs0aReE"
   },
   "outputs": [],
   "source": [
    "parejas = set([\"|\".join(sorted((a,b))) for a in varc for b in varc if a!=b])"
   ]
  },
  {
   "cell_type": "code",
   "execution_count": 16,
   "metadata": {
    "ExecuteTime": {
     "end_time": "2020-09-24T02:14:35.781685Z",
     "start_time": "2020-09-24T02:14:32.861308Z"
    },
    "id": "ppKNNTWZaReH",
    "outputId": "62746523-662a-44fd-e99c-c18c1dcb8407",
    "scrolled": false
   },
   "outputs": [
    {
     "data": {
      "image/png": "[encoded data removed]",
      "text/plain": [
       "<Figure size 360x360 with 1 Axes>"
      ]
     },
     "metadata": {
      "needs_background": "light"
     },
     "output_type": "display_data"
    },
    {
     "data": {
      "image/png": "[encoded data removed]",
      "text/plain": [
       "<Figure size 360x360 with 1 Axes>"
      ]
     },
     "metadata": {
      "needs_background": "light"
     },
     "output_type": "display_data"
    },
    {
     "data": {
      "image/png": "[encoded data removed]",
      "text/plain": [
       "<Figure size 360x360 with 1 Axes>"
      ]
     },
     "metadata": {
      "needs_background": "light"
     },
     "output_type": "display_data"
    },
    {
     "data": {
      "image/png": "[encoded data removed]",
      "text/plain": [
       "<Figure size 360x360 with 1 Axes>"
      ]
     },
     "metadata": {
      "needs_background": "light"
     },
     "output_type": "display_data"
    },
    {
     "data": {
      "image/png": "[encoded data removed]",
      "text/plain": [
       "<Figure size 360x360 with 1 Axes>"
      ]
     },
     "metadata": {
      "needs_background": "light"
     },
     "output_type": "display_data"
    },
    {
     "data": {
      "image/png": "[encoded data removed]",
      "text/plain": [
       "<Figure size 360x360 with 1 Axes>"
      ]
     },
     "metadata": {
      "needs_background": "light"
     },
     "output_type": "display_data"
    }
   ],
   "source": [
    "for p in parejas:\n",
    "    x,y = p.split('|')\n",
    "    sns.lmplot(data=X,x=x,y=y)"
   ]
  },
  {
   "cell_type": "code",
   "execution_count": 18,
   "metadata": {
    "ExecuteTime": {
     "end_time": "2020-09-24T02:15:26.031736Z",
     "start_time": "2020-09-24T02:15:22.497646Z"
    },
    "id": "ihVpt4ZSaReJ",
    "outputId": "6fbf2468-3690-465d-a4e7-5855c2ad83c9"
   },
   "outputs": [
    {
     "data": {
      "text/plain": [
       "<seaborn.axisgrid.PairGrid at 0x7fb4e7b9ac18>"
      ]
     },
     "execution_count": 18,
     "metadata": {},
     "output_type": "execute_result"
    },
    {
     "data": {
      "image/png": "[encoded data removed]",
      "text/plain": [
       "<Figure size 720x720 with 20 Axes>"
      ]
     },
     "metadata": {
      "needs_background": "light"
     },
     "output_type": "display_data"
    }
   ],
   "source": [
    "sns.pairplot(data=X)"
   ]
  },
  {
   "cell_type": "markdown",
   "metadata": {
    "id": "UQku9KJCaReM"
   },
   "source": [
    "### Estandarización"
   ]
  },
  {
   "cell_type": "code",
   "execution_count": 19,
   "metadata": {
    "ExecuteTime": {
     "end_time": "2020-09-24T01:57:44.103257Z",
     "start_time": "2020-09-24T01:57:44.095847Z"
    },
    "id": "EC9geQf3aReM",
    "outputId": "af07e896-7e20-4246-fedf-20a09a683c9b"
   },
   "outputs": [
    {
     "data": {
      "text/plain": [
       "StandardScaler()"
      ]
     },
     "execution_count": 19,
     "metadata": {},
     "output_type": "execute_result"
    }
   ],
   "source": [
    "sc = StandardScaler()\n",
    "sc.fit(X)"
   ]
  },
  {
   "cell_type": "code",
   "execution_count": 20,
   "metadata": {
    "ExecuteTime": {
     "end_time": "2020-09-24T01:58:07.971862Z",
     "start_time": "2020-09-24T01:58:07.966798Z"
    },
    "id": "SUa9KwTKaReP"
   },
   "outputs": [],
   "source": [
    "Xs = pd.DataFrame(sc.transform(X),columns=varc)"
   ]
  },
  {
   "cell_type": "code",
   "execution_count": 21,
   "metadata": {
    "ExecuteTime": {
     "end_time": "2020-09-24T01:58:14.882368Z",
     "start_time": "2020-09-24T01:58:14.860493Z"
    },
    "id": "49A2OqQ6aReR",
    "outputId": "64d5053c-f8ae-42d5-8147-faeef91d62f9"
   },
   "outputs": [
    {
     "data": {
      "text/html": [
       "<div>\n",
       "<style scoped>\n",
       "    .dataframe tbody tr th:only-of-type {\n",
       "        vertical-align: middle;\n",
       "    }\n",
       "\n",
       "    .dataframe tbody tr th {\n",
       "        vertical-align: top;\n",
       "    }\n",
       "\n",
       "    .dataframe thead th {\n",
       "        text-align: right;\n",
       "    }\n",
       "</style>\n",
       "<table border=\"1\" class=\"dataframe\">\n",
       "  <thead>\n",
       "    <tr style=\"text-align: right;\">\n",
       "      <th></th>\n",
       "      <th>Estatura (cm)</th>\n",
       "      <th>Peso (kg)</th>\n",
       "      <th>Talla Zapato (27,28,etc)</th>\n",
       "      <th>Edad</th>\n",
       "    </tr>\n",
       "  </thead>\n",
       "  <tbody>\n",
       "    <tr>\n",
       "      <th>0</th>\n",
       "      <td>1.185925</td>\n",
       "      <td>0.877420</td>\n",
       "      <td>0.849289</td>\n",
       "      <td>-0.909007</td>\n",
       "    </tr>\n",
       "    <tr>\n",
       "      <th>1</th>\n",
       "      <td>0.103279</td>\n",
       "      <td>0.582359</td>\n",
       "      <td>0.203829</td>\n",
       "      <td>-0.034519</td>\n",
       "    </tr>\n",
       "    <tr>\n",
       "      <th>2</th>\n",
       "      <td>-0.167383</td>\n",
       "      <td>-0.892950</td>\n",
       "      <td>-0.441631</td>\n",
       "      <td>-0.909007</td>\n",
       "    </tr>\n",
       "    <tr>\n",
       "      <th>3</th>\n",
       "      <td>-0.844037</td>\n",
       "      <td>-0.524123</td>\n",
       "      <td>-0.764360</td>\n",
       "      <td>-0.034519</td>\n",
       "    </tr>\n",
       "    <tr>\n",
       "      <th>4</th>\n",
       "      <td>-2.332675</td>\n",
       "      <td>-1.630604</td>\n",
       "      <td>-2.055280</td>\n",
       "      <td>1.277213</td>\n",
       "    </tr>\n",
       "  </tbody>\n",
       "</table>\n",
       "</div>"
      ],
      "text/plain": [
       "   Estatura (cm)  Peso (kg)  Talla Zapato (27,28,etc)      Edad\n",
       "0       1.185925   0.877420                  0.849289 -0.909007\n",
       "1       0.103279   0.582359                  0.203829 -0.034519\n",
       "2      -0.167383  -0.892950                 -0.441631 -0.909007\n",
       "3      -0.844037  -0.524123                 -0.764360 -0.034519\n",
       "4      -2.332675  -1.630604                 -2.055280  1.277213"
      ]
     },
     "execution_count": 21,
     "metadata": {},
     "output_type": "execute_result"
    }
   ],
   "source": [
    "Xs.head()"
   ]
  },
  {
   "cell_type": "code",
   "execution_count": 22,
   "metadata": {
    "ExecuteTime": {
     "end_time": "2020-09-24T02:09:08.472221Z",
     "start_time": "2020-09-24T02:09:08.427407Z"
    },
    "id": "_OVgZzMhaReT",
    "outputId": "89687332-f944-42e4-8a6c-3252e87ec6b5"
   },
   "outputs": [
    {
     "data": {
      "text/html": [
       "<div>\n",
       "<style scoped>\n",
       "    .dataframe tbody tr th:only-of-type {\n",
       "        vertical-align: middle;\n",
       "    }\n",
       "\n",
       "    .dataframe tbody tr th {\n",
       "        vertical-align: top;\n",
       "    }\n",
       "\n",
       "    .dataframe thead th {\n",
       "        text-align: right;\n",
       "    }\n",
       "</style>\n",
       "<table border=\"1\" class=\"dataframe\">\n",
       "  <thead>\n",
       "    <tr style=\"text-align: right;\">\n",
       "      <th></th>\n",
       "      <th>Estatura (cm)</th>\n",
       "      <th>Peso (kg)</th>\n",
       "      <th>Talla Zapato (27,28,etc)</th>\n",
       "      <th>Edad</th>\n",
       "    </tr>\n",
       "  </thead>\n",
       "  <tbody>\n",
       "    <tr>\n",
       "      <th>count</th>\n",
       "      <td>38.00</td>\n",
       "      <td>38.00</td>\n",
       "      <td>38.00</td>\n",
       "      <td>38.00</td>\n",
       "    </tr>\n",
       "    <tr>\n",
       "      <th>mean</th>\n",
       "      <td>0.00</td>\n",
       "      <td>-0.00</td>\n",
       "      <td>-0.00</td>\n",
       "      <td>0.00</td>\n",
       "    </tr>\n",
       "    <tr>\n",
       "      <th>std</th>\n",
       "      <td>1.01</td>\n",
       "      <td>1.01</td>\n",
       "      <td>1.01</td>\n",
       "      <td>1.01</td>\n",
       "    </tr>\n",
       "    <tr>\n",
       "      <th>min</th>\n",
       "      <td>-2.47</td>\n",
       "      <td>-2.15</td>\n",
       "      <td>-2.38</td>\n",
       "      <td>-0.91</td>\n",
       "    </tr>\n",
       "    <tr>\n",
       "      <th>25%</th>\n",
       "      <td>-0.40</td>\n",
       "      <td>-0.86</td>\n",
       "      <td>-0.44</td>\n",
       "      <td>-0.80</td>\n",
       "    </tr>\n",
       "    <tr>\n",
       "      <th>50%</th>\n",
       "      <td>0.10</td>\n",
       "      <td>-0.01</td>\n",
       "      <td>0.20</td>\n",
       "      <td>-0.03</td>\n",
       "    </tr>\n",
       "    <tr>\n",
       "      <th>75%</th>\n",
       "      <td>0.61</td>\n",
       "      <td>0.86</td>\n",
       "      <td>0.77</td>\n",
       "      <td>0.40</td>\n",
       "    </tr>\n",
       "    <tr>\n",
       "      <th>max</th>\n",
       "      <td>1.73</td>\n",
       "      <td>2.28</td>\n",
       "      <td>2.14</td>\n",
       "      <td>4.34</td>\n",
       "    </tr>\n",
       "  </tbody>\n",
       "</table>\n",
       "</div>"
      ],
      "text/plain": [
       "       Estatura (cm)  Peso (kg)  Talla Zapato (27,28,etc)   Edad\n",
       "count          38.00      38.00                     38.00  38.00\n",
       "mean            0.00      -0.00                     -0.00   0.00\n",
       "std             1.01       1.01                      1.01   1.01\n",
       "min            -2.47      -2.15                     -2.38  -0.91\n",
       "25%            -0.40      -0.86                     -0.44  -0.80\n",
       "50%             0.10      -0.01                      0.20  -0.03\n",
       "75%             0.61       0.86                      0.77   0.40\n",
       "max             1.73       2.28                      2.14   4.34"
      ]
     },
     "execution_count": 22,
     "metadata": {},
     "output_type": "execute_result"
    }
   ],
   "source": [
    "Xs.describe().round(2)"
   ]
  },
  {
   "cell_type": "markdown",
   "metadata": {
    "id": "bOpMOjpNaReW"
   },
   "source": [
    "### Componentes Principales"
   ]
  },
  {
   "cell_type": "code",
   "execution_count": 23,
   "metadata": {
    "ExecuteTime": {
     "end_time": "2020-09-24T02:16:19.557805Z",
     "start_time": "2020-09-24T02:16:19.548625Z"
    },
    "id": "zi5s3QvyaReW",
    "outputId": "d53911f1-3388-49da-b863-3984cc7b5a3d"
   },
   "outputs": [
    {
     "data": {
      "text/plain": [
       "PCA()"
      ]
     },
     "execution_count": 23,
     "metadata": {},
     "output_type": "execute_result"
    }
   ],
   "source": [
    "pca = PCA()\n",
    "pca.fit(Xs)"
   ]
  },
  {
   "cell_type": "code",
   "execution_count": 24,
   "metadata": {
    "ExecuteTime": {
     "end_time": "2020-09-24T02:16:51.404100Z",
     "start_time": "2020-09-24T02:16:51.398903Z"
    },
    "id": "IgGi4bUraReY",
    "outputId": "19336587-fb62-48fa-ef29-91b975ab5817"
   },
   "outputs": [
    {
     "data": {
      "text/plain": [
       "array([0.57991556, 0.83935706, 0.96769597, 1.        ])"
      ]
     },
     "execution_count": 24,
     "metadata": {},
     "output_type": "execute_result"
    }
   ],
   "source": [
    "pca.explained_variance_ratio_.cumsum()"
   ]
  },
  {
   "cell_type": "code",
   "execution_count": 25,
   "metadata": {
    "ExecuteTime": {
     "end_time": "2020-09-24T02:18:16.623479Z",
     "start_time": "2020-09-24T02:18:16.615657Z"
    },
    "id": "sUJN-vBeaRec"
   },
   "outputs": [],
   "source": [
    "Xp = pd.DataFrame(pca.transform(Xs),columns=['d%d'%(i+1) for i in range(4)])"
   ]
  },
  {
   "cell_type": "code",
   "execution_count": 26,
   "metadata": {
    "ExecuteTime": {
     "end_time": "2020-09-24T02:18:38.098059Z",
     "start_time": "2020-09-24T02:18:38.093065Z"
    },
    "id": "-Z3ExS-RaRee"
   },
   "outputs": [],
   "source": [
    "Xp[vard[0]] = df[vard[0]]"
   ]
  },
  {
   "cell_type": "markdown",
   "metadata": {
    "id": "R81-rAjYaReg"
   },
   "source": [
    "### Visualización en dos dimensiones"
   ]
  },
  {
   "cell_type": "code",
   "execution_count": 27,
   "metadata": {
    "ExecuteTime": {
     "end_time": "2020-09-24T02:23:51.757585Z",
     "start_time": "2020-09-24T02:23:50.825489Z"
    },
    "id": "8XQPCsxoaReg",
    "outputId": "549fa0bf-bcea-4434-fe7c-7816f2570a9f"
   },
   "outputs": [
    {
     "data": {
      "text/plain": [
       "<seaborn.axisgrid.FacetGrid at 0x7fb4e6e464e0>"
      ]
     },
     "execution_count": 27,
     "metadata": {},
     "output_type": "execute_result"
    },
    {
     "data": {
      "image/png": "[encoded data removed]",
      "text/plain": [
       "<Figure size 360x360 with 1 Axes>"
      ]
     },
     "metadata": {
      "needs_background": "light"
     },
     "output_type": "display_data"
    },
    {
     "data": {
      "image/png": "[encoded data removed]",
      "text/plain": [
       "<Figure size 422x360 with 1 Axes>"
      ]
     },
     "metadata": {
      "needs_background": "light"
     },
     "output_type": "display_data"
    }
   ],
   "source": [
    "sns.lmplot(data=Xp,x='d1',y='d2',fit_reg=False)\n",
    "sns.lmplot(data=Xp,x='d1',y='d2',fit_reg=False,hue=vard[0])"
   ]
  },
  {
   "cell_type": "code",
   "execution_count": null,
   "metadata": {
    "id": "JXZ6koLCaRej"
   },
   "outputs": [],
   "source": []
  }
 ],
 "metadata": {
  "colab": {
   "name": "Ejercicio PCA Medidas .ipynb",
   "provenance": []
  },
  "kernelspec": {
   "display_name": "tse",
   "language": "python",
   "name": "tse"
  },
  "language_info": {
   "codemirror_mode": {
    "name": "ipython",
    "version": 3
   },
   "file_extension": ".py",
   "mimetype": "text/x-python",
   "name": "python",
   "nbconvert_exporter": "python",
   "pygments_lexer": "ipython3",
   "version": "3.6.9"
  },
  "toc": {
   "base_numbering": 1,
   "nav_menu": {},
   "number_sections": true,
   "sideBar": true,
   "skip_h1_title": false,
   "title_cell": "Table of Contents",
   "title_sidebar": "Contents",
   "toc_cell": false,
   "toc_position": {},
   "toc_section_display": true,
   "toc_window_display": false
  },
  "varInspector": {
   "cols": {
    "lenName": 16,
    "lenType": 16,
    "lenVar": 40
   },
   "kernels_config": {
    "python": {
     "delete_cmd_postfix": "",
     "delete_cmd_prefix": "del ",
     "library": "var_list.py",
     "varRefreshCmd": "print(var_dic_list())"
    },
    "r": {
     "delete_cmd_postfix": ") ",
     "delete_cmd_prefix": "rm(",
     "library": "var_list.r",
     "varRefreshCmd": "cat(var_dic_list()) "
    }
   },
   "types_to_exclude": [
    "module",
    "function",
    "builtin_function_or_method",
    "instance",
    "_Feature"
   ],
   "window_display": false
  }
 },
 "nbformat": 4,
 "nbformat_minor": 1
}
