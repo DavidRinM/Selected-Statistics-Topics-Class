{
  "nbformat": 4,
  "nbformat_minor": 0,
  "metadata": {
    "kernelspec": {
      "display_name": "tsc",
      "language": "python",
      "name": "tsc"
    },
    "language_info": {
      "codemirror_mode": {
        "name": "ipython",
        "version": 3
      },
      "file_extension": ".py",
      "mimetype": "text/x-python",
      "name": "python",
      "nbconvert_exporter": "python",
      "pygments_lexer": "ipython3",
      "version": "3.6.9"
    },
    "toc": {
      "base_numbering": 1,
      "nav_menu": {},
      "number_sections": true,
      "sideBar": true,
      "skip_h1_title": false,
      "title_cell": "Table of Contents",
      "title_sidebar": "Contents",
      "toc_cell": false,
      "toc_position": {},
      "toc_section_display": true,
      "toc_window_display": false
    },
    "varInspector": {
      "cols": {
        "lenName": 16,
        "lenType": 16,
        "lenVar": 40
      },
      "kernels_config": {
        "python": {
          "delete_cmd_postfix": "",
          "delete_cmd_prefix": "del ",
          "library": "var_list.py",
          "varRefreshCmd": "print(var_dic_list())"
        },
        "r": {
          "delete_cmd_postfix": ") ",
          "delete_cmd_prefix": "rm(",
          "library": "var_list.r",
          "varRefreshCmd": "cat(var_dic_list()) "
        }
      },
      "types_to_exclude": [
        "module",
        "function",
        "builtin_function_or_method",
        "instance",
        "_Feature"
      ],
      "window_display": false
    },
    "colab": {
      "name": "Ejercicio MDS Medidas.ipynb",
      "provenance": []
    }
  },
  "cells": [
    {
      "cell_type": "markdown",
      "metadata": {
        "id": "rhASDwrKqxR1"
      },
      "source": [
        "## Librerías"
      ]
    },
    {
      "cell_type": "code",
      "metadata": {
        "ExecuteTime": {
          "end_time": "2020-09-29T02:17:14.299830Z",
          "start_time": "2020-09-29T02:17:12.978771Z"
        },
        "id": "2mL1R92TqxR2"
      },
      "source": [
        "import numpy\n",
        "import pandas as pd\n",
        "from sklearn.manifold import MDS\n",
        "from datetime import date,datetime\n",
        "from dateutil.relativedelta import relativedelta as rd\n",
        "import seaborn as sns\n",
        "%matplotlib inline"
      ],
      "execution_count": null,
      "outputs": []
    },
    {
      "cell_type": "markdown",
      "metadata": {
        "id": "89FHfB_sqxR7"
      },
      "source": [
        "## Carga de Datos"
      ]
    },
    {
      "cell_type": "code",
      "metadata": {
        "ExecuteTime": {
          "end_time": "2020-09-29T02:17:14.381818Z",
          "start_time": "2020-09-29T02:17:14.323887Z"
        },
        "id": "hPsaH70QqxR8"
      },
      "source": [
        "df = pd.read_excel('data/Datos Antropométricos.xlsx')"
      ],
      "execution_count": null,
      "outputs": []
    },
    {
      "cell_type": "markdown",
      "metadata": {
        "id": "kbJCZs0LqxR_"
      },
      "source": [
        "## Análisis Básico"
      ]
    },
    {
      "cell_type": "code",
      "metadata": {
        "ExecuteTime": {
          "end_time": "2020-09-29T02:17:15.130355Z",
          "start_time": "2020-09-29T02:17:15.114806Z"
        },
        "id": "qjtDlBQaqxR_",
        "outputId": "3866b8ac-67ed-4d59-9118-dfa23636cf45"
      },
      "source": [
        "df.head()"
      ],
      "execution_count": null,
      "outputs": [
        {
          "output_type": "execute_result",
          "data": {
            "text/html": [
              "<div>\n",
              "<style scoped>\n",
              "    .dataframe tbody tr th:only-of-type {\n",
              "        vertical-align: middle;\n",
              "    }\n",
              "\n",
              "    .dataframe tbody tr th {\n",
              "        vertical-align: top;\n",
              "    }\n",
              "\n",
              "    .dataframe thead th {\n",
              "        text-align: right;\n",
              "    }\n",
              "</style>\n",
              "<table border=\"1\" class=\"dataframe\">\n",
              "  <thead>\n",
              "    <tr style=\"text-align: right;\">\n",
              "      <th></th>\n",
              "      <th>Estatura (cm)</th>\n",
              "      <th>Peso (kg)</th>\n",
              "      <th>Talla Zapato (27,28,etc)</th>\n",
              "      <th>Sexo (H,M)</th>\n",
              "      <th>Edad</th>\n",
              "    </tr>\n",
              "  </thead>\n",
              "  <tbody>\n",
              "    <tr>\n",
              "      <th>0</th>\n",
              "      <td>180</td>\n",
              "      <td>84</td>\n",
              "      <td>28.0</td>\n",
              "      <td>H</td>\n",
              "      <td>21</td>\n",
              "    </tr>\n",
              "    <tr>\n",
              "      <th>1</th>\n",
              "      <td>172</td>\n",
              "      <td>80</td>\n",
              "      <td>27.0</td>\n",
              "      <td>H</td>\n",
              "      <td>23</td>\n",
              "    </tr>\n",
              "    <tr>\n",
              "      <th>2</th>\n",
              "      <td>170</td>\n",
              "      <td>60</td>\n",
              "      <td>26.0</td>\n",
              "      <td>H</td>\n",
              "      <td>21</td>\n",
              "    </tr>\n",
              "    <tr>\n",
              "      <th>3</th>\n",
              "      <td>160</td>\n",
              "      <td>65</td>\n",
              "      <td>40.0</td>\n",
              "      <td>M</td>\n",
              "      <td>23</td>\n",
              "    </tr>\n",
              "    <tr>\n",
              "      <th>4</th>\n",
              "      <td>165</td>\n",
              "      <td>65</td>\n",
              "      <td>25.5</td>\n",
              "      <td>M</td>\n",
              "      <td>23</td>\n",
              "    </tr>\n",
              "  </tbody>\n",
              "</table>\n",
              "</div>"
            ],
            "text/plain": [
              "   Estatura (cm)  Peso (kg)  Talla Zapato (27,28,etc) Sexo (H,M)  Edad\n",
              "0            180         84                      28.0          H    21\n",
              "1            172         80                      27.0          H    23\n",
              "2            170         60                      26.0          H    21\n",
              "3            160         65                      40.0          M    23\n",
              "4            165         65                      25.5          M    23"
            ]
          },
          "metadata": {
            "tags": []
          },
          "execution_count": 3
        }
      ]
    },
    {
      "cell_type": "code",
      "metadata": {
        "ExecuteTime": {
          "end_time": "2020-09-29T02:17:15.890091Z",
          "start_time": "2020-09-29T02:17:15.851672Z"
        },
        "id": "K3ZsZ0NzqxSD",
        "outputId": "3c845dcc-d1ca-4df0-bc4e-78a77f385be9"
      },
      "source": [
        "df.describe()"
      ],
      "execution_count": null,
      "outputs": [
        {
          "output_type": "execute_result",
          "data": {
            "text/html": [
              "<div>\n",
              "<style scoped>\n",
              "    .dataframe tbody tr th:only-of-type {\n",
              "        vertical-align: middle;\n",
              "    }\n",
              "\n",
              "    .dataframe tbody tr th {\n",
              "        vertical-align: top;\n",
              "    }\n",
              "\n",
              "    .dataframe thead th {\n",
              "        text-align: right;\n",
              "    }\n",
              "</style>\n",
              "<table border=\"1\" class=\"dataframe\">\n",
              "  <thead>\n",
              "    <tr style=\"text-align: right;\">\n",
              "      <th></th>\n",
              "      <th>Estatura (cm)</th>\n",
              "      <th>Peso (kg)</th>\n",
              "      <th>Talla Zapato (27,28,etc)</th>\n",
              "      <th>Edad</th>\n",
              "    </tr>\n",
              "  </thead>\n",
              "  <tbody>\n",
              "    <tr>\n",
              "      <th>count</th>\n",
              "      <td>39.000000</td>\n",
              "      <td>39.000000</td>\n",
              "      <td>39.000000</td>\n",
              "      <td>39.000000</td>\n",
              "    </tr>\n",
              "    <tr>\n",
              "      <th>mean</th>\n",
              "      <td>170.948718</td>\n",
              "      <td>71.923077</td>\n",
              "      <td>27.025641</td>\n",
              "      <td>23.076923</td>\n",
              "    </tr>\n",
              "    <tr>\n",
              "      <th>std</th>\n",
              "      <td>7.605222</td>\n",
              "      <td>13.604149</td>\n",
              "      <td>2.635658</td>\n",
              "      <td>2.287087</td>\n",
              "    </tr>\n",
              "    <tr>\n",
              "      <th>min</th>\n",
              "      <td>153.000000</td>\n",
              "      <td>43.000000</td>\n",
              "      <td>23.000000</td>\n",
              "      <td>21.000000</td>\n",
              "    </tr>\n",
              "    <tr>\n",
              "      <th>25%</th>\n",
              "      <td>166.500000</td>\n",
              "      <td>61.000000</td>\n",
              "      <td>26.000000</td>\n",
              "      <td>21.500000</td>\n",
              "    </tr>\n",
              "    <tr>\n",
              "      <th>50%</th>\n",
              "      <td>172.000000</td>\n",
              "      <td>72.000000</td>\n",
              "      <td>27.000000</td>\n",
              "      <td>23.000000</td>\n",
              "    </tr>\n",
              "    <tr>\n",
              "      <th>75%</th>\n",
              "      <td>175.500000</td>\n",
              "      <td>83.500000</td>\n",
              "      <td>28.000000</td>\n",
              "      <td>24.000000</td>\n",
              "    </tr>\n",
              "    <tr>\n",
              "      <th>max</th>\n",
              "      <td>184.000000</td>\n",
              "      <td>103.000000</td>\n",
              "      <td>40.000000</td>\n",
              "      <td>33.000000</td>\n",
              "    </tr>\n",
              "  </tbody>\n",
              "</table>\n",
              "</div>"
            ],
            "text/plain": [
              "       Estatura (cm)   Peso (kg)  Talla Zapato (27,28,etc)       Edad\n",
              "count      39.000000   39.000000                 39.000000  39.000000\n",
              "mean      170.948718   71.923077                 27.025641  23.076923\n",
              "std         7.605222   13.604149                  2.635658   2.287087\n",
              "min       153.000000   43.000000                 23.000000  21.000000\n",
              "25%       166.500000   61.000000                 26.000000  21.500000\n",
              "50%       172.000000   72.000000                 27.000000  23.000000\n",
              "75%       175.500000   83.500000                 28.000000  24.000000\n",
              "max       184.000000  103.000000                 40.000000  33.000000"
            ]
          },
          "metadata": {
            "tags": []
          },
          "execution_count": 4
        }
      ]
    },
    {
      "cell_type": "code",
      "metadata": {
        "ExecuteTime": {
          "end_time": "2020-09-29T02:17:17.069509Z",
          "start_time": "2020-09-29T02:17:17.055807Z"
        },
        "id": "5ZOS-TXIqxSG",
        "outputId": "f2ce8b2a-fa2c-4485-afa3-5d0390395587"
      },
      "source": [
        "df['Talla Zapato (27,28,etc)'].describe(percentiles=np.arange(0.90,1,0.01))"
      ],
      "execution_count": null,
      "outputs": [
        {
          "output_type": "execute_result",
          "data": {
            "text/plain": [
              "count    39.000000\n",
              "mean     27.025641\n",
              "std       2.635658\n",
              "min      23.000000\n",
              "50%      27.000000\n",
              "90%      28.500000\n",
              "91%      28.500000\n",
              "92%      28.500000\n",
              "93%      28.670000\n",
              "94%      28.860000\n",
              "95%      29.100000\n",
              "96%      29.480000\n",
              "97%      29.860000\n",
              "98%      32.400000\n",
              "99%      36.200000\n",
              "max      40.000000\n",
              "Name: Talla Zapato (27,28,etc), dtype: float64"
            ]
          },
          "metadata": {
            "tags": []
          },
          "execution_count": 5
        }
      ]
    },
    {
      "cell_type": "code",
      "metadata": {
        "ExecuteTime": {
          "end_time": "2020-09-29T02:17:17.725331Z",
          "start_time": "2020-09-29T02:17:17.716141Z"
        },
        "id": "rJtx5Dj7qxSJ"
      },
      "source": [
        "df = df.loc[df['Talla Zapato (27,28,etc)']<=30]"
      ],
      "execution_count": null,
      "outputs": []
    },
    {
      "cell_type": "code",
      "metadata": {
        "ExecuteTime": {
          "end_time": "2020-09-29T02:17:19.214045Z",
          "start_time": "2020-09-29T02:17:19.210751Z"
        },
        "id": "2Ahc0OXaqxSL"
      },
      "source": [
        "df.reset_index(drop=True,inplace=True)"
      ],
      "execution_count": null,
      "outputs": []
    },
    {
      "cell_type": "code",
      "metadata": {
        "ExecuteTime": {
          "end_time": "2020-09-29T02:17:19.635268Z",
          "start_time": "2020-09-29T02:17:19.624534Z"
        },
        "id": "KikVqfZvqxSO",
        "outputId": "ccef4403-253a-4210-f575-00062f14df57"
      },
      "source": [
        "df.head()"
      ],
      "execution_count": null,
      "outputs": [
        {
          "output_type": "execute_result",
          "data": {
            "text/html": [
              "<div>\n",
              "<style scoped>\n",
              "    .dataframe tbody tr th:only-of-type {\n",
              "        vertical-align: middle;\n",
              "    }\n",
              "\n",
              "    .dataframe tbody tr th {\n",
              "        vertical-align: top;\n",
              "    }\n",
              "\n",
              "    .dataframe thead th {\n",
              "        text-align: right;\n",
              "    }\n",
              "</style>\n",
              "<table border=\"1\" class=\"dataframe\">\n",
              "  <thead>\n",
              "    <tr style=\"text-align: right;\">\n",
              "      <th></th>\n",
              "      <th>Estatura (cm)</th>\n",
              "      <th>Peso (kg)</th>\n",
              "      <th>Talla Zapato (27,28,etc)</th>\n",
              "      <th>Sexo (H,M)</th>\n",
              "      <th>Edad</th>\n",
              "    </tr>\n",
              "  </thead>\n",
              "  <tbody>\n",
              "    <tr>\n",
              "      <th>0</th>\n",
              "      <td>180</td>\n",
              "      <td>84</td>\n",
              "      <td>28.0</td>\n",
              "      <td>H</td>\n",
              "      <td>21</td>\n",
              "    </tr>\n",
              "    <tr>\n",
              "      <th>1</th>\n",
              "      <td>172</td>\n",
              "      <td>80</td>\n",
              "      <td>27.0</td>\n",
              "      <td>H</td>\n",
              "      <td>23</td>\n",
              "    </tr>\n",
              "    <tr>\n",
              "      <th>2</th>\n",
              "      <td>170</td>\n",
              "      <td>60</td>\n",
              "      <td>26.0</td>\n",
              "      <td>H</td>\n",
              "      <td>21</td>\n",
              "    </tr>\n",
              "    <tr>\n",
              "      <th>3</th>\n",
              "      <td>165</td>\n",
              "      <td>65</td>\n",
              "      <td>25.5</td>\n",
              "      <td>M</td>\n",
              "      <td>23</td>\n",
              "    </tr>\n",
              "    <tr>\n",
              "      <th>4</th>\n",
              "      <td>154</td>\n",
              "      <td>50</td>\n",
              "      <td>23.5</td>\n",
              "      <td>M</td>\n",
              "      <td>26</td>\n",
              "    </tr>\n",
              "  </tbody>\n",
              "</table>\n",
              "</div>"
            ],
            "text/plain": [
              "   Estatura (cm)  Peso (kg)  Talla Zapato (27,28,etc) Sexo (H,M)  Edad\n",
              "0            180         84                      28.0          H    21\n",
              "1            172         80                      27.0          H    23\n",
              "2            170         60                      26.0          H    21\n",
              "3            165         65                      25.5          M    23\n",
              "4            154         50                      23.5          M    26"
            ]
          },
          "metadata": {
            "tags": []
          },
          "execution_count": 8
        }
      ]
    },
    {
      "cell_type": "code",
      "metadata": {
        "ExecuteTime": {
          "end_time": "2020-09-29T02:17:21.047777Z",
          "start_time": "2020-09-29T02:17:21.044339Z"
        },
        "id": "-s_XY_okqxSR",
        "outputId": "3e0080cb-3f65-49d5-d260-6aa951212694"
      },
      "source": [
        "df.shape"
      ],
      "execution_count": null,
      "outputs": [
        {
          "output_type": "execute_result",
          "data": {
            "text/plain": [
              "(38, 5)"
            ]
          },
          "metadata": {
            "tags": []
          },
          "execution_count": 9
        }
      ]
    },
    {
      "cell_type": "markdown",
      "metadata": {
        "id": "3580pibUqxST"
      },
      "source": [
        "## Reducción de Dimensiones"
      ]
    },
    {
      "cell_type": "markdown",
      "metadata": {
        "id": "BL0gJaByqxSU"
      },
      "source": [
        "### Definición de escala de variables"
      ]
    },
    {
      "cell_type": "code",
      "metadata": {
        "ExecuteTime": {
          "end_time": "2020-09-29T02:17:29.076157Z",
          "start_time": "2020-09-29T02:17:29.073267Z"
        },
        "id": "ZQAuRYXBqxSU"
      },
      "source": [
        "varc = [v for v in df.columns if v!='Sexo (H,M)']\n",
        "vard = ['Sexo (H,M)']"
      ],
      "execution_count": null,
      "outputs": []
    },
    {
      "cell_type": "markdown",
      "metadata": {
        "id": "kVE43jG9qxSW"
      },
      "source": [
        "### Matriz de Trabajo"
      ]
    },
    {
      "cell_type": "code",
      "metadata": {
        "ExecuteTime": {
          "end_time": "2020-09-29T02:17:31.159935Z",
          "start_time": "2020-09-29T02:17:31.152281Z"
        },
        "id": "Z91viBd_qxSX"
      },
      "source": [
        "X = df[varc].copy()"
      ],
      "execution_count": null,
      "outputs": []
    },
    {
      "cell_type": "code",
      "metadata": {
        "ExecuteTime": {
          "end_time": "2020-09-29T02:17:31.753218Z",
          "start_time": "2020-09-29T02:17:31.742163Z"
        },
        "id": "KeZBnAEJqxSa",
        "outputId": "b728dda0-1980-467a-c725-d7f78f5a3838"
      },
      "source": [
        "X.head()"
      ],
      "execution_count": null,
      "outputs": [
        {
          "output_type": "execute_result",
          "data": {
            "text/html": [
              "<div>\n",
              "<style scoped>\n",
              "    .dataframe tbody tr th:only-of-type {\n",
              "        vertical-align: middle;\n",
              "    }\n",
              "\n",
              "    .dataframe tbody tr th {\n",
              "        vertical-align: top;\n",
              "    }\n",
              "\n",
              "    .dataframe thead th {\n",
              "        text-align: right;\n",
              "    }\n",
              "</style>\n",
              "<table border=\"1\" class=\"dataframe\">\n",
              "  <thead>\n",
              "    <tr style=\"text-align: right;\">\n",
              "      <th></th>\n",
              "      <th>Estatura (cm)</th>\n",
              "      <th>Peso (kg)</th>\n",
              "      <th>Talla Zapato (27,28,etc)</th>\n",
              "      <th>Edad</th>\n",
              "    </tr>\n",
              "  </thead>\n",
              "  <tbody>\n",
              "    <tr>\n",
              "      <th>0</th>\n",
              "      <td>180</td>\n",
              "      <td>84</td>\n",
              "      <td>28.0</td>\n",
              "      <td>21</td>\n",
              "    </tr>\n",
              "    <tr>\n",
              "      <th>1</th>\n",
              "      <td>172</td>\n",
              "      <td>80</td>\n",
              "      <td>27.0</td>\n",
              "      <td>23</td>\n",
              "    </tr>\n",
              "    <tr>\n",
              "      <th>2</th>\n",
              "      <td>170</td>\n",
              "      <td>60</td>\n",
              "      <td>26.0</td>\n",
              "      <td>21</td>\n",
              "    </tr>\n",
              "    <tr>\n",
              "      <th>3</th>\n",
              "      <td>165</td>\n",
              "      <td>65</td>\n",
              "      <td>25.5</td>\n",
              "      <td>23</td>\n",
              "    </tr>\n",
              "    <tr>\n",
              "      <th>4</th>\n",
              "      <td>154</td>\n",
              "      <td>50</td>\n",
              "      <td>23.5</td>\n",
              "      <td>26</td>\n",
              "    </tr>\n",
              "  </tbody>\n",
              "</table>\n",
              "</div>"
            ],
            "text/plain": [
              "   Estatura (cm)  Peso (kg)  Talla Zapato (27,28,etc)  Edad\n",
              "0            180         84                      28.0    21\n",
              "1            172         80                      27.0    23\n",
              "2            170         60                      26.0    21\n",
              "3            165         65                      25.5    23\n",
              "4            154         50                      23.5    26"
            ]
          },
          "metadata": {
            "tags": []
          },
          "execution_count": 12
        }
      ]
    },
    {
      "cell_type": "markdown",
      "metadata": {
        "id": "xMjxlID8qxSc"
      },
      "source": [
        "### Escalamiento Multidimensional"
      ]
    },
    {
      "cell_type": "code",
      "metadata": {
        "ExecuteTime": {
          "end_time": "2020-09-29T02:18:05.475057Z",
          "start_time": "2020-09-29T02:18:05.467876Z"
        },
        "id": "LpDO0Rj0qxSc"
      },
      "source": [
        "mds= MDS(n_components=2,n_jobs=-1)"
      ],
      "execution_count": null,
      "outputs": []
    },
    {
      "cell_type": "code",
      "metadata": {
        "ExecuteTime": {
          "end_time": "2020-09-29T02:18:26.083028Z",
          "start_time": "2020-09-29T02:18:24.071385Z"
        },
        "id": "HQGW7nn-qxSe"
      },
      "source": [
        "Xm = pd.DataFrame(mds.fit_transform(X),columns=['d1','d2'])"
      ],
      "execution_count": null,
      "outputs": []
    },
    {
      "cell_type": "code",
      "metadata": {
        "ExecuteTime": {
          "end_time": "2020-09-29T02:18:39.031491Z",
          "start_time": "2020-09-29T02:18:39.024547Z"
        },
        "id": "DUJTDHzmqxSh"
      },
      "source": [
        "Xm[vard[0]] = df[vard[0]]"
      ],
      "execution_count": null,
      "outputs": []
    },
    {
      "cell_type": "markdown",
      "metadata": {
        "id": "Bn9nUjUmqxSj"
      },
      "source": [
        "### Visualización en dos dimensiones"
      ]
    },
    {
      "cell_type": "code",
      "metadata": {
        "ExecuteTime": {
          "end_time": "2020-09-29T02:18:46.926973Z",
          "start_time": "2020-09-29T02:18:45.960225Z"
        },
        "id": "0feA14i_qxSk",
        "outputId": "12d704c2-13ab-4004-e7a1-d37744ab5c8a"
      },
      "source": [
        "sns.lmplot(data=Xm,x='d1',y='d2',fit_reg=False)\n",
        "sns.lmplot(data=Xm,x='d1',y='d2',fit_reg=False,hue=vard[0])"
      ],
      "execution_count": null,
      "outputs": [
        {
          "output_type": "execute_result",
          "data": {
            "text/plain": [
              "<seaborn.axisgrid.FacetGrid at 0x7f252642c0b8>"
            ]
          },
          "metadata": {
            "tags": []
          },
          "execution_count": 17
        },
        {
          "output_type": "display_data",
          "data": {
            "image/png": "[encoded data removed]",
            "text/plain": [
              "<Figure size 360x360 with 1 Axes>"
            ]
          },
          "metadata": {
            "tags": [],
            "needs_background": "light"
          }
        },
        {
          "output_type": "display_data",
          "data": {
            "image/png": "[encoded data removed]",
            "text/plain": [
              "<Figure size 422x360 with 1 Axes>"
            ]
          },
          "metadata": {
            "tags": [],
            "needs_background": "light"
          }
        }
      ]
    },
    {
      "cell_type": "code",
      "metadata": {
        "id": "XWUrpBOpqxSm"
      },
      "source": [
        ""
      ],
      "execution_count": null,
      "outputs": []
    }
  ]
}