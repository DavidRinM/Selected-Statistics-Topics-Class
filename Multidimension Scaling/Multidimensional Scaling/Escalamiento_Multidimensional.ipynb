{
  "nbformat": 4,
  "nbformat_minor": 0,
  "metadata": {
    "kernelspec": {
      "display_name": "ins",
      "language": "python",
      "name": "ins"
    },
    "language_info": {
      "codemirror_mode": {
        "name": "ipython",
        "version": 3
      },
      "file_extension": ".py",
      "mimetype": "text/x-python",
      "name": "python",
      "nbconvert_exporter": "python",
      "pygments_lexer": "ipython3",
      "version": "3.6.9"
    },
    "toc": {
      "base_numbering": 1,
      "nav_menu": {},
      "number_sections": true,
      "sideBar": true,
      "skip_h1_title": false,
      "title_cell": "Table of Contents",
      "title_sidebar": "Contents",
      "toc_cell": false,
      "toc_position": {},
      "toc_section_display": true,
      "toc_window_display": false
    },
    "varInspector": {
      "cols": {
        "lenName": 16,
        "lenType": 16,
        "lenVar": 40
      },
      "kernels_config": {
        "python": {
          "delete_cmd_postfix": "",
          "delete_cmd_prefix": "del ",
          "library": "var_list.py",
          "varRefreshCmd": "print(var_dic_list())"
        },
        "r": {
          "delete_cmd_postfix": ") ",
          "delete_cmd_prefix": "rm(",
          "library": "var_list.r",
          "varRefreshCmd": "cat(var_dic_list()) "
        }
      },
      "types_to_exclude": [
        "module",
        "function",
        "builtin_function_or_method",
        "instance",
        "_Feature"
      ],
      "window_display": false
    },
    "colab": {
      "name": "Escalamiento Multidimensional.ipynb",
      "provenance": []
    }
  },
  "cells": [
    {
      "cell_type": "code",
      "metadata": {
        "ExecuteTime": {
          "end_time": "2020-09-29T02:11:32.479375Z",
          "start_time": "2020-09-29T02:11:30.610339Z"
        },
        "id": "Am9k1wnoqsfM"
      },
      "source": [
        "import pandas as pd\n",
        "import seaborn as sns\n",
        "from sklearn.datasets import load_iris\n",
        "%matplotlib inline"
      ],
      "execution_count": null,
      "outputs": []
    },
    {
      "cell_type": "code",
      "metadata": {
        "ExecuteTime": {
          "end_time": "2020-09-29T02:11:32.599493Z",
          "start_time": "2020-09-29T02:11:32.481630Z"
        },
        "id": "6fraUzkpqsfR"
      },
      "source": [
        "data = load_iris()"
      ],
      "execution_count": null,
      "outputs": []
    },
    {
      "cell_type": "code",
      "metadata": {
        "ExecuteTime": {
          "end_time": "2020-09-29T02:11:32.909905Z",
          "start_time": "2020-09-29T02:11:32.904087Z"
        },
        "id": "WRDZln28qsfV"
      },
      "source": [
        "X = data['data']"
      ],
      "execution_count": null,
      "outputs": []
    },
    {
      "cell_type": "code",
      "metadata": {
        "ExecuteTime": {
          "end_time": "2020-09-29T02:11:33.733711Z",
          "start_time": "2020-09-29T02:11:33.727616Z"
        },
        "id": "J5gSYrfzqsfY"
      },
      "source": [
        "df = pd.DataFrame(X,columns=['x1','x2','x3','x4'])"
      ],
      "execution_count": null,
      "outputs": []
    },
    {
      "cell_type": "code",
      "metadata": {
        "ExecuteTime": {
          "end_time": "2020-09-29T02:11:54.834213Z",
          "start_time": "2020-09-29T02:11:54.827695Z"
        },
        "id": "2HjWtRQoqsfb"
      },
      "source": [
        "from sklearn.manifold import MDS"
      ],
      "execution_count": null,
      "outputs": []
    },
    {
      "cell_type": "code",
      "metadata": {
        "ExecuteTime": {
          "end_time": "2020-09-29T02:13:53.003609Z",
          "start_time": "2020-09-29T02:13:53.000672Z"
        },
        "id": "dPvMgabHqsfe"
      },
      "source": [
        "mds = MDS(n_components=2,n_jobs=-1)"
      ],
      "execution_count": null,
      "outputs": []
    },
    {
      "cell_type": "code",
      "metadata": {
        "ExecuteTime": {
          "end_time": "2020-09-29T02:14:27.739309Z",
          "start_time": "2020-09-29T02:14:27.403209Z"
        },
        "id": "yGVCv2GPqsfg",
        "outputId": "5eb1e8c7-3287-4c9f-c690-89b4e19eb550"
      },
      "source": [
        "Xm = pd.DataFrame(mds.fit_transform(df),columns=['d1','d2'])\n",
        "Xm"
      ],
      "execution_count": null,
      "outputs": [
        {
          "output_type": "execute_result",
          "data": {
            "text/html": [
              "<div>\n",
              "<style scoped>\n",
              "    .dataframe tbody tr th:only-of-type {\n",
              "        vertical-align: middle;\n",
              "    }\n",
              "\n",
              "    .dataframe tbody tr th {\n",
              "        vertical-align: top;\n",
              "    }\n",
              "\n",
              "    .dataframe thead th {\n",
              "        text-align: right;\n",
              "    }\n",
              "</style>\n",
              "<table border=\"1\" class=\"dataframe\">\n",
              "  <thead>\n",
              "    <tr style=\"text-align: right;\">\n",
              "      <th></th>\n",
              "      <th>d1</th>\n",
              "      <th>d2</th>\n",
              "    </tr>\n",
              "  </thead>\n",
              "  <tbody>\n",
              "    <tr>\n",
              "      <th>0</th>\n",
              "      <td>2.323365</td>\n",
              "      <td>-1.399707</td>\n",
              "    </tr>\n",
              "    <tr>\n",
              "      <th>1</th>\n",
              "      <td>2.014600</td>\n",
              "      <td>-1.846043</td>\n",
              "    </tr>\n",
              "    <tr>\n",
              "      <th>2</th>\n",
              "      <td>2.204889</td>\n",
              "      <td>-1.891900</td>\n",
              "    </tr>\n",
              "    <tr>\n",
              "      <th>3</th>\n",
              "      <td>1.964798</td>\n",
              "      <td>-1.958443</td>\n",
              "    </tr>\n",
              "    <tr>\n",
              "      <th>4</th>\n",
              "      <td>2.379198</td>\n",
              "      <td>-1.407622</td>\n",
              "    </tr>\n",
              "    <tr>\n",
              "      <th>...</th>\n",
              "      <td>...</td>\n",
              "      <td>...</td>\n",
              "    </tr>\n",
              "    <tr>\n",
              "      <th>145</th>\n",
              "      <td>-1.369447</td>\n",
              "      <td>1.430345</td>\n",
              "    </tr>\n",
              "    <tr>\n",
              "      <th>146</th>\n",
              "      <td>-1.451579</td>\n",
              "      <td>0.638426</td>\n",
              "    </tr>\n",
              "    <tr>\n",
              "      <th>147</th>\n",
              "      <td>-1.346508</td>\n",
              "      <td>1.145829</td>\n",
              "    </tr>\n",
              "    <tr>\n",
              "      <th>148</th>\n",
              "      <td>-1.250570</td>\n",
              "      <td>1.539915</td>\n",
              "    </tr>\n",
              "    <tr>\n",
              "      <th>149</th>\n",
              "      <td>-1.336606</td>\n",
              "      <td>0.588069</td>\n",
              "    </tr>\n",
              "  </tbody>\n",
              "</table>\n",
              "<p>150 rows × 2 columns</p>\n",
              "</div>"
            ],
            "text/plain": [
              "           d1        d2\n",
              "0    2.323365 -1.399707\n",
              "1    2.014600 -1.846043\n",
              "2    2.204889 -1.891900\n",
              "3    1.964798 -1.958443\n",
              "4    2.379198 -1.407622\n",
              "..        ...       ...\n",
              "145 -1.369447  1.430345\n",
              "146 -1.451579  0.638426\n",
              "147 -1.346508  1.145829\n",
              "148 -1.250570  1.539915\n",
              "149 -1.336606  0.588069\n",
              "\n",
              "[150 rows x 2 columns]"
            ]
          },
          "metadata": {
            "tags": []
          },
          "execution_count": 11
        }
      ]
    },
    {
      "cell_type": "code",
      "metadata": {
        "ExecuteTime": {
          "end_time": "2020-09-29T02:14:56.755013Z",
          "start_time": "2020-09-29T02:14:56.318532Z"
        },
        "id": "EuqOJD7fqsfk",
        "outputId": "d76dbd92-72fe-45f0-86a7-0cecccf7ab85"
      },
      "source": [
        "sns.lmplot(data=Xm,x='d1',y='d2',fit_reg=False)"
      ],
      "execution_count": null,
      "outputs": [
        {
          "output_type": "execute_result",
          "data": {
            "text/plain": [
              "<seaborn.axisgrid.FacetGrid at 0x7f59c23b6828>"
            ]
          },
          "metadata": {
            "tags": []
          },
          "execution_count": 12
        },
        {
          "output_type": "display_data",
          "data": {
            "image/png": "[encoded data removed]",
            "text/plain": [
              "<Figure size 360x360 with 1 Axes>"
            ]
          },
          "metadata": {
            "tags": [],
            "needs_background": "light"
          }
        }
      ]
    },
    {
      "cell_type": "code",
      "metadata": {
        "ExecuteTime": {
          "end_time": "2020-09-29T02:15:30.696914Z",
          "start_time": "2020-09-29T02:15:30.691763Z"
        },
        "id": "naUUFTJ2qsfm"
      },
      "source": [
        "Xm['flor'] = data['target']"
      ],
      "execution_count": null,
      "outputs": []
    },
    {
      "cell_type": "code",
      "metadata": {
        "ExecuteTime": {
          "end_time": "2020-09-29T02:15:33.990051Z",
          "start_time": "2020-09-29T02:15:33.348559Z"
        },
        "id": "pjkUX1cBqsfp",
        "outputId": "7a9a2f3e-4511-49c1-a432-ef3093c5c4c5"
      },
      "source": [
        "sns.lmplot(data=Xm,x='d1',y='d2',fit_reg=False,hue='flor')"
      ],
      "execution_count": null,
      "outputs": [
        {
          "output_type": "execute_result",
          "data": {
            "text/plain": [
              "<seaborn.axisgrid.FacetGrid at 0x7f59c2aa30f0>"
            ]
          },
          "metadata": {
            "tags": []
          },
          "execution_count": 15
        },
        {
          "output_type": "display_data",
          "data": {
            "image/png": "[encoded data removed]",
            "text/plain": [
              "<Figure size 402.375x360 with 1 Axes>"
            ]
          },
          "metadata": {
            "tags": [],
            "needs_background": "light"
          }
        }
      ]
    },
    {
      "cell_type": "code",
      "metadata": {
        "id": "se9bwqloqsfr"
      },
      "source": [
        ""
      ],
      "execution_count": null,
      "outputs": []
    }
  ]
}