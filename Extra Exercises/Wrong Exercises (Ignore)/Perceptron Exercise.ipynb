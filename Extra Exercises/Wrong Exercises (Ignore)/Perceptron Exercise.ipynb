{
 "cells": [
  {
   "cell_type": "code",
   "execution_count": 1,
   "metadata": {},
   "outputs": [],
   "source": [
    "import pandas as pd\n",
    "import numpy as np\n",
    "import matplotlib.pyplot as plt\n",
    "\n",
    "from sklearn.linear_model import Perceptron\n",
    "from sklearn.model_selection import train_test_split\n",
    "from sklearn.preprocessing import StandardScaler\n",
    "from sklearn.metrics import accuracy_score\n",
    "\n",
    "import datetime as dt\n",
    "import io\n",
    "\n",
    "pd.set_option('display.max_columns',500)"
   ]
  },
  {
   "cell_type": "code",
   "execution_count": 2,
   "metadata": {},
   "outputs": [],
   "source": [
    "data = pd.read_csv(\"train.csv\", parse_dates=[\"dob\"])\n",
    "data.drop(columns=[\"trans_date_trans_time\",\"cc_num\", \"first\", \"last\", \"street\", \"lat\", \"long\", \"trans_num\", \"unix_time\"],\n",
    "       axis=1, inplace=True)"
   ]
  },
  {
   "cell_type": "code",
   "execution_count": 3,
   "metadata": {},
   "outputs": [
    {
     "data": {
      "text/html": [
       "<div>\n",
       "<style scoped>\n",
       "    .dataframe tbody tr th:only-of-type {\n",
       "        vertical-align: middle;\n",
       "    }\n",
       "\n",
       "    .dataframe tbody tr th {\n",
       "        vertical-align: top;\n",
       "    }\n",
       "\n",
       "    .dataframe thead th {\n",
       "        text-align: right;\n",
       "    }\n",
       "</style>\n",
       "<table border=\"1\" class=\"dataframe\">\n",
       "  <thead>\n",
       "    <tr style=\"text-align: right;\">\n",
       "      <th></th>\n",
       "      <th>id_txn</th>\n",
       "      <th>merchant</th>\n",
       "      <th>category</th>\n",
       "      <th>amt</th>\n",
       "      <th>gender</th>\n",
       "      <th>city</th>\n",
       "      <th>state</th>\n",
       "      <th>zip</th>\n",
       "      <th>city_pop</th>\n",
       "      <th>job</th>\n",
       "      <th>merch_lat</th>\n",
       "      <th>merch_long</th>\n",
       "      <th>is_fraud</th>\n",
       "      <th>age</th>\n",
       "    </tr>\n",
       "  </thead>\n",
       "  <tbody>\n",
       "    <tr>\n",
       "      <th>0</th>\n",
       "      <td>TX000881306</td>\n",
       "      <td>fraud_Parker-Kunde</td>\n",
       "      <td>personal_care</td>\n",
       "      <td>55.78</td>\n",
       "      <td>F</td>\n",
       "      <td>Jordanville</td>\n",
       "      <td>NY</td>\n",
       "      <td>13361</td>\n",
       "      <td>824</td>\n",
       "      <td>Travel agency manager</td>\n",
       "      <td>41.918721</td>\n",
       "      <td>-74.367377</td>\n",
       "      <td>0</td>\n",
       "      <td>35.0</td>\n",
       "    </tr>\n",
       "    <tr>\n",
       "      <th>1</th>\n",
       "      <td>TX001044619</td>\n",
       "      <td>fraud_Schmitt Inc</td>\n",
       "      <td>gas_transport</td>\n",
       "      <td>58.46</td>\n",
       "      <td>M</td>\n",
       "      <td>Burbank</td>\n",
       "      <td>OK</td>\n",
       "      <td>74633</td>\n",
       "      <td>471</td>\n",
       "      <td>Sub</td>\n",
       "      <td>36.919963</td>\n",
       "      <td>-97.675321</td>\n",
       "      <td>0</td>\n",
       "      <td>79.0</td>\n",
       "    </tr>\n",
       "    <tr>\n",
       "      <th>2</th>\n",
       "      <td>TX000885984</td>\n",
       "      <td>fraud_Bednar Group</td>\n",
       "      <td>misc_net</td>\n",
       "      <td>3.90</td>\n",
       "      <td>M</td>\n",
       "      <td>Roseland</td>\n",
       "      <td>NE</td>\n",
       "      <td>68973</td>\n",
       "      <td>463</td>\n",
       "      <td>Nurse, mental health</td>\n",
       "      <td>40.036737</td>\n",
       "      <td>-97.720023</td>\n",
       "      <td>0</td>\n",
       "      <td>72.0</td>\n",
       "    </tr>\n",
       "    <tr>\n",
       "      <th>3</th>\n",
       "      <td>TX000393423</td>\n",
       "      <td>fraud_Thiel-Thiel</td>\n",
       "      <td>entertainment</td>\n",
       "      <td>54.23</td>\n",
       "      <td>F</td>\n",
       "      <td>Gadsden</td>\n",
       "      <td>AL</td>\n",
       "      <td>35901</td>\n",
       "      <td>67082</td>\n",
       "      <td>Physiological scientist</td>\n",
       "      <td>33.374831</td>\n",
       "      <td>-86.541588</td>\n",
       "      <td>0</td>\n",
       "      <td>57.0</td>\n",
       "    </tr>\n",
       "    <tr>\n",
       "      <th>4</th>\n",
       "      <td>TX001009052</td>\n",
       "      <td>fraud_Predovic Inc</td>\n",
       "      <td>shopping_net</td>\n",
       "      <td>41.28</td>\n",
       "      <td>M</td>\n",
       "      <td>Arcadia</td>\n",
       "      <td>MI</td>\n",
       "      <td>49613</td>\n",
       "      <td>680</td>\n",
       "      <td>Designer, jewellery</td>\n",
       "      <td>45.429028</td>\n",
       "      <td>-85.833936</td>\n",
       "      <td>0</td>\n",
       "      <td>54.0</td>\n",
       "    </tr>\n",
       "  </tbody>\n",
       "</table>\n",
       "</div>"
      ],
      "text/plain": [
       "        id_txn            merchant       category    amt gender         city  \\\n",
       "0  TX000881306  fraud_Parker-Kunde  personal_care  55.78      F  Jordanville   \n",
       "1  TX001044619   fraud_Schmitt Inc  gas_transport  58.46      M      Burbank   \n",
       "2  TX000885984  fraud_Bednar Group       misc_net   3.90      M     Roseland   \n",
       "3  TX000393423   fraud_Thiel-Thiel  entertainment  54.23      F      Gadsden   \n",
       "4  TX001009052  fraud_Predovic Inc   shopping_net  41.28      M      Arcadia   \n",
       "\n",
       "  state    zip  city_pop                      job  merch_lat  merch_long  \\\n",
       "0    NY  13361       824    Travel agency manager  41.918721  -74.367377   \n",
       "1    OK  74633       471                      Sub  36.919963  -97.675321   \n",
       "2    NE  68973       463     Nurse, mental health  40.036737  -97.720023   \n",
       "3    AL  35901     67082  Physiological scientist  33.374831  -86.541588   \n",
       "4    MI  49613       680      Designer, jewellery  45.429028  -85.833936   \n",
       "\n",
       "   is_fraud   age  \n",
       "0         0  35.0  \n",
       "1         0  79.0  \n",
       "2         0  72.0  \n",
       "3         0  57.0  \n",
       "4         0  54.0  "
      ]
     },
     "execution_count": 3,
     "metadata": {},
     "output_type": "execute_result"
    }
   ],
   "source": [
    "now = pd.Timestamp(\"now\")\n",
    "data['dob'] = data['dob'].where(data['dob'] < now, data['dob'] -  np.timedelta64(100, 'Y'))\n",
    "data['age'] = (now - data['dob']).astype('<m8[Y]')\n",
    "data.drop(columns=[\"dob\"], inplace=True)\n",
    "data.head()"
   ]
  },
  {
   "cell_type": "code",
   "execution_count": 4,
   "metadata": {},
   "outputs": [],
   "source": [
    "var = [\"id_txn\", \"amt\", \"city_pop\", \"age\"]"
   ]
  },
  {
   "cell_type": "code",
   "execution_count": 5,
   "metadata": {},
   "outputs": [
    {
     "data": {
      "text/html": [
       "<div>\n",
       "<style scoped>\n",
       "    .dataframe tbody tr th:only-of-type {\n",
       "        vertical-align: middle;\n",
       "    }\n",
       "\n",
       "    .dataframe tbody tr th {\n",
       "        vertical-align: top;\n",
       "    }\n",
       "\n",
       "    .dataframe thead th {\n",
       "        text-align: right;\n",
       "    }\n",
       "</style>\n",
       "<table border=\"1\" class=\"dataframe\">\n",
       "  <thead>\n",
       "    <tr style=\"text-align: right;\">\n",
       "      <th></th>\n",
       "      <th>amt</th>\n",
       "      <th>city_pop</th>\n",
       "      <th>age</th>\n",
       "    </tr>\n",
       "  </thead>\n",
       "  <tbody>\n",
       "    <tr>\n",
       "      <th>0</th>\n",
       "      <td>55.78</td>\n",
       "      <td>824</td>\n",
       "      <td>35.0</td>\n",
       "    </tr>\n",
       "    <tr>\n",
       "      <th>1</th>\n",
       "      <td>58.46</td>\n",
       "      <td>471</td>\n",
       "      <td>79.0</td>\n",
       "    </tr>\n",
       "    <tr>\n",
       "      <th>2</th>\n",
       "      <td>3.90</td>\n",
       "      <td>463</td>\n",
       "      <td>72.0</td>\n",
       "    </tr>\n",
       "    <tr>\n",
       "      <th>3</th>\n",
       "      <td>54.23</td>\n",
       "      <td>67082</td>\n",
       "      <td>57.0</td>\n",
       "    </tr>\n",
       "    <tr>\n",
       "      <th>4</th>\n",
       "      <td>41.28</td>\n",
       "      <td>680</td>\n",
       "      <td>54.0</td>\n",
       "    </tr>\n",
       "  </tbody>\n",
       "</table>\n",
       "</div>"
      ],
      "text/plain": [
       "     amt  city_pop   age\n",
       "0  55.78       824  35.0\n",
       "1  58.46       471  79.0\n",
       "2   3.90       463  72.0\n",
       "3  54.23     67082  57.0\n",
       "4  41.28       680  54.0"
      ]
     },
     "execution_count": 5,
     "metadata": {},
     "output_type": "execute_result"
    }
   ],
   "source": [
    "xtemp = data[var]\n",
    "y = data[\"is_fraud\"]\n",
    "\n",
    "x2 = [v for v in xtemp if v != \"id_txn\"]\n",
    "x = data[x2]\n",
    "x.head()"
   ]
  },
  {
   "cell_type": "markdown",
   "metadata": {},
   "source": [
    "## Splitting data"
   ]
  },
  {
   "cell_type": "code",
   "execution_count": 6,
   "metadata": {},
   "outputs": [],
   "source": [
    "x_train, x_test, y_train, y_test = train_test_split(x,y, train_size=0.7)"
   ]
  },
  {
   "cell_type": "markdown",
   "metadata": {},
   "source": [
    "## Standard Scaler"
   ]
  },
  {
   "cell_type": "code",
   "execution_count": 7,
   "metadata": {},
   "outputs": [],
   "source": [
    "sc = StandardScaler()"
   ]
  },
  {
   "cell_type": "code",
   "execution_count": 8,
   "metadata": {},
   "outputs": [],
   "source": [
    "sc.fit(x_train)\n",
    "xs = sc.transform(x_train)\n",
    "xt = sc.transform(x_test)"
   ]
  },
  {
   "cell_type": "markdown",
   "metadata": {},
   "source": [
    "## Perceptron"
   ]
  },
  {
   "cell_type": "code",
   "execution_count": 9,
   "metadata": {},
   "outputs": [
    {
     "data": {
      "text/plain": [
       "Perceptron(n_jobs=-1)"
      ]
     },
     "execution_count": 9,
     "metadata": {},
     "output_type": "execute_result"
    }
   ],
   "source": [
    "ppn = Perceptron(n_jobs=-1)\n",
    "ppn.fit(xs,y_train)"
   ]
  },
  {
   "cell_type": "code",
   "execution_count": 10,
   "metadata": {},
   "outputs": [],
   "source": [
    "y_pred = ppn.predict(xt)"
   ]
  },
  {
   "cell_type": "code",
   "execution_count": 11,
   "metadata": {},
   "outputs": [
    {
     "name": "stdout",
     "output_type": "stream",
     "text": [
      "accuracy: 99.27%\n"
     ]
    }
   ],
   "source": [
    "print(\"accuracy: {0:.2f}%\".\n",
    "     format(accuracy_score(y_test, y_pred)*100))"
   ]
  },
  {
   "cell_type": "code",
   "execution_count": 12,
   "metadata": {},
   "outputs": [
    {
     "data": {
      "text/plain": [
       "0.9926992824143781"
      ]
     },
     "execution_count": 12,
     "metadata": {},
     "output_type": "execute_result"
    }
   ],
   "source": [
    "y_prob = ppn.score(xt,y_test)\n",
    "y_prob"
   ]
  },
  {
   "cell_type": "markdown",
   "metadata": {},
   "source": [
    "## With test data"
   ]
  },
  {
   "cell_type": "code",
   "execution_count": 13,
   "metadata": {},
   "outputs": [],
   "source": [
    "test = pd.read_csv(\"test.csv\", parse_dates=[\"dob\"])\n",
    "test.drop(columns=[\"trans_date_trans_time\",\"cc_num\", \"first\", \"last\", \"street\", \"lat\", \"long\", \"trans_num\", \"unix_time\"],\n",
    "       axis=1, inplace=True)\n",
    "now = pd.Timestamp(\"now\")"
   ]
  },
  {
   "cell_type": "code",
   "execution_count": 14,
   "metadata": {},
   "outputs": [],
   "source": [
    "test['dob'] = test['dob'].where(test['dob'] < now, test['dob'] -  np.timedelta64(100, 'Y'))\n",
    "test['age'] = (now - test['dob']).astype('<m8[Y]')\n",
    "test.drop(columns=[\"dob\"], inplace=True)"
   ]
  },
  {
   "cell_type": "code",
   "execution_count": 15,
   "metadata": {
    "scrolled": true
   },
   "outputs": [
    {
     "data": {
      "text/html": [
       "<div>\n",
       "<style scoped>\n",
       "    .dataframe tbody tr th:only-of-type {\n",
       "        vertical-align: middle;\n",
       "    }\n",
       "\n",
       "    .dataframe tbody tr th {\n",
       "        vertical-align: top;\n",
       "    }\n",
       "\n",
       "    .dataframe thead th {\n",
       "        text-align: right;\n",
       "    }\n",
       "</style>\n",
       "<table border=\"1\" class=\"dataframe\">\n",
       "  <thead>\n",
       "    <tr style=\"text-align: right;\">\n",
       "      <th></th>\n",
       "      <th>amt</th>\n",
       "      <th>city_pop</th>\n",
       "      <th>age</th>\n",
       "    </tr>\n",
       "  </thead>\n",
       "  <tbody>\n",
       "    <tr>\n",
       "      <th>0</th>\n",
       "      <td>56.93</td>\n",
       "      <td>23805</td>\n",
       "      <td>50.0</td>\n",
       "    </tr>\n",
       "    <tr>\n",
       "      <th>1</th>\n",
       "      <td>9.40</td>\n",
       "      <td>1656</td>\n",
       "      <td>51.0</td>\n",
       "    </tr>\n",
       "    <tr>\n",
       "      <th>2</th>\n",
       "      <td>6.02</td>\n",
       "      <td>516</td>\n",
       "      <td>54.0</td>\n",
       "    </tr>\n",
       "    <tr>\n",
       "      <th>3</th>\n",
       "      <td>21.52</td>\n",
       "      <td>3688</td>\n",
       "      <td>47.0</td>\n",
       "    </tr>\n",
       "    <tr>\n",
       "      <th>4</th>\n",
       "      <td>269.34</td>\n",
       "      <td>237282</td>\n",
       "      <td>59.0</td>\n",
       "    </tr>\n",
       "  </tbody>\n",
       "</table>\n",
       "</div>"
      ],
      "text/plain": [
       "      amt  city_pop   age\n",
       "0   56.93     23805  50.0\n",
       "1    9.40      1656  51.0\n",
       "2    6.02       516  54.0\n",
       "3   21.52      3688  47.0\n",
       "4  269.34    237282  59.0"
      ]
     },
     "execution_count": 15,
     "metadata": {},
     "output_type": "execute_result"
    }
   ],
   "source": [
    "var = [\"id_txn\", \"amt\", \"city_pop\", \"age\"]\n",
    "xtemp = test[var]\n",
    "\n",
    "x = xtemp.drop(columns=[\"id_txn\"], axis=True)\n",
    "x.head()"
   ]
  },
  {
   "cell_type": "code",
   "execution_count": 16,
   "metadata": {},
   "outputs": [],
   "source": [
    "testing_pred = ppn.predict(x)"
   ]
  },
  {
   "cell_type": "code",
   "execution_count": 17,
   "metadata": {},
   "outputs": [],
   "source": [
    "prediction = pd.DataFrame(testing_pred, columns=['predictions']).to_csv('prediction.csv')"
   ]
  },
  {
   "cell_type": "code",
   "execution_count": null,
   "metadata": {},
   "outputs": [],
   "source": []
  }
 ],
 "metadata": {
  "kernelspec": {
   "display_name": "diplo",
   "language": "python",
   "name": "diplo"
  },
  "language_info": {
   "codemirror_mode": {
    "name": "ipython",
    "version": 3
   },
   "file_extension": ".py",
   "mimetype": "text/x-python",
   "name": "python",
   "nbconvert_exporter": "python",
   "pygments_lexer": "ipython3",
   "version": "3.10.7"
  },
  "toc": {
   "base_numbering": 1,
   "nav_menu": {},
   "number_sections": true,
   "sideBar": true,
   "skip_h1_title": false,
   "title_cell": "Table of Contents",
   "title_sidebar": "Contents",
   "toc_cell": false,
   "toc_position": {},
   "toc_section_display": true,
   "toc_window_display": false
  }
 },
 "nbformat": 4,
 "nbformat_minor": 4
}
