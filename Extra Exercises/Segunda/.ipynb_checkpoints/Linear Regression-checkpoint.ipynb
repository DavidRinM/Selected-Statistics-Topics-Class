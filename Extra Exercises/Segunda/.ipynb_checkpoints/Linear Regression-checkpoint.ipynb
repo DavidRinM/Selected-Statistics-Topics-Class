{
 "cells": [
  {
   "cell_type": "markdown",
   "metadata": {},
   "source": [
    "# Libraries"
   ]
  },
  {
   "cell_type": "code",
   "execution_count": 1,
   "metadata": {},
   "outputs": [],
   "source": [
    "import pandas as pd\n",
    "import numpy as np\n",
    "import os\n",
    "from functools import reduce\n",
    "from datetime import date,datetime\n",
    "from time import strptime\n",
    "\n",
    "from scipy.stats import ks_2samp\n",
    "\n",
    "\n",
    "from sklearn.preprocessing import StandardScaler\n",
    "from sklearn.impute import SimpleImputer\n",
    "from sklearn.linear_model import LinearRegression\n",
    "\n",
    "from sklearn.metrics import mean_absolute_error\n",
    "from sklearn.metrics import roc_auc_score,accuracy_score\n",
    "from sklearn.model_selection import train_test_split\n",
    "from sklearn.model_selection import GridSearchCV\n",
    "\n",
    "import matplotlib.pyplot as plt\n",
    "import seaborn as sns\n",
    "from scikitplot.metrics import plot_roc_curve\n",
    "\n",
    "\n",
    "import warnings \n",
    "warnings.filterwarnings('ignore')\n",
    "\n",
    "%matplotlib inline\n",
    "pd.set_option('display.max_columns',500)"
   ]
  },
  {
   "cell_type": "markdown",
   "metadata": {},
   "source": [
    "# Data"
   ]
  },
  {
   "cell_type": "markdown",
   "metadata": {},
   "source": [
    "## Reading"
   ]
  },
  {
   "cell_type": "code",
   "execution_count": 2,
   "metadata": {},
   "outputs": [
    {
     "data": {
      "text/html": [
       "<div>\n",
       "<style scoped>\n",
       "    .dataframe tbody tr th:only-of-type {\n",
       "        vertical-align: middle;\n",
       "    }\n",
       "\n",
       "    .dataframe tbody tr th {\n",
       "        vertical-align: top;\n",
       "    }\n",
       "\n",
       "    .dataframe thead th {\n",
       "        text-align: right;\n",
       "    }\n",
       "</style>\n",
       "<table border=\"1\" class=\"dataframe\">\n",
       "  <thead>\n",
       "    <tr style=\"text-align: right;\">\n",
       "      <th></th>\n",
       "      <th>year</th>\n",
       "      <th>month</th>\n",
       "      <th>day</th>\n",
       "      <th>weekday</th>\n",
       "      <th>hour</th>\n",
       "      <th>atm_status</th>\n",
       "      <th>atm_id</th>\n",
       "      <th>atm_manufacturer</th>\n",
       "      <th>atm_location</th>\n",
       "      <th>atm_streetname</th>\n",
       "      <th>atm_street_number</th>\n",
       "      <th>atm_zipcode</th>\n",
       "      <th>atm_lat</th>\n",
       "      <th>atm_lon</th>\n",
       "      <th>currency</th>\n",
       "      <th>card_type</th>\n",
       "      <th>service</th>\n",
       "      <th>message_code</th>\n",
       "      <th>message_text</th>\n",
       "      <th>weather_lat</th>\n",
       "      <th>weather_lon</th>\n",
       "      <th>weather_city_id</th>\n",
       "      <th>weather_city_name</th>\n",
       "      <th>temp</th>\n",
       "      <th>pressure</th>\n",
       "      <th>humidity</th>\n",
       "      <th>wind_speed</th>\n",
       "      <th>wind_deg</th>\n",
       "      <th>rain_3h</th>\n",
       "      <th>clouds_all</th>\n",
       "      <th>weather_id</th>\n",
       "      <th>weather_main</th>\n",
       "      <th>weather_description</th>\n",
       "    </tr>\n",
       "  </thead>\n",
       "  <tbody>\n",
       "    <tr>\n",
       "      <th>0</th>\n",
       "      <td>2017</td>\n",
       "      <td>April</td>\n",
       "      <td>2</td>\n",
       "      <td>Sunday</td>\n",
       "      <td>7</td>\n",
       "      <td>Active</td>\n",
       "      <td>8</td>\n",
       "      <td>NCR</td>\n",
       "      <td>Glyngøre</td>\n",
       "      <td>Færgevej</td>\n",
       "      <td>1</td>\n",
       "      <td>7870</td>\n",
       "      <td>56.762328</td>\n",
       "      <td>8.866716</td>\n",
       "      <td>DKK</td>\n",
       "      <td>Dankort - on-us</td>\n",
       "      <td>Withdrawal</td>\n",
       "      <td>NaN</td>\n",
       "      <td>NaN</td>\n",
       "      <td>56.793339</td>\n",
       "      <td>8.85282</td>\n",
       "      <td>2615964</td>\n",
       "      <td>Nykobing Mors</td>\n",
       "      <td>282.150</td>\n",
       "      <td>1014</td>\n",
       "      <td>93</td>\n",
       "      <td>1</td>\n",
       "      <td>270</td>\n",
       "      <td>0.375</td>\n",
       "      <td>92</td>\n",
       "      <td>500</td>\n",
       "      <td>Rain</td>\n",
       "      <td>light rain</td>\n",
       "    </tr>\n",
       "    <tr>\n",
       "      <th>1</th>\n",
       "      <td>2017</td>\n",
       "      <td>April</td>\n",
       "      <td>24</td>\n",
       "      <td>Monday</td>\n",
       "      <td>20</td>\n",
       "      <td>Active</td>\n",
       "      <td>33</td>\n",
       "      <td>NCR</td>\n",
       "      <td>Vadum</td>\n",
       "      <td>Ellehammersvej</td>\n",
       "      <td>43</td>\n",
       "      <td>9430</td>\n",
       "      <td>57.117728</td>\n",
       "      <td>9.860814</td>\n",
       "      <td>DKK</td>\n",
       "      <td>Visa Dankort</td>\n",
       "      <td>Withdrawal</td>\n",
       "      <td>NaN</td>\n",
       "      <td>NaN</td>\n",
       "      <td>57.117901</td>\n",
       "      <td>9.85700</td>\n",
       "      <td>2610823</td>\n",
       "      <td>Vadum</td>\n",
       "      <td>277.269</td>\n",
       "      <td>1011</td>\n",
       "      <td>67</td>\n",
       "      <td>12</td>\n",
       "      <td>281</td>\n",
       "      <td>NaN</td>\n",
       "      <td>20</td>\n",
       "      <td>801</td>\n",
       "      <td>Clouds</td>\n",
       "      <td>few clouds</td>\n",
       "    </tr>\n",
       "    <tr>\n",
       "      <th>2</th>\n",
       "      <td>2017</td>\n",
       "      <td>June</td>\n",
       "      <td>4</td>\n",
       "      <td>Sunday</td>\n",
       "      <td>6</td>\n",
       "      <td>Active</td>\n",
       "      <td>48</td>\n",
       "      <td>Diebold Nixdorf</td>\n",
       "      <td>Brønderslev</td>\n",
       "      <td>Algade</td>\n",
       "      <td>4</td>\n",
       "      <td>9700</td>\n",
       "      <td>57.269269</td>\n",
       "      <td>9.945423</td>\n",
       "      <td>DKK</td>\n",
       "      <td>Visa Dankort - on-us</td>\n",
       "      <td>Withdrawal</td>\n",
       "      <td>NaN</td>\n",
       "      <td>NaN</td>\n",
       "      <td>57.117901</td>\n",
       "      <td>9.85700</td>\n",
       "      <td>2610823</td>\n",
       "      <td>Vadum</td>\n",
       "      <td>287.568</td>\n",
       "      <td>1019</td>\n",
       "      <td>100</td>\n",
       "      <td>3</td>\n",
       "      <td>175</td>\n",
       "      <td>1.040</td>\n",
       "      <td>92</td>\n",
       "      <td>500</td>\n",
       "      <td>Rain</td>\n",
       "      <td>light rain</td>\n",
       "    </tr>\n",
       "    <tr>\n",
       "      <th>3</th>\n",
       "      <td>2017</td>\n",
       "      <td>February</td>\n",
       "      <td>15</td>\n",
       "      <td>Wednesday</td>\n",
       "      <td>19</td>\n",
       "      <td>Active</td>\n",
       "      <td>65</td>\n",
       "      <td>NCR</td>\n",
       "      <td>Storvorde</td>\n",
       "      <td>Vandværksvej</td>\n",
       "      <td>2</td>\n",
       "      <td>9280</td>\n",
       "      <td>57.004722</td>\n",
       "      <td>10.101456</td>\n",
       "      <td>DKK</td>\n",
       "      <td>Visa Dankort</td>\n",
       "      <td>Withdrawal</td>\n",
       "      <td>NaN</td>\n",
       "      <td>NaN</td>\n",
       "      <td>57.003922</td>\n",
       "      <td>10.10125</td>\n",
       "      <td>2612301</td>\n",
       "      <td>Storvorde</td>\n",
       "      <td>271.575</td>\n",
       "      <td>1041</td>\n",
       "      <td>80</td>\n",
       "      <td>2</td>\n",
       "      <td>205</td>\n",
       "      <td>NaN</td>\n",
       "      <td>0</td>\n",
       "      <td>800</td>\n",
       "      <td>Clear</td>\n",
       "      <td>Sky is Clear</td>\n",
       "    </tr>\n",
       "    <tr>\n",
       "      <th>4</th>\n",
       "      <td>2017</td>\n",
       "      <td>March</td>\n",
       "      <td>23</td>\n",
       "      <td>Thursday</td>\n",
       "      <td>13</td>\n",
       "      <td>Active</td>\n",
       "      <td>58</td>\n",
       "      <td>NCR</td>\n",
       "      <td>Støvring</td>\n",
       "      <td>Baunebakken</td>\n",
       "      <td>4</td>\n",
       "      <td>9530</td>\n",
       "      <td>56.890356</td>\n",
       "      <td>9.835577</td>\n",
       "      <td>DKK</td>\n",
       "      <td>Visa Dankort - on-us</td>\n",
       "      <td>Withdrawal</td>\n",
       "      <td>NaN</td>\n",
       "      <td>NaN</td>\n",
       "      <td>56.885361</td>\n",
       "      <td>9.83839</td>\n",
       "      <td>2612500</td>\n",
       "      <td>Stovring</td>\n",
       "      <td>280.150</td>\n",
       "      <td>1025</td>\n",
       "      <td>48</td>\n",
       "      <td>3</td>\n",
       "      <td>310</td>\n",
       "      <td>NaN</td>\n",
       "      <td>0</td>\n",
       "      <td>800</td>\n",
       "      <td>Clear</td>\n",
       "      <td>Sky is Clear</td>\n",
       "    </tr>\n",
       "  </tbody>\n",
       "</table>\n",
       "</div>"
      ],
      "text/plain": [
       "   year     month  day    weekday  hour atm_status  atm_id atm_manufacturer  \\\n",
       "0  2017     April    2     Sunday     7     Active       8              NCR   \n",
       "1  2017     April   24     Monday    20     Active      33              NCR   \n",
       "2  2017      June    4     Sunday     6     Active      48  Diebold Nixdorf   \n",
       "3  2017  February   15  Wednesday    19     Active      65              NCR   \n",
       "4  2017     March   23   Thursday    13     Active      58              NCR   \n",
       "\n",
       "  atm_location  atm_streetname  atm_street_number  atm_zipcode    atm_lat  \\\n",
       "0     Glyngøre        Færgevej                  1         7870  56.762328   \n",
       "1        Vadum  Ellehammersvej                 43         9430  57.117728   \n",
       "2  Brønderslev          Algade                  4         9700  57.269269   \n",
       "3    Storvorde    Vandværksvej                  2         9280  57.004722   \n",
       "4     Støvring     Baunebakken                  4         9530  56.890356   \n",
       "\n",
       "     atm_lon currency             card_type     service  message_code  \\\n",
       "0   8.866716      DKK       Dankort - on-us  Withdrawal           NaN   \n",
       "1   9.860814      DKK          Visa Dankort  Withdrawal           NaN   \n",
       "2   9.945423      DKK  Visa Dankort - on-us  Withdrawal           NaN   \n",
       "3  10.101456      DKK          Visa Dankort  Withdrawal           NaN   \n",
       "4   9.835577      DKK  Visa Dankort - on-us  Withdrawal           NaN   \n",
       "\n",
       "  message_text  weather_lat  weather_lon  weather_city_id weather_city_name  \\\n",
       "0          NaN    56.793339      8.85282          2615964     Nykobing Mors   \n",
       "1          NaN    57.117901      9.85700          2610823             Vadum   \n",
       "2          NaN    57.117901      9.85700          2610823             Vadum   \n",
       "3          NaN    57.003922     10.10125          2612301         Storvorde   \n",
       "4          NaN    56.885361      9.83839          2612500          Stovring   \n",
       "\n",
       "      temp  pressure  humidity  wind_speed  wind_deg  rain_3h  clouds_all  \\\n",
       "0  282.150      1014        93           1       270    0.375          92   \n",
       "1  277.269      1011        67          12       281      NaN          20   \n",
       "2  287.568      1019       100           3       175    1.040          92   \n",
       "3  271.575      1041        80           2       205      NaN           0   \n",
       "4  280.150      1025        48           3       310      NaN           0   \n",
       "\n",
       "   weather_id weather_main weather_description  \n",
       "0         500         Rain          light rain  \n",
       "1         801       Clouds          few clouds  \n",
       "2         500         Rain          light rain  \n",
       "3         800        Clear        Sky is Clear  \n",
       "4         800        Clear        Sky is Clear  "
      ]
     },
     "execution_count": 2,
     "metadata": {},
     "output_type": "execute_result"
    }
   ],
   "source": [
    "df = pd.read_csv(\"train.csv\")\n",
    "df.head()"
   ]
  },
  {
   "cell_type": "code",
   "execution_count": 3,
   "metadata": {},
   "outputs": [],
   "source": [
    "df.drop(columns=[\"atm_manufacturer\",\n",
    "                       \"atm_location\",\n",
    "                       \"atm_streetname\",\n",
    "                       \"atm_street_number\",\n",
    "                       \"message_code\",\n",
    "                       \"message_text\",\n",
    "                       \"weather_city_id\",\n",
    "                       \"pressure\",\n",
    "                       \"humidity\",\n",
    "                       \"wind_speed\",\n",
    "                       \"wind_deg\",\n",
    "                       \"rain_3h\", \n",
    "                       \"clouds_all\",\n",
    "                       \"weather_main\",\n",
    "                       \"weekday\",\n",
    "                       \"atm_status\",\n",
    "                       \"weather_lat\",\n",
    "                       \"weather_lon\",\n",
    "                       \"service\",\n",
    "                       \"card_type\",\n",
    "                       \"weather_city_name\",\"atm_lat\", \"atm_lon\",\n",
    "                       \"currency\", \"weather_description\"], axis=1, inplace=True)"
   ]
  },
  {
   "cell_type": "code",
   "execution_count": 4,
   "metadata": {},
   "outputs": [
    {
     "data": {
      "text/plain": [
       "year           0\n",
       "month          0\n",
       "day            0\n",
       "hour           0\n",
       "atm_id         0\n",
       "atm_zipcode    0\n",
       "temp           0\n",
       "weather_id     0\n",
       "dtype: int64"
      ]
     },
     "execution_count": 4,
     "metadata": {},
     "output_type": "execute_result"
    }
   ],
   "source": [
    "df.isnull().sum()"
   ]
  },
  {
   "cell_type": "code",
   "execution_count": 5,
   "metadata": {},
   "outputs": [
    {
     "data": {
      "text/plain": [
       "array(['April', 'June', 'February', 'March', 'July', 'May', 'January'],\n",
       "      dtype=object)"
      ]
     },
     "execution_count": 5,
     "metadata": {},
     "output_type": "execute_result"
    }
   ],
   "source": [
    "df[\"month\"].unique()"
   ]
  },
  {
   "cell_type": "code",
   "execution_count": 6,
   "metadata": {},
   "outputs": [],
   "source": [
    "df[\"month\"] = df[\"month\"].map({\"January\":\"01\",\"February\":\"02\",\"March\":\"03\",\"April\":\"04\", \"May\": \"05\", \"June\": \"06\", \"July\":\"07\"})"
   ]
  },
  {
   "cell_type": "code",
   "execution_count": 7,
   "metadata": {},
   "outputs": [],
   "source": [
    "df[\"date\"] = pd.to_datetime(df[[\"year\", \"month\", \"day\"]])\n",
    "df.drop(columns=[\"year\", \"month\", \"day\"], axis=1, inplace=True)"
   ]
  },
  {
   "cell_type": "markdown",
   "metadata": {},
   "source": [
    "## Weeks Catalog"
   ]
  },
  {
   "cell_type": "code",
   "execution_count": 8,
   "metadata": {},
   "outputs": [
    {
     "data": {
      "text/html": [
       "<div>\n",
       "<style scoped>\n",
       "    .dataframe tbody tr th:only-of-type {\n",
       "        vertical-align: middle;\n",
       "    }\n",
       "\n",
       "    .dataframe tbody tr th {\n",
       "        vertical-align: top;\n",
       "    }\n",
       "\n",
       "    .dataframe thead th {\n",
       "        text-align: right;\n",
       "    }\n",
       "</style>\n",
       "<table border=\"1\" class=\"dataframe\">\n",
       "  <thead>\n",
       "    <tr style=\"text-align: right;\">\n",
       "      <th></th>\n",
       "      <th>hour</th>\n",
       "      <th>atm_id</th>\n",
       "      <th>atm_zipcode</th>\n",
       "      <th>temp</th>\n",
       "      <th>weather_id</th>\n",
       "      <th>date</th>\n",
       "      <th>semana</th>\n",
       "    </tr>\n",
       "  </thead>\n",
       "  <tbody>\n",
       "    <tr>\n",
       "      <th>0</th>\n",
       "      <td>7</td>\n",
       "      <td>8</td>\n",
       "      <td>7870</td>\n",
       "      <td>282.150</td>\n",
       "      <td>500</td>\n",
       "      <td>2017-04-02</td>\n",
       "      <td>201714</td>\n",
       "    </tr>\n",
       "    <tr>\n",
       "      <th>1</th>\n",
       "      <td>20</td>\n",
       "      <td>33</td>\n",
       "      <td>9430</td>\n",
       "      <td>277.269</td>\n",
       "      <td>801</td>\n",
       "      <td>2017-04-24</td>\n",
       "      <td>201717</td>\n",
       "    </tr>\n",
       "    <tr>\n",
       "      <th>2</th>\n",
       "      <td>6</td>\n",
       "      <td>48</td>\n",
       "      <td>9700</td>\n",
       "      <td>287.568</td>\n",
       "      <td>500</td>\n",
       "      <td>2017-06-04</td>\n",
       "      <td>201723</td>\n",
       "    </tr>\n",
       "    <tr>\n",
       "      <th>3</th>\n",
       "      <td>19</td>\n",
       "      <td>65</td>\n",
       "      <td>9280</td>\n",
       "      <td>271.575</td>\n",
       "      <td>800</td>\n",
       "      <td>2017-02-15</td>\n",
       "      <td>201707</td>\n",
       "    </tr>\n",
       "    <tr>\n",
       "      <th>4</th>\n",
       "      <td>13</td>\n",
       "      <td>58</td>\n",
       "      <td>9530</td>\n",
       "      <td>280.150</td>\n",
       "      <td>800</td>\n",
       "      <td>2017-03-23</td>\n",
       "      <td>201712</td>\n",
       "    </tr>\n",
       "  </tbody>\n",
       "</table>\n",
       "</div>"
      ],
      "text/plain": [
       "   hour  atm_id  atm_zipcode     temp  weather_id       date  semana\n",
       "0     7       8         7870  282.150         500 2017-04-02  201714\n",
       "1    20      33         9430  277.269         801 2017-04-24  201717\n",
       "2     6      48         9700  287.568         500 2017-06-04  201723\n",
       "3    19      65         9280  271.575         800 2017-02-15  201707\n",
       "4    13      58         9530  280.150         800 2017-03-23  201712"
      ]
     },
     "execution_count": 8,
     "metadata": {},
     "output_type": "execute_result"
    }
   ],
   "source": [
    "df['semana'] = pd.to_datetime(df['date']).map(lambda x:x.year*100+int(x.strftime('%U')))\n",
    "df.head()"
   ]
  },
  {
   "cell_type": "code",
   "execution_count": 9,
   "metadata": {},
   "outputs": [],
   "source": [
    "catfh = df[['semana']].drop_duplicates().sort_values('semana',ascending=True).reset_index(drop=True)"
   ]
  },
  {
   "cell_type": "code",
   "execution_count": 10,
   "metadata": {},
   "outputs": [],
   "source": [
    "catfh['id_semana'] = catfh.index+1"
   ]
  },
  {
   "cell_type": "code",
   "execution_count": 11,
   "metadata": {},
   "outputs": [],
   "source": [
    "df = df.merge(catfh,on='semana',how='inner')"
   ]
  },
  {
   "cell_type": "code",
   "execution_count": 12,
   "metadata": {},
   "outputs": [],
   "source": [
    "df.drop('semana',axis=1,inplace=True)"
   ]
  },
  {
   "cell_type": "code",
   "execution_count": 13,
   "metadata": {},
   "outputs": [
    {
     "data": {
      "text/html": [
       "<div>\n",
       "<style scoped>\n",
       "    .dataframe tbody tr th:only-of-type {\n",
       "        vertical-align: middle;\n",
       "    }\n",
       "\n",
       "    .dataframe tbody tr th {\n",
       "        vertical-align: top;\n",
       "    }\n",
       "\n",
       "    .dataframe thead th {\n",
       "        text-align: right;\n",
       "    }\n",
       "</style>\n",
       "<table border=\"1\" class=\"dataframe\">\n",
       "  <thead>\n",
       "    <tr style=\"text-align: right;\">\n",
       "      <th></th>\n",
       "      <th>hour</th>\n",
       "      <th>atm_id</th>\n",
       "      <th>atm_zipcode</th>\n",
       "      <th>temp</th>\n",
       "      <th>weather_id</th>\n",
       "      <th>date</th>\n",
       "      <th>id_semana</th>\n",
       "    </tr>\n",
       "  </thead>\n",
       "  <tbody>\n",
       "    <tr>\n",
       "      <th>0</th>\n",
       "      <td>7</td>\n",
       "      <td>8</td>\n",
       "      <td>7870</td>\n",
       "      <td>282.150</td>\n",
       "      <td>500</td>\n",
       "      <td>2017-04-02</td>\n",
       "      <td>14</td>\n",
       "    </tr>\n",
       "    <tr>\n",
       "      <th>1</th>\n",
       "      <td>11</td>\n",
       "      <td>106</td>\n",
       "      <td>4000</td>\n",
       "      <td>283.150</td>\n",
       "      <td>800</td>\n",
       "      <td>2017-04-03</td>\n",
       "      <td>14</td>\n",
       "    </tr>\n",
       "    <tr>\n",
       "      <th>2</th>\n",
       "      <td>8</td>\n",
       "      <td>37</td>\n",
       "      <td>8600</td>\n",
       "      <td>282.450</td>\n",
       "      <td>741</td>\n",
       "      <td>2017-04-02</td>\n",
       "      <td>14</td>\n",
       "    </tr>\n",
       "    <tr>\n",
       "      <th>3</th>\n",
       "      <td>12</td>\n",
       "      <td>37</td>\n",
       "      <td>8600</td>\n",
       "      <td>283.810</td>\n",
       "      <td>802</td>\n",
       "      <td>2017-04-08</td>\n",
       "      <td>14</td>\n",
       "    </tr>\n",
       "    <tr>\n",
       "      <th>4</th>\n",
       "      <td>22</td>\n",
       "      <td>11</td>\n",
       "      <td>9210</td>\n",
       "      <td>282.111</td>\n",
       "      <td>800</td>\n",
       "      <td>2017-04-07</td>\n",
       "      <td>14</td>\n",
       "    </tr>\n",
       "  </tbody>\n",
       "</table>\n",
       "</div>"
      ],
      "text/plain": [
       "   hour  atm_id  atm_zipcode     temp  weather_id       date  id_semana\n",
       "0     7       8         7870  282.150         500 2017-04-02         14\n",
       "1    11     106         4000  283.150         800 2017-04-03         14\n",
       "2     8      37         8600  282.450         741 2017-04-02         14\n",
       "3    12      37         8600  283.810         802 2017-04-08         14\n",
       "4    22      11         9210  282.111         800 2017-04-07         14"
      ]
     },
     "execution_count": 13,
     "metadata": {},
     "output_type": "execute_result"
    }
   ],
   "source": [
    "df.head()"
   ]
  },
  {
   "cell_type": "markdown",
   "metadata": {},
   "source": [
    "## Data Engineering"
   ]
  },
  {
   "cell_type": "code",
   "execution_count": 14,
   "metadata": {},
   "outputs": [
    {
     "data": {
      "text/plain": [
       "(1.0, 31.0)"
      ]
     },
     "execution_count": 14,
     "metadata": {},
     "output_type": "execute_result"
    }
   ],
   "source": [
    "semi,semf = df[['id_semana']].describe().T[['min','max']].values[0].tolist()\n",
    "semi,semf"
   ]
  },
  {
   "cell_type": "code",
   "execution_count": 15,
   "metadata": {},
   "outputs": [
    {
     "data": {
      "text/plain": [
       "(4, 30)"
      ]
     },
     "execution_count": 15,
     "metadata": {},
     "output_type": "execute_result"
    }
   ],
   "source": [
    "vobs = 4\n",
    "vdes = 1\n",
    "anclai = int(semi)+vobs-1\n",
    "anclaf = int(semf)-vdes\n",
    "anclai,anclaf"
   ]
  },
  {
   "cell_type": "code",
   "execution_count": 16,
   "metadata": {},
   "outputs": [],
   "source": [
    "um = ['atm_id', 'ancla']"
   ]
  },
  {
   "cell_type": "code",
   "execution_count": 17,
   "metadata": {},
   "outputs": [],
   "source": [
    "ancla = 4\n",
    "step = 2"
   ]
  },
  {
   "cell_type": "code",
   "execution_count": 18,
   "metadata": {},
   "outputs": [],
   "source": [
    "varc = ['atm_zipcode', \"temp\", \"weather_id\", 'n']\n",
    "vard = ['hour']"
   ]
  },
  {
   "cell_type": "code",
   "execution_count": 19,
   "metadata": {},
   "outputs": [
    {
     "data": {
      "text/plain": [
       "(1026599, 7)"
      ]
     },
     "execution_count": 19,
     "metadata": {},
     "output_type": "execute_result"
    }
   ],
   "source": [
    "df.shape"
   ]
  },
  {
   "cell_type": "code",
   "execution_count": 20,
   "metadata": {},
   "outputs": [],
   "source": [
    "def trans(df,ancla,k):\n",
    "    print(ancla,k)\n",
    "    aux = df.loc[(df['id_semana']>=(ancla-k+1))&(df['id_semana']<=ancla)].reset_index(drop=True)\n",
    "    aux = aux[[ 'id_semana', \"atm_zipcode\", \"temp\", \"weather_id\",'atm_id']]\n",
    "    aux['n'] = 1\n",
    "    \n",
    "    t = aux.copy()\n",
    "    \n",
    "    for v in vard:\n",
    "        t[v] = 'total_%s'%v\n",
    "    aux = pd.concat([aux,t],ignore_index=True)\n",
    "    \n",
    "    def piv(aux,v,ancla):\n",
    "        aux = aux.pivot_table(index='atm_id',\n",
    "                        columns=v,\n",
    "                        values=varc,\n",
    "                        aggfunc=['min','max','mean','sum','std'])\n",
    "        aux.columns = [\"v_%s_\"%v+\"_\".join(x)+\"_%d\"%k for x in aux.columns]\n",
    "        return aux.reset_index().assign(ancla=ancla)\n",
    "    \n",
    "    aux = reduce(lambda x,y:pd.merge(x,y,on=um, how=\"outer\"),map(lambda v:piv(aux,v,ancla),vard))\n",
    "    return aux"
   ]
  },
  {
   "cell_type": "markdown",
   "metadata": {},
   "source": [
    "## Prediction Space (X)"
   ]
  },
  {
   "cell_type": "code",
   "execution_count": 21,
   "metadata": {},
   "outputs": [
    {
     "name": "stdout",
     "output_type": "stream",
     "text": [
      "4 2\n",
      "4 4\n",
      "5 2\n",
      "5 4\n",
      "6 2\n",
      "6 4\n",
      "7 2\n",
      "7 4\n",
      "8 2\n",
      "8 4\n",
      "9 2\n",
      "9 4\n",
      "10 2\n",
      "10 4\n",
      "11 2\n",
      "11 4\n",
      "12 2\n",
      "12 4\n",
      "13 2\n",
      "13 4\n",
      "14 2\n",
      "14 4\n",
      "15 2\n",
      "15 4\n",
      "16 2\n",
      "16 4\n",
      "17 2\n",
      "17 4\n",
      "18 2\n",
      "18 4\n",
      "19 2\n",
      "19 4\n",
      "20 2\n",
      "20 4\n",
      "21 2\n",
      "21 4\n",
      "22 2\n",
      "22 4\n",
      "23 2\n",
      "23 4\n",
      "24 2\n",
      "24 4\n",
      "25 2\n",
      "25 4\n",
      "26 2\n",
      "26 4\n",
      "27 2\n",
      "27 4\n",
      "28 2\n",
      "28 4\n",
      "29 2\n",
      "29 4\n",
      "30 2\n",
      "30 4\n"
     ]
    }
   ],
   "source": [
    "X = pd.concat(map(lambda ancla:reduce(lambda x,y:pd.merge(x,y,on=um,how='outer'),\n",
    "       map(lambda k:trans(df,ancla,k),range(step,vobs+step,step))),range(anclai,anclaf+1)),ignore_index=True)"
   ]
  },
  {
   "cell_type": "code",
   "execution_count": 22,
   "metadata": {},
   "outputs": [
    {
     "data": {
      "text/html": [
       "<div>\n",
       "<style scoped>\n",
       "    .dataframe tbody tr th:only-of-type {\n",
       "        vertical-align: middle;\n",
       "    }\n",
       "\n",
       "    .dataframe tbody tr th {\n",
       "        vertical-align: top;\n",
       "    }\n",
       "\n",
       "    .dataframe thead th {\n",
       "        text-align: right;\n",
       "    }\n",
       "</style>\n",
       "<table border=\"1\" class=\"dataframe\">\n",
       "  <thead>\n",
       "    <tr style=\"text-align: right;\">\n",
       "      <th></th>\n",
       "      <th>atm_id</th>\n",
       "      <th>v_hour_min_atm_zipcode_total_hour_2</th>\n",
       "      <th>v_hour_min_n_total_hour_2</th>\n",
       "      <th>v_hour_min_temp_total_hour_2</th>\n",
       "      <th>v_hour_min_weather_id_total_hour_2</th>\n",
       "      <th>v_hour_max_atm_zipcode_total_hour_2</th>\n",
       "      <th>v_hour_max_n_total_hour_2</th>\n",
       "      <th>v_hour_max_temp_total_hour_2</th>\n",
       "      <th>v_hour_max_weather_id_total_hour_2</th>\n",
       "      <th>v_hour_mean_atm_zipcode_total_hour_2</th>\n",
       "      <th>v_hour_mean_n_total_hour_2</th>\n",
       "      <th>v_hour_mean_temp_total_hour_2</th>\n",
       "      <th>v_hour_mean_weather_id_total_hour_2</th>\n",
       "      <th>v_hour_sum_atm_zipcode_total_hour_2</th>\n",
       "      <th>v_hour_sum_n_total_hour_2</th>\n",
       "      <th>v_hour_sum_temp_total_hour_2</th>\n",
       "      <th>v_hour_sum_weather_id_total_hour_2</th>\n",
       "      <th>v_hour_std_atm_zipcode_total_hour_2</th>\n",
       "      <th>v_hour_std_n_total_hour_2</th>\n",
       "      <th>v_hour_std_temp_total_hour_2</th>\n",
       "      <th>v_hour_std_weather_id_total_hour_2</th>\n",
       "      <th>ancla</th>\n",
       "      <th>v_hour_min_atm_zipcode_total_hour_4</th>\n",
       "      <th>v_hour_min_n_total_hour_4</th>\n",
       "      <th>v_hour_min_temp_total_hour_4</th>\n",
       "      <th>v_hour_min_weather_id_total_hour_4</th>\n",
       "      <th>v_hour_max_atm_zipcode_total_hour_4</th>\n",
       "      <th>v_hour_max_n_total_hour_4</th>\n",
       "      <th>v_hour_max_temp_total_hour_4</th>\n",
       "      <th>v_hour_max_weather_id_total_hour_4</th>\n",
       "      <th>v_hour_mean_atm_zipcode_total_hour_4</th>\n",
       "      <th>v_hour_mean_n_total_hour_4</th>\n",
       "      <th>v_hour_mean_temp_total_hour_4</th>\n",
       "      <th>v_hour_mean_weather_id_total_hour_4</th>\n",
       "      <th>v_hour_sum_atm_zipcode_total_hour_4</th>\n",
       "      <th>v_hour_sum_n_total_hour_4</th>\n",
       "      <th>v_hour_sum_temp_total_hour_4</th>\n",
       "      <th>v_hour_sum_weather_id_total_hour_4</th>\n",
       "      <th>v_hour_std_atm_zipcode_total_hour_4</th>\n",
       "      <th>v_hour_std_n_total_hour_4</th>\n",
       "      <th>v_hour_std_temp_total_hour_4</th>\n",
       "      <th>v_hour_std_weather_id_total_hour_4</th>\n",
       "    </tr>\n",
       "  </thead>\n",
       "  <tbody>\n",
       "    <tr>\n",
       "      <th>0</th>\n",
       "      <td>1</td>\n",
       "      <td>4700.0</td>\n",
       "      <td>1.0</td>\n",
       "      <td>268.15</td>\n",
       "      <td>300.0</td>\n",
       "      <td>4700.0</td>\n",
       "      <td>1.0</td>\n",
       "      <td>280.15</td>\n",
       "      <td>804.0</td>\n",
       "      <td>4700.0</td>\n",
       "      <td>1.0</td>\n",
       "      <td>274.840921</td>\n",
       "      <td>723.954635</td>\n",
       "      <td>4765800.0</td>\n",
       "      <td>1014.0</td>\n",
       "      <td>278688.694</td>\n",
       "      <td>734090.0</td>\n",
       "      <td>0.0</td>\n",
       "      <td>0.0</td>\n",
       "      <td>1.999768</td>\n",
       "      <td>111.909664</td>\n",
       "      <td>4</td>\n",
       "      <td>4700</td>\n",
       "      <td>1</td>\n",
       "      <td>262.15</td>\n",
       "      <td>300</td>\n",
       "      <td>4700</td>\n",
       "      <td>1</td>\n",
       "      <td>281.15</td>\n",
       "      <td>804</td>\n",
       "      <td>4700</td>\n",
       "      <td>1</td>\n",
       "      <td>274.157126</td>\n",
       "      <td>716.691895</td>\n",
       "      <td>9625600</td>\n",
       "      <td>2048</td>\n",
       "      <td>561473.794</td>\n",
       "      <td>1467785</td>\n",
       "      <td>0</td>\n",
       "      <td>0</td>\n",
       "      <td>3.009918</td>\n",
       "      <td>120.953407</td>\n",
       "    </tr>\n",
       "    <tr>\n",
       "      <th>1</th>\n",
       "      <td>2</td>\n",
       "      <td>9000.0</td>\n",
       "      <td>1.0</td>\n",
       "      <td>265.15</td>\n",
       "      <td>300.0</td>\n",
       "      <td>9000.0</td>\n",
       "      <td>1.0</td>\n",
       "      <td>282.15</td>\n",
       "      <td>804.0</td>\n",
       "      <td>9000.0</td>\n",
       "      <td>1.0</td>\n",
       "      <td>276.213095</td>\n",
       "      <td>750.509350</td>\n",
       "      <td>10107000.0</td>\n",
       "      <td>1123.0</td>\n",
       "      <td>310187.306</td>\n",
       "      <td>842822.0</td>\n",
       "      <td>0.0</td>\n",
       "      <td>0.0</td>\n",
       "      <td>2.953571</td>\n",
       "      <td>125.149560</td>\n",
       "      <td>4</td>\n",
       "      <td>9000</td>\n",
       "      <td>1</td>\n",
       "      <td>265.15</td>\n",
       "      <td>300</td>\n",
       "      <td>9000</td>\n",
       "      <td>1</td>\n",
       "      <td>282.15</td>\n",
       "      <td>804</td>\n",
       "      <td>9000</td>\n",
       "      <td>1</td>\n",
       "      <td>275.432361</td>\n",
       "      <td>736.521292</td>\n",
       "      <td>18387000</td>\n",
       "      <td>2043</td>\n",
       "      <td>562708.314</td>\n",
       "      <td>1504713</td>\n",
       "      <td>0</td>\n",
       "      <td>0</td>\n",
       "      <td>3.214996</td>\n",
       "      <td>128.394642</td>\n",
       "    </tr>\n",
       "    <tr>\n",
       "      <th>2</th>\n",
       "      <td>3</td>\n",
       "      <td>7430.0</td>\n",
       "      <td>1.0</td>\n",
       "      <td>263.27</td>\n",
       "      <td>300.0</td>\n",
       "      <td>7430.0</td>\n",
       "      <td>1.0</td>\n",
       "      <td>280.47</td>\n",
       "      <td>804.0</td>\n",
       "      <td>7430.0</td>\n",
       "      <td>1.0</td>\n",
       "      <td>275.634744</td>\n",
       "      <td>747.574371</td>\n",
       "      <td>3246910.0</td>\n",
       "      <td>437.0</td>\n",
       "      <td>120452.383</td>\n",
       "      <td>326690.0</td>\n",
       "      <td>0.0</td>\n",
       "      <td>0.0</td>\n",
       "      <td>3.354481</td>\n",
       "      <td>111.135392</td>\n",
       "      <td>4</td>\n",
       "      <td>7430</td>\n",
       "      <td>1</td>\n",
       "      <td>263.27</td>\n",
       "      <td>300</td>\n",
       "      <td>7430</td>\n",
       "      <td>1</td>\n",
       "      <td>281.15</td>\n",
       "      <td>804</td>\n",
       "      <td>7430</td>\n",
       "      <td>1</td>\n",
       "      <td>275.290038</td>\n",
       "      <td>716.602506</td>\n",
       "      <td>6523540</td>\n",
       "      <td>878</td>\n",
       "      <td>241704.653</td>\n",
       "      <td>629177</td>\n",
       "      <td>0</td>\n",
       "      <td>0</td>\n",
       "      <td>3.495505</td>\n",
       "      <td>147.468104</td>\n",
       "    </tr>\n",
       "    <tr>\n",
       "      <th>3</th>\n",
       "      <td>4</td>\n",
       "      <td>4000.0</td>\n",
       "      <td>1.0</td>\n",
       "      <td>269.77</td>\n",
       "      <td>300.0</td>\n",
       "      <td>4000.0</td>\n",
       "      <td>1.0</td>\n",
       "      <td>281.15</td>\n",
       "      <td>804.0</td>\n",
       "      <td>4000.0</td>\n",
       "      <td>1.0</td>\n",
       "      <td>275.247055</td>\n",
       "      <td>714.300842</td>\n",
       "      <td>3324000.0</td>\n",
       "      <td>831.0</td>\n",
       "      <td>228730.303</td>\n",
       "      <td>593584.0</td>\n",
       "      <td>0.0</td>\n",
       "      <td>0.0</td>\n",
       "      <td>2.072309</td>\n",
       "      <td>139.447891</td>\n",
       "      <td>4</td>\n",
       "      <td>4000</td>\n",
       "      <td>1</td>\n",
       "      <td>263.23</td>\n",
       "      <td>300</td>\n",
       "      <td>4000</td>\n",
       "      <td>1</td>\n",
       "      <td>281.15</td>\n",
       "      <td>804</td>\n",
       "      <td>4000</td>\n",
       "      <td>1</td>\n",
       "      <td>274.370415</td>\n",
       "      <td>706.916010</td>\n",
       "      <td>6096000</td>\n",
       "      <td>1524</td>\n",
       "      <td>418140.513</td>\n",
       "      <td>1077340</td>\n",
       "      <td>0</td>\n",
       "      <td>0</td>\n",
       "      <td>2.860692</td>\n",
       "      <td>142.419892</td>\n",
       "    </tr>\n",
       "    <tr>\n",
       "      <th>4</th>\n",
       "      <td>5</td>\n",
       "      <td>9240.0</td>\n",
       "      <td>1.0</td>\n",
       "      <td>265.15</td>\n",
       "      <td>300.0</td>\n",
       "      <td>9240.0</td>\n",
       "      <td>1.0</td>\n",
       "      <td>282.15</td>\n",
       "      <td>804.0</td>\n",
       "      <td>9240.0</td>\n",
       "      <td>1.0</td>\n",
       "      <td>276.153415</td>\n",
       "      <td>762.686957</td>\n",
       "      <td>4250400.0</td>\n",
       "      <td>460.0</td>\n",
       "      <td>127030.571</td>\n",
       "      <td>350836.0</td>\n",
       "      <td>0.0</td>\n",
       "      <td>0.0</td>\n",
       "      <td>3.016808</td>\n",
       "      <td>111.647408</td>\n",
       "      <td>4</td>\n",
       "      <td>9240</td>\n",
       "      <td>1</td>\n",
       "      <td>265.15</td>\n",
       "      <td>300</td>\n",
       "      <td>9240</td>\n",
       "      <td>1</td>\n",
       "      <td>282.15</td>\n",
       "      <td>804</td>\n",
       "      <td>9240</td>\n",
       "      <td>1</td>\n",
       "      <td>275.353312</td>\n",
       "      <td>738.648746</td>\n",
       "      <td>7733880</td>\n",
       "      <td>837</td>\n",
       "      <td>230470.722</td>\n",
       "      <td>618249</td>\n",
       "      <td>0</td>\n",
       "      <td>0</td>\n",
       "      <td>3.396868</td>\n",
       "      <td>124.855288</td>\n",
       "    </tr>\n",
       "  </tbody>\n",
       "</table>\n",
       "</div>"
      ],
      "text/plain": [
       "   atm_id  v_hour_min_atm_zipcode_total_hour_2  v_hour_min_n_total_hour_2  \\\n",
       "0       1                               4700.0                        1.0   \n",
       "1       2                               9000.0                        1.0   \n",
       "2       3                               7430.0                        1.0   \n",
       "3       4                               4000.0                        1.0   \n",
       "4       5                               9240.0                        1.0   \n",
       "\n",
       "   v_hour_min_temp_total_hour_2  v_hour_min_weather_id_total_hour_2  \\\n",
       "0                        268.15                               300.0   \n",
       "1                        265.15                               300.0   \n",
       "2                        263.27                               300.0   \n",
       "3                        269.77                               300.0   \n",
       "4                        265.15                               300.0   \n",
       "\n",
       "   v_hour_max_atm_zipcode_total_hour_2  v_hour_max_n_total_hour_2  \\\n",
       "0                               4700.0                        1.0   \n",
       "1                               9000.0                        1.0   \n",
       "2                               7430.0                        1.0   \n",
       "3                               4000.0                        1.0   \n",
       "4                               9240.0                        1.0   \n",
       "\n",
       "   v_hour_max_temp_total_hour_2  v_hour_max_weather_id_total_hour_2  \\\n",
       "0                        280.15                               804.0   \n",
       "1                        282.15                               804.0   \n",
       "2                        280.47                               804.0   \n",
       "3                        281.15                               804.0   \n",
       "4                        282.15                               804.0   \n",
       "\n",
       "   v_hour_mean_atm_zipcode_total_hour_2  v_hour_mean_n_total_hour_2  \\\n",
       "0                                4700.0                         1.0   \n",
       "1                                9000.0                         1.0   \n",
       "2                                7430.0                         1.0   \n",
       "3                                4000.0                         1.0   \n",
       "4                                9240.0                         1.0   \n",
       "\n",
       "   v_hour_mean_temp_total_hour_2  v_hour_mean_weather_id_total_hour_2  \\\n",
       "0                     274.840921                           723.954635   \n",
       "1                     276.213095                           750.509350   \n",
       "2                     275.634744                           747.574371   \n",
       "3                     275.247055                           714.300842   \n",
       "4                     276.153415                           762.686957   \n",
       "\n",
       "   v_hour_sum_atm_zipcode_total_hour_2  v_hour_sum_n_total_hour_2  \\\n",
       "0                            4765800.0                     1014.0   \n",
       "1                           10107000.0                     1123.0   \n",
       "2                            3246910.0                      437.0   \n",
       "3                            3324000.0                      831.0   \n",
       "4                            4250400.0                      460.0   \n",
       "\n",
       "   v_hour_sum_temp_total_hour_2  v_hour_sum_weather_id_total_hour_2  \\\n",
       "0                    278688.694                            734090.0   \n",
       "1                    310187.306                            842822.0   \n",
       "2                    120452.383                            326690.0   \n",
       "3                    228730.303                            593584.0   \n",
       "4                    127030.571                            350836.0   \n",
       "\n",
       "   v_hour_std_atm_zipcode_total_hour_2  v_hour_std_n_total_hour_2  \\\n",
       "0                                  0.0                        0.0   \n",
       "1                                  0.0                        0.0   \n",
       "2                                  0.0                        0.0   \n",
       "3                                  0.0                        0.0   \n",
       "4                                  0.0                        0.0   \n",
       "\n",
       "   v_hour_std_temp_total_hour_2  v_hour_std_weather_id_total_hour_2  ancla  \\\n",
       "0                      1.999768                          111.909664      4   \n",
       "1                      2.953571                          125.149560      4   \n",
       "2                      3.354481                          111.135392      4   \n",
       "3                      2.072309                          139.447891      4   \n",
       "4                      3.016808                          111.647408      4   \n",
       "\n",
       "   v_hour_min_atm_zipcode_total_hour_4  v_hour_min_n_total_hour_4  \\\n",
       "0                                 4700                          1   \n",
       "1                                 9000                          1   \n",
       "2                                 7430                          1   \n",
       "3                                 4000                          1   \n",
       "4                                 9240                          1   \n",
       "\n",
       "   v_hour_min_temp_total_hour_4  v_hour_min_weather_id_total_hour_4  \\\n",
       "0                        262.15                                 300   \n",
       "1                        265.15                                 300   \n",
       "2                        263.27                                 300   \n",
       "3                        263.23                                 300   \n",
       "4                        265.15                                 300   \n",
       "\n",
       "   v_hour_max_atm_zipcode_total_hour_4  v_hour_max_n_total_hour_4  \\\n",
       "0                                 4700                          1   \n",
       "1                                 9000                          1   \n",
       "2                                 7430                          1   \n",
       "3                                 4000                          1   \n",
       "4                                 9240                          1   \n",
       "\n",
       "   v_hour_max_temp_total_hour_4  v_hour_max_weather_id_total_hour_4  \\\n",
       "0                        281.15                                 804   \n",
       "1                        282.15                                 804   \n",
       "2                        281.15                                 804   \n",
       "3                        281.15                                 804   \n",
       "4                        282.15                                 804   \n",
       "\n",
       "   v_hour_mean_atm_zipcode_total_hour_4  v_hour_mean_n_total_hour_4  \\\n",
       "0                                  4700                           1   \n",
       "1                                  9000                           1   \n",
       "2                                  7430                           1   \n",
       "3                                  4000                           1   \n",
       "4                                  9240                           1   \n",
       "\n",
       "   v_hour_mean_temp_total_hour_4  v_hour_mean_weather_id_total_hour_4  \\\n",
       "0                     274.157126                           716.691895   \n",
       "1                     275.432361                           736.521292   \n",
       "2                     275.290038                           716.602506   \n",
       "3                     274.370415                           706.916010   \n",
       "4                     275.353312                           738.648746   \n",
       "\n",
       "   v_hour_sum_atm_zipcode_total_hour_4  v_hour_sum_n_total_hour_4  \\\n",
       "0                              9625600                       2048   \n",
       "1                             18387000                       2043   \n",
       "2                              6523540                        878   \n",
       "3                              6096000                       1524   \n",
       "4                              7733880                        837   \n",
       "\n",
       "   v_hour_sum_temp_total_hour_4  v_hour_sum_weather_id_total_hour_4  \\\n",
       "0                    561473.794                             1467785   \n",
       "1                    562708.314                             1504713   \n",
       "2                    241704.653                              629177   \n",
       "3                    418140.513                             1077340   \n",
       "4                    230470.722                              618249   \n",
       "\n",
       "   v_hour_std_atm_zipcode_total_hour_4  v_hour_std_n_total_hour_4  \\\n",
       "0                                    0                          0   \n",
       "1                                    0                          0   \n",
       "2                                    0                          0   \n",
       "3                                    0                          0   \n",
       "4                                    0                          0   \n",
       "\n",
       "   v_hour_std_temp_total_hour_4  v_hour_std_weather_id_total_hour_4  \n",
       "0                      3.009918                          120.953407  \n",
       "1                      3.214996                          128.394642  \n",
       "2                      3.495505                          147.468104  \n",
       "3                      2.860692                          142.419892  \n",
       "4                      3.396868                          124.855288  "
      ]
     },
     "execution_count": 22,
     "metadata": {},
     "output_type": "execute_result"
    }
   ],
   "source": [
    "X.head()"
   ]
  },
  {
   "cell_type": "code",
   "execution_count": 23,
   "metadata": {},
   "outputs": [
    {
     "data": {
      "text/plain": [
       "(2853, 42)"
      ]
     },
     "execution_count": 23,
     "metadata": {},
     "output_type": "execute_result"
    }
   ],
   "source": [
    "X.shape"
   ]
  },
  {
   "cell_type": "code",
   "execution_count": 24,
   "metadata": {},
   "outputs": [],
   "source": [
    "def target(df,ancla,vdes):\n",
    "    aux = df.loc[(df['id_semana']>ancla)&(df['id_semana']<=(ancla+vdes))].reset_index(drop=True).copy()[um[:1]].assign(y=1)\n",
    "    aux = aux.groupby(um[0]).sum()\n",
    "    return aux.assign(ancla=ancla).reset_index()"
   ]
  },
  {
   "cell_type": "code",
   "execution_count": 25,
   "metadata": {},
   "outputs": [
    {
     "data": {
      "text/html": [
       "<div>\n",
       "<style scoped>\n",
       "    .dataframe tbody tr th:only-of-type {\n",
       "        vertical-align: middle;\n",
       "    }\n",
       "\n",
       "    .dataframe tbody tr th {\n",
       "        vertical-align: top;\n",
       "    }\n",
       "\n",
       "    .dataframe thead th {\n",
       "        text-align: right;\n",
       "    }\n",
       "</style>\n",
       "<table border=\"1\" class=\"dataframe\">\n",
       "  <thead>\n",
       "    <tr style=\"text-align: right;\">\n",
       "      <th></th>\n",
       "      <th>atm_id</th>\n",
       "      <th>y</th>\n",
       "      <th>ancla</th>\n",
       "    </tr>\n",
       "  </thead>\n",
       "  <tbody>\n",
       "    <tr>\n",
       "      <th>0</th>\n",
       "      <td>1</td>\n",
       "      <td>766</td>\n",
       "      <td>4</td>\n",
       "    </tr>\n",
       "    <tr>\n",
       "      <th>1</th>\n",
       "      <td>2</td>\n",
       "      <td>742</td>\n",
       "      <td>4</td>\n",
       "    </tr>\n",
       "    <tr>\n",
       "      <th>2</th>\n",
       "      <td>3</td>\n",
       "      <td>281</td>\n",
       "      <td>4</td>\n",
       "    </tr>\n",
       "    <tr>\n",
       "      <th>3</th>\n",
       "      <td>4</td>\n",
       "      <td>367</td>\n",
       "      <td>4</td>\n",
       "    </tr>\n",
       "    <tr>\n",
       "      <th>4</th>\n",
       "      <td>5</td>\n",
       "      <td>279</td>\n",
       "      <td>4</td>\n",
       "    </tr>\n",
       "  </tbody>\n",
       "</table>\n",
       "</div>"
      ],
      "text/plain": [
       "   atm_id    y  ancla\n",
       "0       1  766      4\n",
       "1       2  742      4\n",
       "2       3  281      4\n",
       "3       4  367      4\n",
       "4       5  279      4"
      ]
     },
     "execution_count": 25,
     "metadata": {},
     "output_type": "execute_result"
    }
   ],
   "source": [
    "y= pd.concat(map(lambda ancla: target(df,ancla,vdes),range(anclai,anclaf+1)),ignore_index=True)\n",
    "y.head()"
   ]
  },
  {
   "cell_type": "markdown",
   "metadata": {},
   "source": [
    "## Data Analytic Table Creation"
   ]
  },
  {
   "cell_type": "code",
   "execution_count": 26,
   "metadata": {},
   "outputs": [],
   "source": [
    "tad = X.merge(y,on=um,how='inner')"
   ]
  },
  {
   "cell_type": "code",
   "execution_count": 27,
   "metadata": {},
   "outputs": [
    {
     "data": {
      "text/html": [
       "<div>\n",
       "<style scoped>\n",
       "    .dataframe tbody tr th:only-of-type {\n",
       "        vertical-align: middle;\n",
       "    }\n",
       "\n",
       "    .dataframe tbody tr th {\n",
       "        vertical-align: top;\n",
       "    }\n",
       "\n",
       "    .dataframe thead th {\n",
       "        text-align: right;\n",
       "    }\n",
       "</style>\n",
       "<table border=\"1\" class=\"dataframe\">\n",
       "  <thead>\n",
       "    <tr style=\"text-align: right;\">\n",
       "      <th></th>\n",
       "      <th>atm_id</th>\n",
       "      <th>v_hour_min_atm_zipcode_total_hour_2</th>\n",
       "      <th>v_hour_min_n_total_hour_2</th>\n",
       "      <th>v_hour_min_temp_total_hour_2</th>\n",
       "      <th>v_hour_min_weather_id_total_hour_2</th>\n",
       "      <th>v_hour_max_atm_zipcode_total_hour_2</th>\n",
       "      <th>v_hour_max_n_total_hour_2</th>\n",
       "      <th>v_hour_max_temp_total_hour_2</th>\n",
       "      <th>v_hour_max_weather_id_total_hour_2</th>\n",
       "      <th>v_hour_mean_atm_zipcode_total_hour_2</th>\n",
       "      <th>v_hour_mean_n_total_hour_2</th>\n",
       "      <th>v_hour_mean_temp_total_hour_2</th>\n",
       "      <th>v_hour_mean_weather_id_total_hour_2</th>\n",
       "      <th>v_hour_sum_atm_zipcode_total_hour_2</th>\n",
       "      <th>v_hour_sum_n_total_hour_2</th>\n",
       "      <th>v_hour_sum_temp_total_hour_2</th>\n",
       "      <th>v_hour_sum_weather_id_total_hour_2</th>\n",
       "      <th>v_hour_std_atm_zipcode_total_hour_2</th>\n",
       "      <th>v_hour_std_n_total_hour_2</th>\n",
       "      <th>v_hour_std_temp_total_hour_2</th>\n",
       "      <th>v_hour_std_weather_id_total_hour_2</th>\n",
       "      <th>ancla</th>\n",
       "      <th>v_hour_min_atm_zipcode_total_hour_4</th>\n",
       "      <th>v_hour_min_n_total_hour_4</th>\n",
       "      <th>v_hour_min_temp_total_hour_4</th>\n",
       "      <th>v_hour_min_weather_id_total_hour_4</th>\n",
       "      <th>v_hour_max_atm_zipcode_total_hour_4</th>\n",
       "      <th>v_hour_max_n_total_hour_4</th>\n",
       "      <th>v_hour_max_temp_total_hour_4</th>\n",
       "      <th>v_hour_max_weather_id_total_hour_4</th>\n",
       "      <th>v_hour_mean_atm_zipcode_total_hour_4</th>\n",
       "      <th>v_hour_mean_n_total_hour_4</th>\n",
       "      <th>v_hour_mean_temp_total_hour_4</th>\n",
       "      <th>v_hour_mean_weather_id_total_hour_4</th>\n",
       "      <th>v_hour_sum_atm_zipcode_total_hour_4</th>\n",
       "      <th>v_hour_sum_n_total_hour_4</th>\n",
       "      <th>v_hour_sum_temp_total_hour_4</th>\n",
       "      <th>v_hour_sum_weather_id_total_hour_4</th>\n",
       "      <th>v_hour_std_atm_zipcode_total_hour_4</th>\n",
       "      <th>v_hour_std_n_total_hour_4</th>\n",
       "      <th>v_hour_std_temp_total_hour_4</th>\n",
       "      <th>v_hour_std_weather_id_total_hour_4</th>\n",
       "      <th>y</th>\n",
       "    </tr>\n",
       "  </thead>\n",
       "  <tbody>\n",
       "    <tr>\n",
       "      <th>0</th>\n",
       "      <td>1</td>\n",
       "      <td>4700.0</td>\n",
       "      <td>1.0</td>\n",
       "      <td>268.15</td>\n",
       "      <td>300.0</td>\n",
       "      <td>4700.0</td>\n",
       "      <td>1.0</td>\n",
       "      <td>280.15</td>\n",
       "      <td>804.0</td>\n",
       "      <td>4700.0</td>\n",
       "      <td>1.0</td>\n",
       "      <td>274.840921</td>\n",
       "      <td>723.954635</td>\n",
       "      <td>4765800.0</td>\n",
       "      <td>1014.0</td>\n",
       "      <td>278688.694</td>\n",
       "      <td>734090.0</td>\n",
       "      <td>0.0</td>\n",
       "      <td>0.0</td>\n",
       "      <td>1.999768</td>\n",
       "      <td>111.909664</td>\n",
       "      <td>4</td>\n",
       "      <td>4700</td>\n",
       "      <td>1</td>\n",
       "      <td>262.15</td>\n",
       "      <td>300</td>\n",
       "      <td>4700</td>\n",
       "      <td>1</td>\n",
       "      <td>281.15</td>\n",
       "      <td>804</td>\n",
       "      <td>4700</td>\n",
       "      <td>1</td>\n",
       "      <td>274.157126</td>\n",
       "      <td>716.691895</td>\n",
       "      <td>9625600</td>\n",
       "      <td>2048</td>\n",
       "      <td>561473.794</td>\n",
       "      <td>1467785</td>\n",
       "      <td>0</td>\n",
       "      <td>0</td>\n",
       "      <td>3.009918</td>\n",
       "      <td>120.953407</td>\n",
       "      <td>766</td>\n",
       "    </tr>\n",
       "    <tr>\n",
       "      <th>1</th>\n",
       "      <td>2</td>\n",
       "      <td>9000.0</td>\n",
       "      <td>1.0</td>\n",
       "      <td>265.15</td>\n",
       "      <td>300.0</td>\n",
       "      <td>9000.0</td>\n",
       "      <td>1.0</td>\n",
       "      <td>282.15</td>\n",
       "      <td>804.0</td>\n",
       "      <td>9000.0</td>\n",
       "      <td>1.0</td>\n",
       "      <td>276.213095</td>\n",
       "      <td>750.509350</td>\n",
       "      <td>10107000.0</td>\n",
       "      <td>1123.0</td>\n",
       "      <td>310187.306</td>\n",
       "      <td>842822.0</td>\n",
       "      <td>0.0</td>\n",
       "      <td>0.0</td>\n",
       "      <td>2.953571</td>\n",
       "      <td>125.149560</td>\n",
       "      <td>4</td>\n",
       "      <td>9000</td>\n",
       "      <td>1</td>\n",
       "      <td>265.15</td>\n",
       "      <td>300</td>\n",
       "      <td>9000</td>\n",
       "      <td>1</td>\n",
       "      <td>282.15</td>\n",
       "      <td>804</td>\n",
       "      <td>9000</td>\n",
       "      <td>1</td>\n",
       "      <td>275.432361</td>\n",
       "      <td>736.521292</td>\n",
       "      <td>18387000</td>\n",
       "      <td>2043</td>\n",
       "      <td>562708.314</td>\n",
       "      <td>1504713</td>\n",
       "      <td>0</td>\n",
       "      <td>0</td>\n",
       "      <td>3.214996</td>\n",
       "      <td>128.394642</td>\n",
       "      <td>742</td>\n",
       "    </tr>\n",
       "    <tr>\n",
       "      <th>2</th>\n",
       "      <td>3</td>\n",
       "      <td>7430.0</td>\n",
       "      <td>1.0</td>\n",
       "      <td>263.27</td>\n",
       "      <td>300.0</td>\n",
       "      <td>7430.0</td>\n",
       "      <td>1.0</td>\n",
       "      <td>280.47</td>\n",
       "      <td>804.0</td>\n",
       "      <td>7430.0</td>\n",
       "      <td>1.0</td>\n",
       "      <td>275.634744</td>\n",
       "      <td>747.574371</td>\n",
       "      <td>3246910.0</td>\n",
       "      <td>437.0</td>\n",
       "      <td>120452.383</td>\n",
       "      <td>326690.0</td>\n",
       "      <td>0.0</td>\n",
       "      <td>0.0</td>\n",
       "      <td>3.354481</td>\n",
       "      <td>111.135392</td>\n",
       "      <td>4</td>\n",
       "      <td>7430</td>\n",
       "      <td>1</td>\n",
       "      <td>263.27</td>\n",
       "      <td>300</td>\n",
       "      <td>7430</td>\n",
       "      <td>1</td>\n",
       "      <td>281.15</td>\n",
       "      <td>804</td>\n",
       "      <td>7430</td>\n",
       "      <td>1</td>\n",
       "      <td>275.290038</td>\n",
       "      <td>716.602506</td>\n",
       "      <td>6523540</td>\n",
       "      <td>878</td>\n",
       "      <td>241704.653</td>\n",
       "      <td>629177</td>\n",
       "      <td>0</td>\n",
       "      <td>0</td>\n",
       "      <td>3.495505</td>\n",
       "      <td>147.468104</td>\n",
       "      <td>281</td>\n",
       "    </tr>\n",
       "    <tr>\n",
       "      <th>3</th>\n",
       "      <td>4</td>\n",
       "      <td>4000.0</td>\n",
       "      <td>1.0</td>\n",
       "      <td>269.77</td>\n",
       "      <td>300.0</td>\n",
       "      <td>4000.0</td>\n",
       "      <td>1.0</td>\n",
       "      <td>281.15</td>\n",
       "      <td>804.0</td>\n",
       "      <td>4000.0</td>\n",
       "      <td>1.0</td>\n",
       "      <td>275.247055</td>\n",
       "      <td>714.300842</td>\n",
       "      <td>3324000.0</td>\n",
       "      <td>831.0</td>\n",
       "      <td>228730.303</td>\n",
       "      <td>593584.0</td>\n",
       "      <td>0.0</td>\n",
       "      <td>0.0</td>\n",
       "      <td>2.072309</td>\n",
       "      <td>139.447891</td>\n",
       "      <td>4</td>\n",
       "      <td>4000</td>\n",
       "      <td>1</td>\n",
       "      <td>263.23</td>\n",
       "      <td>300</td>\n",
       "      <td>4000</td>\n",
       "      <td>1</td>\n",
       "      <td>281.15</td>\n",
       "      <td>804</td>\n",
       "      <td>4000</td>\n",
       "      <td>1</td>\n",
       "      <td>274.370415</td>\n",
       "      <td>706.916010</td>\n",
       "      <td>6096000</td>\n",
       "      <td>1524</td>\n",
       "      <td>418140.513</td>\n",
       "      <td>1077340</td>\n",
       "      <td>0</td>\n",
       "      <td>0</td>\n",
       "      <td>2.860692</td>\n",
       "      <td>142.419892</td>\n",
       "      <td>367</td>\n",
       "    </tr>\n",
       "    <tr>\n",
       "      <th>4</th>\n",
       "      <td>5</td>\n",
       "      <td>9240.0</td>\n",
       "      <td>1.0</td>\n",
       "      <td>265.15</td>\n",
       "      <td>300.0</td>\n",
       "      <td>9240.0</td>\n",
       "      <td>1.0</td>\n",
       "      <td>282.15</td>\n",
       "      <td>804.0</td>\n",
       "      <td>9240.0</td>\n",
       "      <td>1.0</td>\n",
       "      <td>276.153415</td>\n",
       "      <td>762.686957</td>\n",
       "      <td>4250400.0</td>\n",
       "      <td>460.0</td>\n",
       "      <td>127030.571</td>\n",
       "      <td>350836.0</td>\n",
       "      <td>0.0</td>\n",
       "      <td>0.0</td>\n",
       "      <td>3.016808</td>\n",
       "      <td>111.647408</td>\n",
       "      <td>4</td>\n",
       "      <td>9240</td>\n",
       "      <td>1</td>\n",
       "      <td>265.15</td>\n",
       "      <td>300</td>\n",
       "      <td>9240</td>\n",
       "      <td>1</td>\n",
       "      <td>282.15</td>\n",
       "      <td>804</td>\n",
       "      <td>9240</td>\n",
       "      <td>1</td>\n",
       "      <td>275.353312</td>\n",
       "      <td>738.648746</td>\n",
       "      <td>7733880</td>\n",
       "      <td>837</td>\n",
       "      <td>230470.722</td>\n",
       "      <td>618249</td>\n",
       "      <td>0</td>\n",
       "      <td>0</td>\n",
       "      <td>3.396868</td>\n",
       "      <td>124.855288</td>\n",
       "      <td>279</td>\n",
       "    </tr>\n",
       "  </tbody>\n",
       "</table>\n",
       "</div>"
      ],
      "text/plain": [
       "   atm_id  v_hour_min_atm_zipcode_total_hour_2  v_hour_min_n_total_hour_2  \\\n",
       "0       1                               4700.0                        1.0   \n",
       "1       2                               9000.0                        1.0   \n",
       "2       3                               7430.0                        1.0   \n",
       "3       4                               4000.0                        1.0   \n",
       "4       5                               9240.0                        1.0   \n",
       "\n",
       "   v_hour_min_temp_total_hour_2  v_hour_min_weather_id_total_hour_2  \\\n",
       "0                        268.15                               300.0   \n",
       "1                        265.15                               300.0   \n",
       "2                        263.27                               300.0   \n",
       "3                        269.77                               300.0   \n",
       "4                        265.15                               300.0   \n",
       "\n",
       "   v_hour_max_atm_zipcode_total_hour_2  v_hour_max_n_total_hour_2  \\\n",
       "0                               4700.0                        1.0   \n",
       "1                               9000.0                        1.0   \n",
       "2                               7430.0                        1.0   \n",
       "3                               4000.0                        1.0   \n",
       "4                               9240.0                        1.0   \n",
       "\n",
       "   v_hour_max_temp_total_hour_2  v_hour_max_weather_id_total_hour_2  \\\n",
       "0                        280.15                               804.0   \n",
       "1                        282.15                               804.0   \n",
       "2                        280.47                               804.0   \n",
       "3                        281.15                               804.0   \n",
       "4                        282.15                               804.0   \n",
       "\n",
       "   v_hour_mean_atm_zipcode_total_hour_2  v_hour_mean_n_total_hour_2  \\\n",
       "0                                4700.0                         1.0   \n",
       "1                                9000.0                         1.0   \n",
       "2                                7430.0                         1.0   \n",
       "3                                4000.0                         1.0   \n",
       "4                                9240.0                         1.0   \n",
       "\n",
       "   v_hour_mean_temp_total_hour_2  v_hour_mean_weather_id_total_hour_2  \\\n",
       "0                     274.840921                           723.954635   \n",
       "1                     276.213095                           750.509350   \n",
       "2                     275.634744                           747.574371   \n",
       "3                     275.247055                           714.300842   \n",
       "4                     276.153415                           762.686957   \n",
       "\n",
       "   v_hour_sum_atm_zipcode_total_hour_2  v_hour_sum_n_total_hour_2  \\\n",
       "0                            4765800.0                     1014.0   \n",
       "1                           10107000.0                     1123.0   \n",
       "2                            3246910.0                      437.0   \n",
       "3                            3324000.0                      831.0   \n",
       "4                            4250400.0                      460.0   \n",
       "\n",
       "   v_hour_sum_temp_total_hour_2  v_hour_sum_weather_id_total_hour_2  \\\n",
       "0                    278688.694                            734090.0   \n",
       "1                    310187.306                            842822.0   \n",
       "2                    120452.383                            326690.0   \n",
       "3                    228730.303                            593584.0   \n",
       "4                    127030.571                            350836.0   \n",
       "\n",
       "   v_hour_std_atm_zipcode_total_hour_2  v_hour_std_n_total_hour_2  \\\n",
       "0                                  0.0                        0.0   \n",
       "1                                  0.0                        0.0   \n",
       "2                                  0.0                        0.0   \n",
       "3                                  0.0                        0.0   \n",
       "4                                  0.0                        0.0   \n",
       "\n",
       "   v_hour_std_temp_total_hour_2  v_hour_std_weather_id_total_hour_2  ancla  \\\n",
       "0                      1.999768                          111.909664      4   \n",
       "1                      2.953571                          125.149560      4   \n",
       "2                      3.354481                          111.135392      4   \n",
       "3                      2.072309                          139.447891      4   \n",
       "4                      3.016808                          111.647408      4   \n",
       "\n",
       "   v_hour_min_atm_zipcode_total_hour_4  v_hour_min_n_total_hour_4  \\\n",
       "0                                 4700                          1   \n",
       "1                                 9000                          1   \n",
       "2                                 7430                          1   \n",
       "3                                 4000                          1   \n",
       "4                                 9240                          1   \n",
       "\n",
       "   v_hour_min_temp_total_hour_4  v_hour_min_weather_id_total_hour_4  \\\n",
       "0                        262.15                                 300   \n",
       "1                        265.15                                 300   \n",
       "2                        263.27                                 300   \n",
       "3                        263.23                                 300   \n",
       "4                        265.15                                 300   \n",
       "\n",
       "   v_hour_max_atm_zipcode_total_hour_4  v_hour_max_n_total_hour_4  \\\n",
       "0                                 4700                          1   \n",
       "1                                 9000                          1   \n",
       "2                                 7430                          1   \n",
       "3                                 4000                          1   \n",
       "4                                 9240                          1   \n",
       "\n",
       "   v_hour_max_temp_total_hour_4  v_hour_max_weather_id_total_hour_4  \\\n",
       "0                        281.15                                 804   \n",
       "1                        282.15                                 804   \n",
       "2                        281.15                                 804   \n",
       "3                        281.15                                 804   \n",
       "4                        282.15                                 804   \n",
       "\n",
       "   v_hour_mean_atm_zipcode_total_hour_4  v_hour_mean_n_total_hour_4  \\\n",
       "0                                  4700                           1   \n",
       "1                                  9000                           1   \n",
       "2                                  7430                           1   \n",
       "3                                  4000                           1   \n",
       "4                                  9240                           1   \n",
       "\n",
       "   v_hour_mean_temp_total_hour_4  v_hour_mean_weather_id_total_hour_4  \\\n",
       "0                     274.157126                           716.691895   \n",
       "1                     275.432361                           736.521292   \n",
       "2                     275.290038                           716.602506   \n",
       "3                     274.370415                           706.916010   \n",
       "4                     275.353312                           738.648746   \n",
       "\n",
       "   v_hour_sum_atm_zipcode_total_hour_4  v_hour_sum_n_total_hour_4  \\\n",
       "0                              9625600                       2048   \n",
       "1                             18387000                       2043   \n",
       "2                              6523540                        878   \n",
       "3                              6096000                       1524   \n",
       "4                              7733880                        837   \n",
       "\n",
       "   v_hour_sum_temp_total_hour_4  v_hour_sum_weather_id_total_hour_4  \\\n",
       "0                    561473.794                             1467785   \n",
       "1                    562708.314                             1504713   \n",
       "2                    241704.653                              629177   \n",
       "3                    418140.513                             1077340   \n",
       "4                    230470.722                              618249   \n",
       "\n",
       "   v_hour_std_atm_zipcode_total_hour_4  v_hour_std_n_total_hour_4  \\\n",
       "0                                    0                          0   \n",
       "1                                    0                          0   \n",
       "2                                    0                          0   \n",
       "3                                    0                          0   \n",
       "4                                    0                          0   \n",
       "\n",
       "   v_hour_std_temp_total_hour_4  v_hour_std_weather_id_total_hour_4    y  \n",
       "0                      3.009918                          120.953407  766  \n",
       "1                      3.214996                          128.394642  742  \n",
       "2                      3.495505                          147.468104  281  \n",
       "3                      2.860692                          142.419892  367  \n",
       "4                      3.396868                          124.855288  279  "
      ]
     },
     "execution_count": 27,
     "metadata": {},
     "output_type": "execute_result"
    }
   ],
   "source": [
    "tad.head()"
   ]
  },
  {
   "cell_type": "markdown",
   "metadata": {},
   "source": [
    "## EDA"
   ]
  },
  {
   "cell_type": "code",
   "execution_count": 28,
   "metadata": {},
   "outputs": [
    {
     "data": {
      "text/plain": [
       "40"
      ]
     },
     "execution_count": 28,
     "metadata": {},
     "output_type": "execute_result"
    }
   ],
   "source": [
    "varc = [v for v in tad.columns if v[:2]=='v_']\n",
    "tgt = 'y'\n",
    "len(varc)"
   ]
  },
  {
   "cell_type": "code",
   "execution_count": 29,
   "metadata": {},
   "outputs": [],
   "source": [
    "miss = 1-tad[varc].describe().T[['count']]/len(tad)"
   ]
  },
  {
   "cell_type": "code",
   "execution_count": 30,
   "metadata": {},
   "outputs": [
    {
     "data": {
      "text/plain": [
       "(40, 40)"
      ]
     },
     "execution_count": 30,
     "metadata": {},
     "output_type": "execute_result"
    }
   ],
   "source": [
    "test = tad[varc]\n",
    "len(test.columns), len(miss)"
   ]
  },
  {
   "cell_type": "code",
   "execution_count": 31,
   "metadata": {},
   "outputs": [
    {
     "data": {
      "text/html": [
       "<div>\n",
       "<style scoped>\n",
       "    .dataframe tbody tr th:only-of-type {\n",
       "        vertical-align: middle;\n",
       "    }\n",
       "\n",
       "    .dataframe tbody tr th {\n",
       "        vertical-align: top;\n",
       "    }\n",
       "\n",
       "    .dataframe thead th {\n",
       "        text-align: right;\n",
       "    }\n",
       "</style>\n",
       "<table border=\"1\" class=\"dataframe\">\n",
       "  <thead>\n",
       "    <tr style=\"text-align: right;\">\n",
       "      <th></th>\n",
       "      <th>count</th>\n",
       "    </tr>\n",
       "  </thead>\n",
       "  <tbody>\n",
       "    <tr>\n",
       "      <th>count</th>\n",
       "      <td>40.000000</td>\n",
       "    </tr>\n",
       "    <tr>\n",
       "      <th>mean</th>\n",
       "      <td>0.000354</td>\n",
       "    </tr>\n",
       "    <tr>\n",
       "      <th>std</th>\n",
       "      <td>0.000358</td>\n",
       "    </tr>\n",
       "    <tr>\n",
       "      <th>min</th>\n",
       "      <td>0.000000</td>\n",
       "    </tr>\n",
       "    <tr>\n",
       "      <th>25%</th>\n",
       "      <td>0.000000</td>\n",
       "    </tr>\n",
       "    <tr>\n",
       "      <th>50%</th>\n",
       "      <td>0.000354</td>\n",
       "    </tr>\n",
       "    <tr>\n",
       "      <th>75%</th>\n",
       "      <td>0.000708</td>\n",
       "    </tr>\n",
       "    <tr>\n",
       "      <th>max</th>\n",
       "      <td>0.000708</td>\n",
       "    </tr>\n",
       "  </tbody>\n",
       "</table>\n",
       "</div>"
      ],
      "text/plain": [
       "           count\n",
       "count  40.000000\n",
       "mean    0.000354\n",
       "std     0.000358\n",
       "min     0.000000\n",
       "25%     0.000000\n",
       "50%     0.000354\n",
       "75%     0.000708\n",
       "max     0.000708"
      ]
     },
     "execution_count": 31,
     "metadata": {},
     "output_type": "execute_result"
    }
   ],
   "source": [
    "miss.describe()"
   ]
  },
  {
   "cell_type": "markdown",
   "metadata": {},
   "source": [
    "## Impute"
   ]
  },
  {
   "cell_type": "code",
   "execution_count": 32,
   "metadata": {},
   "outputs": [],
   "source": [
    "X = tad[varc].copy()"
   ]
  },
  {
   "cell_type": "code",
   "execution_count": 33,
   "metadata": {},
   "outputs": [],
   "source": [
    "im = SimpleImputer(strategy='median')"
   ]
  },
  {
   "cell_type": "code",
   "execution_count": 34,
   "metadata": {},
   "outputs": [
    {
     "data": {
      "text/plain": [
       "SimpleImputer(strategy='median')"
      ]
     },
     "execution_count": 34,
     "metadata": {},
     "output_type": "execute_result"
    }
   ],
   "source": [
    "im.fit(X)"
   ]
  },
  {
   "cell_type": "code",
   "execution_count": 35,
   "metadata": {},
   "outputs": [
    {
     "data": {
      "text/plain": [
       "40"
      ]
     },
     "execution_count": 35,
     "metadata": {},
     "output_type": "execute_result"
    }
   ],
   "source": [
    "Xi = pd.DataFrame(im.transform(X),columns=varc)\n",
    "test = pd.DataFrame(im.transform(X))\n",
    "len(test.columns)"
   ]
  },
  {
   "cell_type": "code",
   "execution_count": 36,
   "metadata": {},
   "outputs": [],
   "source": [
    "ks = pd.DataFrame(map(lambda v: (v,ks_2samp(tad[v].dropna(),Xi[v]).statistic),varc),columns=['variable','ks'])"
   ]
  },
  {
   "cell_type": "code",
   "execution_count": 37,
   "metadata": {},
   "outputs": [
    {
     "data": {
      "text/html": [
       "<div>\n",
       "<style scoped>\n",
       "    .dataframe tbody tr th:only-of-type {\n",
       "        vertical-align: middle;\n",
       "    }\n",
       "\n",
       "    .dataframe tbody tr th {\n",
       "        vertical-align: top;\n",
       "    }\n",
       "\n",
       "    .dataframe thead th {\n",
       "        text-align: right;\n",
       "    }\n",
       "</style>\n",
       "<table border=\"1\" class=\"dataframe\">\n",
       "  <thead>\n",
       "    <tr style=\"text-align: right;\">\n",
       "      <th></th>\n",
       "      <th>variable</th>\n",
       "      <th>ks</th>\n",
       "    </tr>\n",
       "  </thead>\n",
       "  <tbody>\n",
       "  </tbody>\n",
       "</table>\n",
       "</div>"
      ],
      "text/plain": [
       "Empty DataFrame\n",
       "Columns: [variable, ks]\n",
       "Index: []"
      ]
     },
     "execution_count": 37,
     "metadata": {},
     "output_type": "execute_result"
    }
   ],
   "source": [
    "ks.loc[ks['ks']>.1]"
   ]
  },
  {
   "cell_type": "markdown",
   "metadata": {},
   "source": [
    "## Outliers"
   ]
  },
  {
   "cell_type": "code",
   "execution_count": 38,
   "metadata": {},
   "outputs": [],
   "source": [
    "cotas = X.describe(percentiles=[0.01,0.99]).T[['1%','99%']].reset_index().values.tolist()"
   ]
  },
  {
   "cell_type": "code",
   "execution_count": 39,
   "metadata": {},
   "outputs": [],
   "source": [
    "def extremo(df,v,ci,cs):\n",
    "    aux = df[um+[v]].copy()\n",
    "    aux['ol_%s'%v] = ((aux[v]<ci)|(aux[v]>cs)).astype(int)\n",
    "    return aux.drop(v,axis=1)"
   ]
  },
  {
   "cell_type": "code",
   "execution_count": 40,
   "metadata": {},
   "outputs": [],
   "source": [
    "ext = reduce(lambda x,y:pd.merge(x,y,on=um,how='outer'),map(lambda z:extremo(tad,*z),cotas))"
   ]
  },
  {
   "cell_type": "code",
   "execution_count": 41,
   "metadata": {},
   "outputs": [],
   "source": [
    "varol = [v for v in ext if v[:2]=='ol']"
   ]
  },
  {
   "cell_type": "code",
   "execution_count": 42,
   "metadata": {},
   "outputs": [],
   "source": [
    "ext['extremo'] = ext[varol].max(axis=1)"
   ]
  },
  {
   "cell_type": "code",
   "execution_count": 43,
   "metadata": {},
   "outputs": [
    {
     "data": {
      "text/plain": [
       "count    2826.000000\n",
       "mean        0.161713\n",
       "std         0.368252\n",
       "min         0.000000\n",
       "25%         0.000000\n",
       "50%         0.000000\n",
       "75%         0.000000\n",
       "max         1.000000\n",
       "Name: extremo, dtype: float64"
      ]
     },
     "execution_count": 43,
     "metadata": {},
     "output_type": "execute_result"
    }
   ],
   "source": [
    "ext['extremo'].describe()"
   ]
  },
  {
   "cell_type": "markdown",
   "metadata": {},
   "source": [
    "# Modelling"
   ]
  },
  {
   "cell_type": "code",
   "execution_count": 44,
   "metadata": {},
   "outputs": [],
   "source": [
    "y = tad[tgt].copy()"
   ]
  },
  {
   "cell_type": "code",
   "execution_count": 45,
   "metadata": {},
   "outputs": [],
   "source": [
    "Xt,Xv,yt,yv = train_test_split(Xi,y,train_size=0.7)"
   ]
  },
  {
   "cell_type": "code",
   "execution_count": 46,
   "metadata": {},
   "outputs": [],
   "source": [
    "modelo = LinearRegression()"
   ]
  },
  {
   "cell_type": "code",
   "execution_count": 47,
   "metadata": {},
   "outputs": [],
   "source": [
    "hiperparametros=dict(fit_intercept=[True,False],normalize=[True,False])"
   ]
  },
  {
   "cell_type": "code",
   "execution_count": 48,
   "metadata": {},
   "outputs": [],
   "source": [
    "grid = GridSearchCV(param_grid=hiperparametros,\n",
    "                    estimator=modelo,\n",
    "                    cv=10,\n",
    "                    scoring='neg_mean_absolute_error',\n",
    "                    n_jobs=-1,\n",
    "                    verbose=True)"
   ]
  },
  {
   "cell_type": "code",
   "execution_count": 49,
   "metadata": {},
   "outputs": [
    {
     "name": "stdout",
     "output_type": "stream",
     "text": [
      "Fitting 10 folds for each of 4 candidates, totalling 40 fits\n"
     ]
    },
    {
     "name": "stderr",
     "output_type": "stream",
     "text": [
      "[Parallel(n_jobs=-1)]: Using backend LokyBackend with 12 concurrent workers.\n",
      "[Parallel(n_jobs=-1)]: Done  40 out of  40 | elapsed:    1.5s finished\n"
     ]
    },
    {
     "data": {
      "text/plain": [
       "GridSearchCV(cv=10, estimator=LinearRegression(), n_jobs=-1,\n",
       "             param_grid={'fit_intercept': [True, False],\n",
       "                         'normalize': [True, False]},\n",
       "             scoring='neg_mean_absolute_error', verbose=True)"
      ]
     },
     "execution_count": 49,
     "metadata": {},
     "output_type": "execute_result"
    }
   ],
   "source": [
    "grid.fit(Xt,yt)"
   ]
  },
  {
   "cell_type": "code",
   "execution_count": 50,
   "metadata": {},
   "outputs": [],
   "source": [
    "modelo = grid.best_estimator_"
   ]
  },
  {
   "cell_type": "code",
   "execution_count": 51,
   "metadata": {},
   "outputs": [
    {
     "data": {
      "text/plain": [
       "{'fit_intercept': True, 'normalize': False}"
      ]
     },
     "execution_count": 51,
     "metadata": {},
     "output_type": "execute_result"
    }
   ],
   "source": [
    "grid.best_params_"
   ]
  },
  {
   "cell_type": "code",
   "execution_count": 52,
   "metadata": {},
   "outputs": [
    {
     "data": {
      "text/plain": [
       "LinearRegression()"
      ]
     },
     "execution_count": 52,
     "metadata": {},
     "output_type": "execute_result"
    }
   ],
   "source": [
    "modelo.fit(Xt,yt)"
   ]
  },
  {
   "cell_type": "code",
   "execution_count": 53,
   "metadata": {},
   "outputs": [
    {
     "data": {
      "text/plain": [
       "3869.038825407748"
      ]
     },
     "execution_count": 53,
     "metadata": {},
     "output_type": "execute_result"
    }
   ],
   "source": [
    "modelo.intercept_"
   ]
  },
  {
   "cell_type": "code",
   "execution_count": 54,
   "metadata": {},
   "outputs": [
    {
     "name": "stdout",
     "output_type": "stream",
     "text": [
      "60.65243311896848\n",
      "60.10347722040362\n"
     ]
    }
   ],
   "source": [
    "print(mean_absolute_error(y_true=yt,y_pred=modelo.predict(Xt)))\n",
    "print(mean_absolute_error(y_true=yv,y_pred=modelo.predict(Xv)))"
   ]
  },
  {
   "cell_type": "code",
   "execution_count": 55,
   "metadata": {},
   "outputs": [
    {
     "data": {
      "text/plain": [
       "<AxesSubplot:xlabel='y', ylabel='Density'>"
      ]
     },
     "execution_count": 55,
     "metadata": {},
     "output_type": "execute_result"
    },
    {
     "data": {
      "image/png": "[encoded data removed]",
      "text/plain": [
       "<Figure size 432x288 with 1 Axes>"
      ]
     },
     "metadata": {
      "needs_background": "light"
     },
     "output_type": "display_data"
    }
   ],
   "source": [
    "sns.distplot(modelo.predict(Xt),hist=False,kde_kws={'cumulative':True})\n",
    "sns.distplot(yt,hist=False,kde_kws={'cumulative':True})"
   ]
  },
  {
   "cell_type": "code",
   "execution_count": 56,
   "metadata": {},
   "outputs": [
    {
     "data": {
      "text/plain": [
       "<AxesSubplot:xlabel='y', ylabel='Density'>"
      ]
     },
     "execution_count": 56,
     "metadata": {},
     "output_type": "execute_result"
    },
    {
     "data": {
      "image/png": "[encoded data removed]",
      "text/plain": [
       "<Figure size 432x288 with 1 Axes>"
      ]
     },
     "metadata": {
      "needs_background": "light"
     },
     "output_type": "display_data"
    }
   ],
   "source": [
    "sns.distplot(modelo.predict(Xv),hist=False,kde_kws={'cumulative':True})\n",
    "sns.distplot(yv,hist=False,kde_kws={'cumulative':True})"
   ]
  },
  {
   "cell_type": "markdown",
   "metadata": {},
   "source": [
    "# Testing data"
   ]
  },
  {
   "cell_type": "code",
   "execution_count": 57,
   "metadata": {},
   "outputs": [],
   "source": [
    "df_test = pd.read_csv(\"test.csv\")\n",
    "df_test.drop(columns=[\"atm_manufacturer\",\n",
    "                       \"atm_location\",\n",
    "                       \"atm_streetname\",\n",
    "                       \"atm_street_number\",\n",
    "                       \"message_code\",\n",
    "                       \"message_text\",\n",
    "                       \"weather_city_id\",\n",
    "                       \"pressure\",\n",
    "                       \"humidity\",\n",
    "                       \"wind_speed\",\n",
    "                       \"wind_deg\",\n",
    "                       \"rain_3h\", \n",
    "                       \"clouds_all\",\n",
    "                       \"weather_main\",\n",
    "                       \"weekday\",\n",
    "                       \"atm_status\",\n",
    "                       \"weather_lat\",\n",
    "                       \"weather_lon\",\n",
    "                       \"service\",\n",
    "                       \"card_type\",\n",
    "                       \"weather_city_name\",\"atm_lat\", \"atm_lon\",\n",
    "                       \"currency\", \"weather_description\"], axis=1, inplace=True)"
   ]
  },
  {
   "cell_type": "code",
   "execution_count": 58,
   "metadata": {},
   "outputs": [],
   "source": [
    "df_test[\"month\"] = df_test[\"month\"].map({\"January\":\"01\",\"February\":\"02\",\"March\":\"03\",\"April\":\"04\", \"May\": \"05\", \"June\": \"06\", \"July\":\"07\"})"
   ]
  },
  {
   "cell_type": "code",
   "execution_count": 59,
   "metadata": {},
   "outputs": [],
   "source": [
    "df_test[\"date\"] = pd.to_datetime(df_test[[\"year\", \"month\", \"day\"]])\n",
    "df_test.drop(columns=[\"year\", \"month\", \"day\"], axis=1, inplace=True)"
   ]
  },
  {
   "cell_type": "code",
   "execution_count": 60,
   "metadata": {},
   "outputs": [
    {
     "data": {
      "text/html": [
       "<div>\n",
       "<style scoped>\n",
       "    .dataframe tbody tr th:only-of-type {\n",
       "        vertical-align: middle;\n",
       "    }\n",
       "\n",
       "    .dataframe tbody tr th {\n",
       "        vertical-align: top;\n",
       "    }\n",
       "\n",
       "    .dataframe thead th {\n",
       "        text-align: right;\n",
       "    }\n",
       "</style>\n",
       "<table border=\"1\" class=\"dataframe\">\n",
       "  <thead>\n",
       "    <tr style=\"text-align: right;\">\n",
       "      <th></th>\n",
       "      <th>hour</th>\n",
       "      <th>atm_id</th>\n",
       "      <th>atm_zipcode</th>\n",
       "      <th>temp</th>\n",
       "      <th>weather_id</th>\n",
       "      <th>date</th>\n",
       "      <th>semana</th>\n",
       "    </tr>\n",
       "  </thead>\n",
       "  <tbody>\n",
       "    <tr>\n",
       "      <th>0</th>\n",
       "      <td>18</td>\n",
       "      <td>2</td>\n",
       "      <td>9000</td>\n",
       "      <td>274.704</td>\n",
       "      <td>804</td>\n",
       "      <td>2017-02-23</td>\n",
       "      <td>201708</td>\n",
       "    </tr>\n",
       "    <tr>\n",
       "      <th>1</th>\n",
       "      <td>18</td>\n",
       "      <td>79</td>\n",
       "      <td>5500</td>\n",
       "      <td>287.400</td>\n",
       "      <td>501</td>\n",
       "      <td>2017-06-30</td>\n",
       "      <td>201726</td>\n",
       "    </tr>\n",
       "    <tr>\n",
       "      <th>2</th>\n",
       "      <td>16</td>\n",
       "      <td>33</td>\n",
       "      <td>9430</td>\n",
       "      <td>275.322</td>\n",
       "      <td>500</td>\n",
       "      <td>2017-02-01</td>\n",
       "      <td>201705</td>\n",
       "    </tr>\n",
       "    <tr>\n",
       "      <th>3</th>\n",
       "      <td>8</td>\n",
       "      <td>57</td>\n",
       "      <td>3400</td>\n",
       "      <td>280.380</td>\n",
       "      <td>520</td>\n",
       "      <td>2017-04-28</td>\n",
       "      <td>201717</td>\n",
       "    </tr>\n",
       "    <tr>\n",
       "      <th>4</th>\n",
       "      <td>10</td>\n",
       "      <td>29</td>\n",
       "      <td>9000</td>\n",
       "      <td>292.150</td>\n",
       "      <td>800</td>\n",
       "      <td>2017-07-20</td>\n",
       "      <td>201729</td>\n",
       "    </tr>\n",
       "  </tbody>\n",
       "</table>\n",
       "</div>"
      ],
      "text/plain": [
       "   hour  atm_id  atm_zipcode     temp  weather_id       date  semana\n",
       "0    18       2         9000  274.704         804 2017-02-23  201708\n",
       "1    18      79         5500  287.400         501 2017-06-30  201726\n",
       "2    16      33         9430  275.322         500 2017-02-01  201705\n",
       "3     8      57         3400  280.380         520 2017-04-28  201717\n",
       "4    10      29         9000  292.150         800 2017-07-20  201729"
      ]
     },
     "execution_count": 60,
     "metadata": {},
     "output_type": "execute_result"
    }
   ],
   "source": [
    "df_test['semana'] = pd.to_datetime(df_test['date']).map(lambda x:x.year*100+int(x.strftime('%U')))\n",
    "df_test.head()"
   ]
  },
  {
   "cell_type": "code",
   "execution_count": 61,
   "metadata": {},
   "outputs": [],
   "source": [
    "catfh = df_test[['semana']].drop_duplicates().sort_values('semana',ascending=True).reset_index(drop=True)"
   ]
  },
  {
   "cell_type": "code",
   "execution_count": 62,
   "metadata": {},
   "outputs": [],
   "source": [
    "catfh['id_semana'] = catfh.index+1"
   ]
  },
  {
   "cell_type": "code",
   "execution_count": 63,
   "metadata": {},
   "outputs": [],
   "source": [
    "df_test = df_test.merge(catfh,on='semana',how='inner')"
   ]
  },
  {
   "cell_type": "code",
   "execution_count": 64,
   "metadata": {},
   "outputs": [],
   "source": [
    "df_test.drop('semana',axis=1,inplace=True)"
   ]
  },
  {
   "cell_type": "code",
   "execution_count": 65,
   "metadata": {},
   "outputs": [
    {
     "data": {
      "text/html": [
       "<div>\n",
       "<style scoped>\n",
       "    .dataframe tbody tr th:only-of-type {\n",
       "        vertical-align: middle;\n",
       "    }\n",
       "\n",
       "    .dataframe tbody tr th {\n",
       "        vertical-align: top;\n",
       "    }\n",
       "\n",
       "    .dataframe thead th {\n",
       "        text-align: right;\n",
       "    }\n",
       "</style>\n",
       "<table border=\"1\" class=\"dataframe\">\n",
       "  <thead>\n",
       "    <tr style=\"text-align: right;\">\n",
       "      <th></th>\n",
       "      <th>hour</th>\n",
       "      <th>atm_id</th>\n",
       "      <th>atm_zipcode</th>\n",
       "      <th>temp</th>\n",
       "      <th>weather_id</th>\n",
       "      <th>date</th>\n",
       "      <th>id_semana</th>\n",
       "    </tr>\n",
       "  </thead>\n",
       "  <tbody>\n",
       "    <tr>\n",
       "      <th>0</th>\n",
       "      <td>18</td>\n",
       "      <td>2</td>\n",
       "      <td>9000</td>\n",
       "      <td>274.704</td>\n",
       "      <td>804</td>\n",
       "      <td>2017-02-23</td>\n",
       "      <td>8</td>\n",
       "    </tr>\n",
       "    <tr>\n",
       "      <th>1</th>\n",
       "      <td>8</td>\n",
       "      <td>68</td>\n",
       "      <td>7100</td>\n",
       "      <td>274.160</td>\n",
       "      <td>520</td>\n",
       "      <td>2017-02-25</td>\n",
       "      <td>8</td>\n",
       "    </tr>\n",
       "    <tr>\n",
       "      <th>2</th>\n",
       "      <td>19</td>\n",
       "      <td>15</td>\n",
       "      <td>9000</td>\n",
       "      <td>276.209</td>\n",
       "      <td>500</td>\n",
       "      <td>2017-02-25</td>\n",
       "      <td>8</td>\n",
       "    </tr>\n",
       "    <tr>\n",
       "      <th>3</th>\n",
       "      <td>15</td>\n",
       "      <td>64</td>\n",
       "      <td>8700</td>\n",
       "      <td>277.150</td>\n",
       "      <td>800</td>\n",
       "      <td>2017-02-24</td>\n",
       "      <td>8</td>\n",
       "    </tr>\n",
       "    <tr>\n",
       "      <th>4</th>\n",
       "      <td>12</td>\n",
       "      <td>66</td>\n",
       "      <td>8643</td>\n",
       "      <td>280.110</td>\n",
       "      <td>500</td>\n",
       "      <td>2017-02-19</td>\n",
       "      <td>8</td>\n",
       "    </tr>\n",
       "  </tbody>\n",
       "</table>\n",
       "</div>"
      ],
      "text/plain": [
       "   hour  atm_id  atm_zipcode     temp  weather_id       date  id_semana\n",
       "0    18       2         9000  274.704         804 2017-02-23          8\n",
       "1     8      68         7100  274.160         520 2017-02-25          8\n",
       "2    19      15         9000  276.209         500 2017-02-25          8\n",
       "3    15      64         8700  277.150         800 2017-02-24          8\n",
       "4    12      66         8643  280.110         500 2017-02-19          8"
      ]
     },
     "execution_count": 65,
     "metadata": {},
     "output_type": "execute_result"
    }
   ],
   "source": [
    "df_test.head()"
   ]
  },
  {
   "cell_type": "code",
   "execution_count": 66,
   "metadata": {},
   "outputs": [
    {
     "data": {
      "text/plain": [
       "(422142, 7)"
      ]
     },
     "execution_count": 66,
     "metadata": {},
     "output_type": "execute_result"
    }
   ],
   "source": [
    "df_test.shape"
   ]
  },
  {
   "cell_type": "code",
   "execution_count": 67,
   "metadata": {},
   "outputs": [
    {
     "data": {
      "text/plain": [
       "(1.0, 30.0)"
      ]
     },
     "execution_count": 67,
     "metadata": {},
     "output_type": "execute_result"
    }
   ],
   "source": [
    "semi,semf = df_test[['id_semana']].describe().T[['min','max']].values[0].tolist()\n",
    "semi,semf"
   ]
  },
  {
   "cell_type": "code",
   "execution_count": 68,
   "metadata": {},
   "outputs": [
    {
     "data": {
      "text/plain": [
       "(4, 29)"
      ]
     },
     "execution_count": 68,
     "metadata": {},
     "output_type": "execute_result"
    }
   ],
   "source": [
    "vobs = 4\n",
    "vdes = 1\n",
    "anclai = int(semi)+vobs-1\n",
    "anclaf = int(semf)-vdes\n",
    "anclai,anclaf"
   ]
  },
  {
   "cell_type": "code",
   "execution_count": 69,
   "metadata": {},
   "outputs": [],
   "source": [
    "ancla = 4\n",
    "step = 2"
   ]
  },
  {
   "cell_type": "code",
   "execution_count": 70,
   "metadata": {},
   "outputs": [
    {
     "data": {
      "text/plain": [
       "(422142, 7)"
      ]
     },
     "execution_count": 70,
     "metadata": {},
     "output_type": "execute_result"
    }
   ],
   "source": [
    "varc = ['atm_zipcode', \"temp\", \"weather_id\", 'n']\n",
    "vard = ['hour']\n",
    "df_test.shape"
   ]
  },
  {
   "cell_type": "code",
   "execution_count": 71,
   "metadata": {},
   "outputs": [
    {
     "name": "stdout",
     "output_type": "stream",
     "text": [
      "4 2\n",
      "4 4\n",
      "5 2\n",
      "5 4\n",
      "6 2\n",
      "6 4\n",
      "7 2\n",
      "7 4\n",
      "8 2\n",
      "8 4\n",
      "9 2\n",
      "9 4\n",
      "10 2\n",
      "10 4\n",
      "11 2\n",
      "11 4\n",
      "12 2\n",
      "12 4\n",
      "13 2\n",
      "13 4\n",
      "14 2\n",
      "14 4\n",
      "15 2\n",
      "15 4\n",
      "16 2\n",
      "16 4\n",
      "17 2\n",
      "17 4\n",
      "18 2\n",
      "18 4\n",
      "19 2\n",
      "19 4\n",
      "20 2\n",
      "20 4\n",
      "21 2\n",
      "21 4\n",
      "22 2\n",
      "22 4\n",
      "23 2\n",
      "23 4\n",
      "24 2\n",
      "24 4\n",
      "25 2\n",
      "25 4\n",
      "26 2\n",
      "26 4\n",
      "27 2\n",
      "27 4\n",
      "28 2\n",
      "28 4\n",
      "29 2\n",
      "29 4\n"
     ]
    }
   ],
   "source": [
    "X_test = pd.concat(map(lambda ancla:reduce(lambda x,y:pd.merge(x,y,on=um,how='outer'),\n",
    "       map(lambda k:trans(df_test,ancla,k),range(step,vobs+step,step))),range(anclai,anclaf+1)),ignore_index=True)"
   ]
  },
  {
   "cell_type": "code",
   "execution_count": 72,
   "metadata": {},
   "outputs": [
    {
     "data": {
      "text/plain": [
       "Index(['atm_id', 'v_hour_min_atm_zipcode_total_hour_2',\n",
       "       'v_hour_min_n_total_hour_2', 'v_hour_min_temp_total_hour_2',\n",
       "       'v_hour_min_weather_id_total_hour_2',\n",
       "       'v_hour_max_atm_zipcode_total_hour_2', 'v_hour_max_n_total_hour_2',\n",
       "       'v_hour_max_temp_total_hour_2', 'v_hour_max_weather_id_total_hour_2',\n",
       "       'v_hour_mean_atm_zipcode_total_hour_2', 'v_hour_mean_n_total_hour_2',\n",
       "       'v_hour_mean_temp_total_hour_2', 'v_hour_mean_weather_id_total_hour_2',\n",
       "       'v_hour_sum_atm_zipcode_total_hour_2', 'v_hour_sum_n_total_hour_2',\n",
       "       'v_hour_sum_temp_total_hour_2', 'v_hour_sum_weather_id_total_hour_2',\n",
       "       'v_hour_std_atm_zipcode_total_hour_2', 'v_hour_std_n_total_hour_2',\n",
       "       'v_hour_std_temp_total_hour_2', 'v_hour_std_weather_id_total_hour_2',\n",
       "       'ancla', 'v_hour_min_atm_zipcode_total_hour_4',\n",
       "       'v_hour_min_n_total_hour_4', 'v_hour_min_temp_total_hour_4',\n",
       "       'v_hour_min_weather_id_total_hour_4',\n",
       "       'v_hour_max_atm_zipcode_total_hour_4', 'v_hour_max_n_total_hour_4',\n",
       "       'v_hour_max_temp_total_hour_4', 'v_hour_max_weather_id_total_hour_4',\n",
       "       'v_hour_mean_atm_zipcode_total_hour_4', 'v_hour_mean_n_total_hour_4',\n",
       "       'v_hour_mean_temp_total_hour_4', 'v_hour_mean_weather_id_total_hour_4',\n",
       "       'v_hour_sum_atm_zipcode_total_hour_4', 'v_hour_sum_n_total_hour_4',\n",
       "       'v_hour_sum_temp_total_hour_4', 'v_hour_sum_weather_id_total_hour_4',\n",
       "       'v_hour_std_atm_zipcode_total_hour_4', 'v_hour_std_n_total_hour_4',\n",
       "       'v_hour_std_temp_total_hour_4', 'v_hour_std_weather_id_total_hour_4'],\n",
       "      dtype='object')"
      ]
     },
     "execution_count": 72,
     "metadata": {},
     "output_type": "execute_result"
    }
   ],
   "source": [
    "X_test.columns"
   ]
  },
  {
   "cell_type": "code",
   "execution_count": 73,
   "metadata": {},
   "outputs": [],
   "source": [
    "def target(df,ancla,vdes):\n",
    "    aux = df.loc[(df['id_semana']>ancla)&(df['id_semana']<=(ancla+vdes))].reset_index(drop=True).copy()[um[:1]].assign(y=1)\n",
    "    aux = aux.groupby(um[0]).sum()\n",
    "    return aux.assign(ancla=ancla).reset_index()"
   ]
  },
  {
   "cell_type": "code",
   "execution_count": 74,
   "metadata": {},
   "outputs": [
    {
     "data": {
      "text/html": [
       "<div>\n",
       "<style scoped>\n",
       "    .dataframe tbody tr th:only-of-type {\n",
       "        vertical-align: middle;\n",
       "    }\n",
       "\n",
       "    .dataframe tbody tr th {\n",
       "        vertical-align: top;\n",
       "    }\n",
       "\n",
       "    .dataframe thead th {\n",
       "        text-align: right;\n",
       "    }\n",
       "</style>\n",
       "<table border=\"1\" class=\"dataframe\">\n",
       "  <thead>\n",
       "    <tr style=\"text-align: right;\">\n",
       "      <th></th>\n",
       "      <th>atm_id</th>\n",
       "      <th>y</th>\n",
       "      <th>ancla</th>\n",
       "    </tr>\n",
       "  </thead>\n",
       "  <tbody>\n",
       "    <tr>\n",
       "      <th>0</th>\n",
       "      <td>1</td>\n",
       "      <td>349</td>\n",
       "      <td>4</td>\n",
       "    </tr>\n",
       "    <tr>\n",
       "      <th>1</th>\n",
       "      <td>2</td>\n",
       "      <td>335</td>\n",
       "      <td>4</td>\n",
       "    </tr>\n",
       "    <tr>\n",
       "      <th>2</th>\n",
       "      <td>3</td>\n",
       "      <td>142</td>\n",
       "      <td>4</td>\n",
       "    </tr>\n",
       "    <tr>\n",
       "      <th>3</th>\n",
       "      <td>4</td>\n",
       "      <td>153</td>\n",
       "      <td>4</td>\n",
       "    </tr>\n",
       "    <tr>\n",
       "      <th>4</th>\n",
       "      <td>5</td>\n",
       "      <td>119</td>\n",
       "      <td>4</td>\n",
       "    </tr>\n",
       "  </tbody>\n",
       "</table>\n",
       "</div>"
      ],
      "text/plain": [
       "   atm_id    y  ancla\n",
       "0       1  349      4\n",
       "1       2  335      4\n",
       "2       3  142      4\n",
       "3       4  153      4\n",
       "4       5  119      4"
      ]
     },
     "execution_count": 74,
     "metadata": {},
     "output_type": "execute_result"
    }
   ],
   "source": [
    "y= pd.concat(map(lambda ancla: target(df_test,ancla,vdes),range(anclai,anclaf+1)),ignore_index=True)\n",
    "y.head()"
   ]
  },
  {
   "cell_type": "code",
   "execution_count": 75,
   "metadata": {},
   "outputs": [
    {
     "data": {
      "text/plain": [
       "2704"
      ]
     },
     "execution_count": 75,
     "metadata": {},
     "output_type": "execute_result"
    }
   ],
   "source": [
    "len(y)"
   ]
  },
  {
   "cell_type": "code",
   "execution_count": 76,
   "metadata": {},
   "outputs": [],
   "source": [
    "tad = X_test.merge(y,on=um,how='inner')"
   ]
  },
  {
   "cell_type": "code",
   "execution_count": 77,
   "metadata": {},
   "outputs": [
    {
     "data": {
      "text/plain": [
       "40"
      ]
     },
     "execution_count": 77,
     "metadata": {},
     "output_type": "execute_result"
    }
   ],
   "source": [
    "varc = [v for v in tad.columns if v[:2]=='v_']\n",
    "tgt = 'y'\n",
    "len(varc)"
   ]
  },
  {
   "cell_type": "code",
   "execution_count": 78,
   "metadata": {},
   "outputs": [],
   "source": [
    "miss = 1-tad[varc].describe().T[['count']]/len(tad)"
   ]
  },
  {
   "cell_type": "code",
   "execution_count": 79,
   "metadata": {},
   "outputs": [
    {
     "data": {
      "text/plain": [
       "(40, 40)"
      ]
     },
     "execution_count": 79,
     "metadata": {},
     "output_type": "execute_result"
    }
   ],
   "source": [
    "test = tad[varc]\n",
    "len(test.columns), len(miss)"
   ]
  },
  {
   "cell_type": "code",
   "execution_count": 80,
   "metadata": {},
   "outputs": [],
   "source": [
    "X = tad[varc].copy()\n",
    "X = X.replace([np.inf, -np.inf, np.nan], 0)"
   ]
  },
  {
   "cell_type": "code",
   "execution_count": 81,
   "metadata": {},
   "outputs": [
    {
     "data": {
      "text/plain": [
       "(40, 2701)"
      ]
     },
     "execution_count": 81,
     "metadata": {},
     "output_type": "execute_result"
    }
   ],
   "source": [
    "im = SimpleImputer(strategy=\"median\")\n",
    "Xi = pd.DataFrame(im.fit_transform(X),columns=varc)\n",
    "test = pd.DataFrame(im.fit_transform(X))\n",
    "len(test.columns), len(Xi)"
   ]
  },
  {
   "cell_type": "code",
   "execution_count": 82,
   "metadata": {},
   "outputs": [
    {
     "data": {
      "text/plain": [
       "array([225.89079812, 273.6721797 , 146.93520094, ...,  38.78417213,\n",
       "       123.5942158 , 145.39173248])"
      ]
     },
     "execution_count": 82,
     "metadata": {},
     "output_type": "execute_result"
    }
   ],
   "source": [
    "y_pred=modelo.predict(Xi)\n",
    "y_pred"
   ]
  },
  {
   "cell_type": "code",
   "execution_count": 83,
   "metadata": {},
   "outputs": [],
   "source": [
    "y = pd.DataFrame(y_pred)"
   ]
  },
  {
   "cell_type": "code",
   "execution_count": 84,
   "metadata": {},
   "outputs": [
    {
     "data": {
      "text/html": [
       "<div>\n",
       "<style scoped>\n",
       "    .dataframe tbody tr th:only-of-type {\n",
       "        vertical-align: middle;\n",
       "    }\n",
       "\n",
       "    .dataframe tbody tr th {\n",
       "        vertical-align: top;\n",
       "    }\n",
       "\n",
       "    .dataframe thead th {\n",
       "        text-align: right;\n",
       "    }\n",
       "</style>\n",
       "<table border=\"1\" class=\"dataframe\">\n",
       "  <thead>\n",
       "    <tr style=\"text-align: right;\">\n",
       "      <th></th>\n",
       "      <th>0</th>\n",
       "    </tr>\n",
       "  </thead>\n",
       "  <tbody>\n",
       "    <tr>\n",
       "      <th>0</th>\n",
       "      <td>225.890798</td>\n",
       "    </tr>\n",
       "    <tr>\n",
       "      <th>1</th>\n",
       "      <td>273.672180</td>\n",
       "    </tr>\n",
       "    <tr>\n",
       "      <th>2</th>\n",
       "      <td>146.935201</td>\n",
       "    </tr>\n",
       "    <tr>\n",
       "      <th>3</th>\n",
       "      <td>141.220923</td>\n",
       "    </tr>\n",
       "    <tr>\n",
       "      <th>4</th>\n",
       "      <td>134.255751</td>\n",
       "    </tr>\n",
       "    <tr>\n",
       "      <th>...</th>\n",
       "      <td>...</td>\n",
       "    </tr>\n",
       "    <tr>\n",
       "      <th>2696</th>\n",
       "      <td>-0.168989</td>\n",
       "    </tr>\n",
       "    <tr>\n",
       "      <th>2697</th>\n",
       "      <td>81.538878</td>\n",
       "    </tr>\n",
       "    <tr>\n",
       "      <th>2698</th>\n",
       "      <td>38.784172</td>\n",
       "    </tr>\n",
       "    <tr>\n",
       "      <th>2699</th>\n",
       "      <td>123.594216</td>\n",
       "    </tr>\n",
       "    <tr>\n",
       "      <th>2700</th>\n",
       "      <td>145.391732</td>\n",
       "    </tr>\n",
       "  </tbody>\n",
       "</table>\n",
       "<p>2701 rows × 1 columns</p>\n",
       "</div>"
      ],
      "text/plain": [
       "               0\n",
       "0     225.890798\n",
       "1     273.672180\n",
       "2     146.935201\n",
       "3     141.220923\n",
       "4     134.255751\n",
       "...          ...\n",
       "2696   -0.168989\n",
       "2697   81.538878\n",
       "2698   38.784172\n",
       "2699  123.594216\n",
       "2700  145.391732\n",
       "\n",
       "[2701 rows x 1 columns]"
      ]
     },
     "execution_count": 84,
     "metadata": {},
     "output_type": "execute_result"
    }
   ],
   "source": [
    "y"
   ]
  },
  {
   "cell_type": "code",
   "execution_count": 85,
   "metadata": {
    "scrolled": true
   },
   "outputs": [
    {
     "data": {
      "text/plain": [
       "108"
      ]
     },
     "execution_count": 85,
     "metadata": {},
     "output_type": "execute_result"
    }
   ],
   "source": [
    "len(df_test[\"atm_id\"].unique())"
   ]
  },
  {
   "cell_type": "code",
   "execution_count": 86,
   "metadata": {},
   "outputs": [
    {
     "data": {
      "text/plain": [
       "(422142, 7)"
      ]
     },
     "execution_count": 86,
     "metadata": {},
     "output_type": "execute_result"
    }
   ],
   "source": [
    "df_test.shape"
   ]
  },
  {
   "cell_type": "code",
   "execution_count": 88,
   "metadata": {},
   "outputs": [],
   "source": [
    "y.to_csv(\"RINCON_MORALES_DAVID.csv\", header=False, index=False)"
   ]
  },
  {
   "cell_type": "code",
   "execution_count": null,
   "metadata": {},
   "outputs": [],
   "source": []
  }
 ],
 "metadata": {
  "kernelspec": {
   "display_name": "diplo",
   "language": "python",
   "name": "diplo"
  },
  "language_info": {
   "codemirror_mode": {
    "name": "ipython",
    "version": 3
   },
   "file_extension": ".py",
   "mimetype": "text/x-python",
   "name": "python",
   "nbconvert_exporter": "python",
   "pygments_lexer": "ipython3",
   "version": "3.10.7"
  },
  "toc": {
   "base_numbering": 1,
   "nav_menu": {},
   "number_sections": true,
   "sideBar": true,
   "skip_h1_title": false,
   "title_cell": "Table of Contents",
   "title_sidebar": "Contents",
   "toc_cell": false,
   "toc_position": {},
   "toc_section_display": true,
   "toc_window_display": true
  }
 },
 "nbformat": 4,
 "nbformat_minor": 4
}
